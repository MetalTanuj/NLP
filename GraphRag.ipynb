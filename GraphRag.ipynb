{
  "nbformat": 4,
  "nbformat_minor": 0,
  "metadata": {
    "colab": {
      "provenance": []
    },
    "kernelspec": {
      "name": "python3",
      "display_name": "Python 3"
    },
    "language_info": {
      "name": "python"
    },
    "widgets": {
      "application/vnd.jupyter.widget-state+json": {
        "825e983c3e1246769421a37d5efd05be": {
          "model_module": "yfiles-jupyter-graphs",
          "model_name": "GraphModel",
          "model_module_version": "^1.8.1",
          "state": {
            "_context_pane_mapping": [
              {
                "id": "Neighborhood",
                "title": "Neighborhood"
              },
              {
                "id": "Data",
                "title": "Data"
              },
              {
                "id": "Search",
                "title": "Search"
              },
              {
                "id": "About",
                "title": "About"
              }
            ],
            "_data_importer": "neo4j",
            "_directed": true,
            "_dom_classes": [],
            "_edges": [
              {
                "id": 1152922604118474800,
                "start": 1,
                "end": 2,
                "properties": {
                  "label": "CHILD_OF"
                },
                "label": "CHILD_OF",
                "color": "#4CAF50",
                "thickness_factor": 1,
                "directed": true
              },
              {
                "id": 1155174403932160000,
                "start": 1,
                "end": 3,
                "properties": {
                  "label": "CHILD_OF"
                },
                "label": "CHILD_OF",
                "color": "#4CAF50",
                "thickness_factor": 1,
                "directed": true
              },
              {
                "id": 1152925902653358000,
                "start": 1,
                "end": 6,
                "properties": {
                  "label": "DEPOSED_BY"
                },
                "label": "DEPOSED_BY",
                "color": "#F44336",
                "thickness_factor": 1,
                "directed": true
              },
              {
                "id": 1152927002164985900,
                "start": 1,
                "end": 7,
                "properties": {
                  "label": "SUCCEEDED_BY"
                },
                "label": "SUCCEEDED_BY",
                "color": "#607D8B",
                "thickness_factor": 1,
                "directed": true
              },
              {
                "id": 1152928101676613600,
                "start": 1,
                "end": 8,
                "properties": {
                  "label": "ADVISOR_TO"
                },
                "label": "ADVISOR_TO",
                "color": "#673AB7",
                "thickness_factor": 1,
                "directed": true
              },
              {
                "id": 1152929201188241400,
                "start": 1,
                "end": 9,
                "properties": {
                  "label": "MINISTER"
                },
                "label": "MINISTER",
                "color": "#CDDC39",
                "thickness_factor": 1,
                "directed": true
              },
              {
                "id": 1152935798258008000,
                "start": 1,
                "end": 2,
                "properties": {
                  "label": "DAUGHTER"
                },
                "label": "DAUGHTER",
                "color": "#9E9E9E",
                "thickness_factor": 1,
                "directed": true
              },
              {
                "id": 6917569709571310000,
                "start": 1,
                "end": 7,
                "properties": {
                  "label": "SUCCESSOR"
                },
                "label": "SUCCESSOR",
                "color": "#9C27B0",
                "thickness_factor": 1,
                "directed": true
              },
              {
                "id": 6917569709571310000,
                "start": 1,
                "end": 100,
                "properties": {
                  "label": "SUCCESSOR"
                },
                "label": "SUCCESSOR",
                "color": "#9C27B0",
                "thickness_factor": 1,
                "directed": true
              },
              {
                "id": 6917573008106193000,
                "start": 1,
                "end": 78,
                "properties": {
                  "label": "CONTEXT"
                },
                "label": "CONTEXT",
                "color": "#2196F3",
                "thickness_factor": 1,
                "directed": true
              },
              {
                "id": 6917574107617821000,
                "start": 1,
                "end": 79,
                "properties": {
                  "label": "RELATED_TO"
                },
                "label": "RELATED_TO",
                "color": "#4CAF50",
                "thickness_factor": 1,
                "directed": true
              },
              {
                "id": 6917574107617821000,
                "start": 1,
                "end": 80,
                "properties": {
                  "label": "RELATED_TO"
                },
                "label": "RELATED_TO",
                "color": "#4CAF50",
                "thickness_factor": 1,
                "directed": true
              },
              {
                "id": 6917574107617821000,
                "start": 1,
                "end": 81,
                "properties": {
                  "label": "RELATED_TO"
                },
                "label": "RELATED_TO",
                "color": "#4CAF50",
                "thickness_factor": 1,
                "directed": true
              },
              {
                "id": 6917574107617821000,
                "start": 1,
                "end": 82,
                "properties": {
                  "label": "RELATED_TO"
                },
                "label": "RELATED_TO",
                "color": "#4CAF50",
                "thickness_factor": 1,
                "directed": true
              },
              {
                "id": 1153002868467302400,
                "start": 1,
                "end": 71,
                "properties": {
                  "label": "SISTER"
                },
                "label": "SISTER",
                "color": "#F44336",
                "thickness_factor": 1,
                "directed": true
              },
              {
                "id": 6917611491013165000,
                "start": 1,
                "end": 144,
                "properties": {
                  "label": "CROWNED_AT"
                },
                "label": "CROWNED_AT",
                "color": "#607D8B",
                "thickness_factor": 1,
                "directed": true
              },
              {
                "id": 6917612590524793000,
                "start": 1,
                "end": 145,
                "properties": {
                  "label": "LOCATED_IN"
                },
                "label": "LOCATED_IN",
                "color": "#673AB7",
                "thickness_factor": 1,
                "directed": true
              },
              {
                "id": 6917613690036421000,
                "start": 1,
                "end": 146,
                "properties": {
                  "label": "ADVISED_BY"
                },
                "label": "ADVISED_BY",
                "color": "#CDDC39",
                "thickness_factor": 1,
                "directed": true
              },
              {
                "id": 6917616988571304000,
                "start": 1,
                "end": 149,
                "properties": {
                  "label": "ALLOWED_CONTINUATION_OF"
                },
                "label": "ALLOWED_CONTINUATION_OF",
                "color": "#9E9E9E",
                "thickness_factor": 1,
                "directed": true
              },
              {
                "id": 6917618088082932000,
                "start": 1,
                "end": 150,
                "properties": {
                  "label": "RESTORED_INTENTION"
                },
                "label": "RESTORED_INTENTION",
                "color": "#9C27B0",
                "thickness_factor": 1,
                "directed": true
              },
              {
                "id": 6917649973920137000,
                "start": 1,
                "end": 207,
                "properties": {
                  "label": "STARS_IN"
                },
                "label": "STARS_IN",
                "color": "#2196F3",
                "thickness_factor": 1,
                "directed": true
              },
              {
                "id": 6917649973920137000,
                "start": 1,
                "end": 208,
                "properties": {
                  "label": "STARS_IN"
                },
                "label": "STARS_IN",
                "color": "#2196F3",
                "thickness_factor": 1,
                "directed": true
              },
              {
                "id": 6917653272455021000,
                "start": 1,
                "end": 230,
                "properties": {
                  "label": "BROADCAST_ON"
                },
                "label": "BROADCAST_ON",
                "color": "#4CAF50",
                "thickness_factor": 1,
                "directed": true
              },
              {
                "id": 6917653272455021000,
                "start": 1,
                "end": 260,
                "properties": {
                  "label": "BROADCAST_ON"
                },
                "label": "BROADCAST_ON",
                "color": "#4CAF50",
                "thickness_factor": 1,
                "directed": true
              },
              {
                "id": 6917653272455021000,
                "start": 1,
                "end": 453,
                "properties": {
                  "label": "BROADCAST_ON"
                },
                "label": "BROADCAST_ON",
                "color": "#4CAF50",
                "thickness_factor": 1,
                "directed": true
              },
              {
                "id": 6917653272455021000,
                "start": 1,
                "end": 454,
                "properties": {
                  "label": "BROADCAST_ON"
                },
                "label": "BROADCAST_ON",
                "color": "#4CAF50",
                "thickness_factor": 1,
                "directed": true
              },
              {
                "id": 6917653272455021000,
                "start": 1,
                "end": 455,
                "properties": {
                  "label": "BROADCAST_ON"
                },
                "label": "BROADCAST_ON",
                "color": "#4CAF50",
                "thickness_factor": 1,
                "directed": true
              },
              {
                "id": 6917653272455021000,
                "start": 1,
                "end": 456,
                "properties": {
                  "label": "BROADCAST_ON"
                },
                "label": "BROADCAST_ON",
                "color": "#4CAF50",
                "thickness_factor": 1,
                "directed": true
              },
              {
                "id": 6917653272455021000,
                "start": 1,
                "end": 457,
                "properties": {
                  "label": "BROADCAST_ON"
                },
                "label": "BROADCAST_ON",
                "color": "#4CAF50",
                "thickness_factor": 1,
                "directed": true
              },
              {
                "id": 6917653272455021000,
                "start": 1,
                "end": 458,
                "properties": {
                  "label": "BROADCAST_ON"
                },
                "label": "BROADCAST_ON",
                "color": "#4CAF50",
                "thickness_factor": 1,
                "directed": true
              },
              {
                "id": 1153050147467296800,
                "start": 1,
                "end": 137,
                "properties": {
                  "label": "COUSIN"
                },
                "label": "COUSIN",
                "color": "#F44336",
                "thickness_factor": 1,
                "directed": true
              },
              {
                "id": 6917666466594554000,
                "start": 1,
                "end": 446,
                "properties": {
                  "label": "WRITTEN_BY"
                },
                "label": "WRITTEN_BY",
                "color": "#607D8B",
                "thickness_factor": 1,
                "directed": true
              },
              {
                "id": 6917667566106182000,
                "start": 1,
                "end": 447,
                "properties": {
                  "label": "STARS"
                },
                "label": "STARS",
                "color": "#673AB7",
                "thickness_factor": 1,
                "directed": true
              },
              {
                "id": 6917681859757343000,
                "start": 1,
                "end": 287,
                "properties": {
                  "label": "BELONGS_TO"
                },
                "label": "BELONGS_TO",
                "color": "#CDDC39",
                "thickness_factor": 1,
                "directed": true
              },
              {
                "id": 6917743432408498000,
                "start": 1,
                "end": 445,
                "properties": {
                  "label": "DIRECTED"
                },
                "label": "DIRECTED",
                "color": "#9E9E9E",
                "thickness_factor": 1,
                "directed": true
              },
              {
                "id": 6917745631431754000,
                "start": 1,
                "end": 459,
                "properties": {
                  "label": "WON"
                },
                "label": "WON",
                "color": "#9C27B0",
                "thickness_factor": 1,
                "directed": true
              },
              {
                "id": 6917745631431754000,
                "start": 1,
                "end": 460,
                "properties": {
                  "label": "WON"
                },
                "label": "WON",
                "color": "#9C27B0",
                "thickness_factor": 1,
                "directed": true
              },
              {
                "id": 6917745631431754000,
                "start": 1,
                "end": 461,
                "properties": {
                  "label": "WON"
                },
                "label": "WON",
                "color": "#9C27B0",
                "thickness_factor": 1,
                "directed": true
              },
              {
                "id": 6917746730943382000,
                "start": 1,
                "end": 450,
                "properties": {
                  "label": "RELATIONSHIP"
                },
                "label": "RELATIONSHIP",
                "color": "#2196F3",
                "thickness_factor": 1,
                "directed": true
              },
              {
                "id": 6917746730943382000,
                "start": 1,
                "end": 452,
                "properties": {
                  "label": "RELATIONSHIP"
                },
                "label": "RELATIONSHIP",
                "color": "#2196F3",
                "thickness_factor": 1,
                "directed": true
              },
              {
                "id": 6917747830455009000,
                "start": 1,
                "end": 196,
                "properties": {
                  "label": "ADVISOR"
                },
                "label": "ADVISOR",
                "color": "#4CAF50",
                "thickness_factor": 1,
                "directed": true
              },
              {
                "id": 1153141406932402200,
                "start": 1,
                "end": 365,
                "properties": {
                  "label": "SPYMASTER"
                },
                "label": "SPYMASTER",
                "color": "#F44336",
                "thickness_factor": 1,
                "directed": true
              },
              {
                "id": 6917750029478265000,
                "start": 1,
                "end": 450,
                "properties": {
                  "label": "COMMAND"
                },
                "label": "COMMAND",
                "color": "#607D8B",
                "thickness_factor": 1,
                "directed": true
              },
              {
                "id": 6919781926966395000,
                "start": 2,
                "end": 4,
                "properties": {
                  "label": "CHILD_OF"
                },
                "label": "CHILD_OF",
                "color": "#4CAF50",
                "thickness_factor": 1,
                "directed": true
              },
              {
                "id": 1152923703630102500,
                "start": 2,
                "end": 1,
                "properties": {
                  "label": "RESTORED_SUCCESSION"
                },
                "label": "RESTORED_SUCCESSION",
                "color": "#673AB7",
                "thickness_factor": 1,
                "directed": true
              },
              {
                "id": 6917541122268987000,
                "start": 2,
                "end": 5,
                "properties": {
                  "label": "PARENT"
                },
                "label": "PARENT",
                "color": "#CDDC39",
                "thickness_factor": 1,
                "directed": true
              },
              {
                "id": 1155204090746110000,
                "start": 2,
                "end": 4,
                "properties": {
                  "label": "FATHER"
                },
                "label": "FATHER",
                "color": "#9E9E9E",
                "thickness_factor": 1,
                "directed": true
              },
              {
                "id": 1152963286048702500,
                "start": 2,
                "end": 1,
                "properties": {
                  "label": "NAMED_SUCCESSOR"
                },
                "label": "NAMED_SUCCESSOR",
                "color": "#9C27B0",
                "thickness_factor": 1,
                "directed": true
              },
              {
                "id": 6917570809082937000,
                "start": 2,
                "end": 4,
                "properties": {
                  "label": "NAMED_SUCCESSOR"
                },
                "label": "NAMED_SUCCESSOR",
                "color": "#9C27B0",
                "thickness_factor": 1,
                "directed": true
              },
              {
                "id": 6917570809082937000,
                "start": 2,
                "end": 71,
                "properties": {
                  "label": "NAMED_SUCCESSOR"
                },
                "label": "NAMED_SUCCESSOR",
                "color": "#9C27B0",
                "thickness_factor": 1,
                "directed": true
              },
              {
                "id": 1155215085862387700,
                "start": 2,
                "end": 72,
                "properties": {
                  "label": "NAMED_SUCCESSOR"
                },
                "label": "NAMED_SUCCESSOR",
                "color": "#9C27B0",
                "thickness_factor": 1,
                "directed": true
              },
              {
                "id": 1157466885676073000,
                "start": 2,
                "end": 73,
                "properties": {
                  "label": "NAMED_SUCCESSOR"
                },
                "label": "NAMED_SUCCESSOR",
                "color": "#9C27B0",
                "thickness_factor": 1,
                "directed": true
              },
              {
                "id": 1159718685489758200,
                "start": 2,
                "end": 74,
                "properties": {
                  "label": "NAMED_SUCCESSOR"
                },
                "label": "NAMED_SUCCESSOR",
                "color": "#9C27B0",
                "thickness_factor": 1,
                "directed": true
              },
              {
                "id": 1161970485303443500,
                "start": 2,
                "end": 75,
                "properties": {
                  "label": "NAMED_SUCCESSOR"
                },
                "label": "NAMED_SUCCESSOR",
                "color": "#9C27B0",
                "thickness_factor": 1,
                "directed": true
              },
              {
                "id": 6917579605175960000,
                "start": 2,
                "end": 98,
                "properties": {
                  "label": "SON_OF"
                },
                "label": "SON_OF",
                "color": "#2196F3",
                "thickness_factor": 1,
                "directed": true
              },
              {
                "id": 6917587301757354000,
                "start": 2,
                "end": 110,
                "properties": {
                  "label": "CLAIMED_AUTHORITY_OVER"
                },
                "label": "CLAIMED_AUTHORITY_OVER",
                "color": "#4CAF50",
                "thickness_factor": 1,
                "directed": true
              },
              {
                "id": 6917590600292237000,
                "start": 2,
                "end": 113,
                "properties": {
                  "label": "RULER"
                },
                "label": "RULER",
                "color": "#F44336",
                "thickness_factor": 1,
                "directed": true
              },
              {
                "id": 6917599396385260000,
                "start": 2,
                "end": 3,
                "properties": {
                  "label": "MARRIED_TO"
                },
                "label": "MARRIED_TO",
                "color": "#607D8B",
                "thickness_factor": 1,
                "directed": true
              },
              {
                "id": 6917599396385260000,
                "start": 2,
                "end": 123,
                "properties": {
                  "label": "MARRIED_TO"
                },
                "label": "MARRIED_TO",
                "color": "#607D8B",
                "thickness_factor": 1,
                "directed": true
              },
              {
                "id": 6919859992291967000,
                "start": 2,
                "end": 4,
                "properties": {
                  "label": "SUCCESSOR_OF"
                },
                "label": "SUCCESSOR_OF",
                "color": "#673AB7",
                "thickness_factor": 1,
                "directed": true
              },
              {
                "id": 6917614789548048000,
                "start": 2,
                "end": 147,
                "properties": {
                  "label": "BROKE_FROM"
                },
                "label": "BROKE_FROM",
                "color": "#CDDC39",
                "thickness_factor": 1,
                "directed": true
              },
              {
                "id": 1153115018653335600,
                "start": 3,
                "end": 193,
                "properties": {
                  "label": "GRANDMOTHER"
                },
                "label": "GRANDMOTHER",
                "color": "#9E9E9E",
                "thickness_factor": 1,
                "directed": true
              },
              {
                "id": 1152922604118474800,
                "start": 4,
                "end": 2,
                "properties": {
                  "label": "CHILD_OF"
                },
                "label": "CHILD_OF",
                "color": "#4CAF50",
                "thickness_factor": 1,
                "directed": true
              },
              {
                "id": 1152924803141730300,
                "start": 4,
                "end": 1,
                "properties": {
                  "label": "HALF_SIBLING"
                },
                "label": "HALF_SIBLING",
                "color": "#9C27B0",
                "thickness_factor": 1,
                "directed": true
              },
              {
                "id": 6919852295710573000,
                "start": 4,
                "end": 71,
                "properties": {
                  "label": "SIBLING"
                },
                "label": "SIBLING",
                "color": "#2196F3",
                "thickness_factor": 1,
                "directed": true
              },
              {
                "id": 1153000669444046800,
                "start": 4,
                "end": 71,
                "properties": {
                  "label": "SUCCESSOR_OF"
                },
                "label": "SUCCESSOR_OF",
                "color": "#673AB7",
                "thickness_factor": 1,
                "directed": true
              },
              {
                "id": 1152922604118474800,
                "start": 5,
                "end": 2,
                "properties": {
                  "label": "CHILD_OF"
                },
                "label": "CHILD_OF",
                "color": "#4CAF50",
                "thickness_factor": 1,
                "directed": true
              },
              {
                "id": 1152924803141730300,
                "start": 5,
                "end": 1,
                "properties": {
                  "label": "HALF_SIBLING"
                },
                "label": "HALF_SIBLING",
                "color": "#9C27B0",
                "thickness_factor": 1,
                "directed": true
              },
              {
                "id": 6917542221780615000,
                "start": 5,
                "end": 168,
                "properties": {
                  "label": "BORN_AT"
                },
                "label": "BORN_AT",
                "color": "#4CAF50",
                "thickness_factor": 1,
                "directed": true
              },
              {
                "id": 6917584003222471000,
                "start": 5,
                "end": 242,
                "properties": {
                  "label": "DAUGHTER_OF"
                },
                "label": "DAUGHTER_OF",
                "color": "#F44336",
                "thickness_factor": 1,
                "directed": true
              },
              {
                "id": 6917598296873632000,
                "start": 5,
                "end": 234,
                "properties": {
                  "label": "MOTHER_OF"
                },
                "label": "MOTHER_OF",
                "color": "#607D8B",
                "thickness_factor": 1,
                "directed": true
              },
              {
                "id": 1152995171885908000,
                "start": 5,
                "end": 126,
                "properties": {
                  "label": "GODPARENT"
                },
                "label": "GODPARENT",
                "color": "#673AB7",
                "thickness_factor": 1,
                "directed": true
              },
              {
                "id": 1155246971699593200,
                "start": 5,
                "end": 127,
                "properties": {
                  "label": "GODPARENT"
                },
                "label": "GODPARENT",
                "color": "#673AB7",
                "thickness_factor": 1,
                "directed": true
              },
              {
                "id": 1157498771513278500,
                "start": 5,
                "end": 128,
                "properties": {
                  "label": "GODPARENT"
                },
                "label": "GODPARENT",
                "color": "#673AB7",
                "thickness_factor": 1,
                "directed": true
              },
              {
                "id": 1152996271397535700,
                "start": 5,
                "end": 129,
                "properties": {
                  "label": "SPONSOR"
                },
                "label": "SPONSOR",
                "color": "#CDDC39",
                "thickness_factor": 1,
                "directed": true
              },
              {
                "id": 1152997370909163500,
                "start": 5,
                "end": 130,
                "properties": {
                  "label": "GODMOTHER"
                },
                "label": "GODMOTHER",
                "color": "#9E9E9E",
                "thickness_factor": 1,
                "directed": true
              },
              {
                "id": 1152998470420791300,
                "start": 5,
                "end": 131,
                "properties": {
                  "label": "EDUCATOR"
                },
                "label": "EDUCATOR",
                "color": "#9C27B0",
                "thickness_factor": 1,
                "directed": true
              },
              {
                "id": 1152999569932419000,
                "start": 5,
                "end": 133,
                "properties": {
                  "label": "CHAMBERLAIN"
                },
                "label": "CHAMBERLAIN",
                "color": "#2196F3",
                "thickness_factor": 1,
                "directed": true
              },
              {
                "id": 1153051246978924500,
                "start": 5,
                "end": 1,
                "properties": {
                  "label": "SEEKS_PROTECTION"
                },
                "label": "SEEKS_PROTECTION",
                "color": "#4CAF50",
                "thickness_factor": 1,
                "directed": true
              },
              {
                "id": 1153052346490552300,
                "start": 5,
                "end": 98,
                "properties": {
                  "label": "GREAT_GRANDDAUGHTER_OF"
                },
                "label": "GREAT_GRANDDAUGHTER_OF",
                "color": "#F44336",
                "thickness_factor": 1,
                "directed": true
              },
              {
                "id": 6917660969036415000,
                "start": 5,
                "end": 92,
                "properties": {
                  "label": "GRANDDAUGHTER_OF"
                },
                "label": "GRANDDAUGHTER_OF",
                "color": "#607D8B",
                "thickness_factor": 1,
                "directed": true
              },
              {
                "id": 6917663168059671000,
                "start": 5,
                "end": 243,
                "properties": {
                  "label": "EXECUTED_AT"
                },
                "label": "EXECUTED_AT",
                "color": "#673AB7",
                "thickness_factor": 1,
                "directed": true
              },
              {
                "id": 1153056744537063400,
                "start": 5,
                "end": 1,
                "properties": {
                  "label": "RIVAL"
                },
                "label": "RIVAL",
                "color": "#CDDC39",
                "thickness_factor": 1,
                "directed": true
              },
              {
                "id": 1152972082141724700,
                "start": 9,
                "end": 356,
                "properties": {
                  "label": "SON_OF"
                },
                "label": "SON_OF",
                "color": "#2196F3",
                "thickness_factor": 1,
                "directed": true
              },
              {
                "id": 1153020460653346800,
                "start": 9,
                "end": 354,
                "properties": {
                  "label": "EXILED_IN"
                },
                "label": "EXILED_IN",
                "color": "#9E9E9E",
                "thickness_factor": 1,
                "directed": true
              },
              {
                "id": 1155272260467032000,
                "start": 9,
                "end": 355,
                "properties": {
                  "label": "EXILED_IN"
                },
                "label": "EXILED_IN",
                "color": "#9E9E9E",
                "thickness_factor": 1,
                "directed": true
              },
              {
                "id": 1153080933792874500,
                "start": 9,
                "end": 352,
                "properties": {
                  "label": "PRINCIPAL_SECRETARY"
                },
                "label": "PRINCIPAL_SECRETARY",
                "color": "#9C27B0",
                "thickness_factor": 1,
                "directed": true
              },
              {
                "id": 1153082033304502300,
                "start": 9,
                "end": 353,
                "properties": {
                  "label": "ATTENDED"
                },
                "label": "ATTENDED",
                "color": "#2196F3",
                "thickness_factor": 1,
                "directed": true
              },
              {
                "id": 1153085331839385600,
                "start": 9,
                "end": 361,
                "properties": {
                  "label": "SIBLING_IN_LAW"
                },
                "label": "SIBLING_IN_LAW",
                "color": "#4CAF50",
                "thickness_factor": 1,
                "directed": true
              },
              {
                "id": 1155337131653070800,
                "start": 9,
                "end": 362,
                "properties": {
                  "label": "SIBLING_IN_LAW"
                },
                "label": "SIBLING_IN_LAW",
                "color": "#4CAF50",
                "thickness_factor": 1,
                "directed": true
              },
              {
                "id": 1152930300699869200,
                "start": 11,
                "end": 12,
                "properties": {
                  "label": "SUPPORTS"
                },
                "label": "SUPPORTS",
                "color": "#F44336",
                "thickness_factor": 1,
                "directed": true
              },
              {
                "id": 1155182100513554400,
                "start": 11,
                "end": 13,
                "properties": {
                  "label": "SUPPORTS"
                },
                "label": "SUPPORTS",
                "color": "#F44336",
                "thickness_factor": 1,
                "directed": true
              },
              {
                "id": 1157433900327239700,
                "start": 11,
                "end": 14,
                "properties": {
                  "label": "SUPPORTS"
                },
                "label": "SUPPORTS",
                "color": "#F44336",
                "thickness_factor": 1,
                "directed": true
              },
              {
                "id": 1159685700140925000,
                "start": 11,
                "end": 15,
                "properties": {
                  "label": "SUPPORTS"
                },
                "label": "SUPPORTS",
                "color": "#F44336",
                "thickness_factor": 1,
                "directed": true
              },
              {
                "id": 1152931400211497000,
                "start": 11,
                "end": 16,
                "properties": {
                  "label": "FAMOUS_FOR"
                },
                "label": "FAMOUS_FOR",
                "color": "#607D8B",
                "thickness_factor": 1,
                "directed": true
              },
              {
                "id": 1155183200025182200,
                "start": 11,
                "end": 17,
                "properties": {
                  "label": "FAMOUS_FOR"
                },
                "label": "FAMOUS_FOR",
                "color": "#607D8B",
                "thickness_factor": 1,
                "directed": true
              },
              {
                "id": 1157434999838867500,
                "start": 11,
                "end": 18,
                "properties": {
                  "label": "FAMOUS_FOR"
                },
                "label": "FAMOUS_FOR",
                "color": "#607D8B",
                "thickness_factor": 1,
                "directed": true
              },
              {
                "id": 1159686799652552700,
                "start": 11,
                "end": 19,
                "properties": {
                  "label": "FAMOUS_FOR"
                },
                "label": "FAMOUS_FOR",
                "color": "#607D8B",
                "thickness_factor": 1,
                "directed": true
              },
              {
                "id": 1152932499723124700,
                "start": 11,
                "end": 20,
                "properties": {
                  "label": "DEFEAT"
                },
                "label": "DEFEAT",
                "color": "#673AB7",
                "thickness_factor": 1,
                "directed": true
              },
              {
                "id": 1155185399048437800,
                "start": 11,
                "end": 3,
                "properties": {
                  "label": "PARENT"
                },
                "label": "PARENT",
                "color": "#CDDC39",
                "thickness_factor": 1,
                "directed": true
              },
              {
                "id": 1152933599234752500,
                "start": 11,
                "end": 21,
                "properties": {
                  "label": "PARENT"
                },
                "label": "PARENT",
                "color": "#CDDC39",
                "thickness_factor": 1,
                "directed": true
              },
              {
                "id": 6917541122268987000,
                "start": 11,
                "end": 25,
                "properties": {
                  "label": "PARENT"
                },
                "label": "PARENT",
                "color": "#CDDC39",
                "thickness_factor": 1,
                "directed": true
              },
              {
                "id": 6917541122268987000,
                "start": 11,
                "end": 43,
                "properties": {
                  "label": "PARENT"
                },
                "label": "PARENT",
                "color": "#CDDC39",
                "thickness_factor": 1,
                "directed": true
              },
              {
                "id": 1152934698746380300,
                "start": 11,
                "end": 22,
                "properties": {
                  "label": "BORN_AT"
                },
                "label": "BORN_AT",
                "color": "#4CAF50",
                "thickness_factor": 1,
                "directed": true
              },
              {
                "id": 6917542221780615000,
                "start": 11,
                "end": 498,
                "properties": {
                  "label": "BORN_AT"
                },
                "label": "BORN_AT",
                "color": "#4CAF50",
                "thickness_factor": 1,
                "directed": true
              },
              {
                "id": 6917542221780616000,
                "start": 11,
                "end": 752,
                "properties": {
                  "label": "BORN_AT"
                },
                "label": "BORN_AT",
                "color": "#4CAF50",
                "thickness_factor": 1,
                "directed": true
              },
              {
                "id": 6917542221780616000,
                "start": 11,
                "end": 753,
                "properties": {
                  "label": "BORN_AT"
                },
                "label": "BORN_AT",
                "color": "#4CAF50",
                "thickness_factor": 1,
                "directed": true
              },
              {
                "id": 6917542221780616000,
                "start": 11,
                "end": 754,
                "properties": {
                  "label": "BORN_AT"
                },
                "label": "BORN_AT",
                "color": "#4CAF50",
                "thickness_factor": 1,
                "directed": true
              },
              {
                "id": 6917554316408521000,
                "start": 11,
                "end": 45,
                "properties": {
                  "label": "MEMBER_OF"
                },
                "label": "MEMBER_OF",
                "color": "#CDDC39",
                "thickness_factor": 1,
                "directed": true
              },
              {
                "id": 6917555415920148000,
                "start": 11,
                "end": 46,
                "properties": {
                  "label": "REIGN_OVER"
                },
                "label": "REIGN_OVER",
                "color": "#9E9E9E",
                "thickness_factor": 1,
                "directed": true
              },
              {
                "id": 6917569709571310000,
                "start": 11,
                "end": 117,
                "properties": {
                  "label": "SUCCESSOR"
                },
                "label": "SUCCESSOR",
                "color": "#9C27B0",
                "thickness_factor": 1,
                "directed": true
              },
              {
                "id": 6917574107617821000,
                "start": 11,
                "end": 153,
                "properties": {
                  "label": "RELATED_TO"
                },
                "label": "RELATED_TO",
                "color": "#4CAF50",
                "thickness_factor": 1,
                "directed": true
              },
              {
                "id": 6917613690036421000,
                "start": 11,
                "end": 253,
                "properties": {
                  "label": "ADVISED_BY"
                },
                "label": "ADVISED_BY",
                "color": "#CDDC39",
                "thickness_factor": 1,
                "directed": true
              },
              {
                "id": 6917619187594560000,
                "start": 11,
                "end": 152,
                "properties": {
                  "label": "CONSULTS"
                },
                "label": "CONSULTS",
                "color": "#9C27B0",
                "thickness_factor": 1,
                "directed": true
              },
              {
                "id": 6917620287106187000,
                "start": 11,
                "end": 144,
                "properties": {
                  "label": "PART_OF_CORONATION"
                },
                "label": "PART_OF_CORONATION",
                "color": "#2196F3",
                "thickness_factor": 1,
                "directed": true
              },
              {
                "id": 6917620287106187000,
                "start": 11,
                "end": 154,
                "properties": {
                  "label": "PART_OF_CORONATION"
                },
                "label": "PART_OF_CORONATION",
                "color": "#2196F3",
                "thickness_factor": 1,
                "directed": true
              },
              {
                "id": 6917620287106187000,
                "start": 11,
                "end": 155,
                "properties": {
                  "label": "PART_OF_CORONATION"
                },
                "label": "PART_OF_CORONATION",
                "color": "#2196F3",
                "thickness_factor": 1,
                "directed": true
              },
              {
                "id": 6917620287106187000,
                "start": 11,
                "end": 156,
                "properties": {
                  "label": "PART_OF_CORONATION"
                },
                "label": "PART_OF_CORONATION",
                "color": "#2196F3",
                "thickness_factor": 1,
                "directed": true
              },
              {
                "id": 6917643376850371000,
                "start": 11,
                "end": 195,
                "properties": {
                  "label": "SUITOR"
                },
                "label": "SUITOR",
                "color": "#4CAF50",
                "thickness_factor": 1,
                "directed": true
              },
              {
                "id": 6917645575873626000,
                "start": 11,
                "end": 8,
                "properties": {
                  "label": "SUPPORTER"
                },
                "label": "SUPPORTER",
                "color": "#F44336",
                "thickness_factor": 1,
                "directed": true
              },
              {
                "id": 6917645575873626000,
                "start": 11,
                "end": 197,
                "properties": {
                  "label": "SUPPORTER"
                },
                "label": "SUPPORTER",
                "color": "#F44336",
                "thickness_factor": 1,
                "directed": true
              },
              {
                "id": 6917646675385254000,
                "start": 11,
                "end": 9,
                "properties": {
                  "label": "OPPOSER"
                },
                "label": "OPPOSER",
                "color": "#607D8B",
                "thickness_factor": 1,
                "directed": true
              },
              {
                "id": 6917646675385254000,
                "start": 11,
                "end": 199,
                "properties": {
                  "label": "OPPOSER"
                },
                "label": "OPPOSER",
                "color": "#607D8B",
                "thickness_factor": 1,
                "directed": true
              },
              {
                "id": 6917665367082926000,
                "start": 11,
                "end": 245,
                "properties": {
                  "label": "DIRECTED_BY"
                },
                "label": "DIRECTED_BY",
                "color": "#673AB7",
                "thickness_factor": 1,
                "directed": true
              },
              {
                "id": 6917666466594554000,
                "start": 11,
                "end": 246,
                "properties": {
                  "label": "WRITTEN_BY"
                },
                "label": "WRITTEN_BY",
                "color": "#607D8B",
                "thickness_factor": 1,
                "directed": true
              },
              {
                "id": 6917667566106182000,
                "start": 11,
                "end": 247,
                "properties": {
                  "label": "STARS"
                },
                "label": "STARS",
                "color": "#673AB7",
                "thickness_factor": 1,
                "directed": true
              },
              {
                "id": 6917667566106182000,
                "start": 11,
                "end": 248,
                "properties": {
                  "label": "STARS"
                },
                "label": "STARS",
                "color": "#673AB7",
                "thickness_factor": 1,
                "directed": true
              },
              {
                "id": 6917667566106182000,
                "start": 11,
                "end": 249,
                "properties": {
                  "label": "STARS"
                },
                "label": "STARS",
                "color": "#673AB7",
                "thickness_factor": 1,
                "directed": true
              },
              {
                "id": 6917667566106182000,
                "start": 11,
                "end": 250,
                "properties": {
                  "label": "STARS"
                },
                "label": "STARS",
                "color": "#673AB7",
                "thickness_factor": 1,
                "directed": true
              },
              {
                "id": 6917667566106182000,
                "start": 11,
                "end": 251,
                "properties": {
                  "label": "STARS"
                },
                "label": "STARS",
                "color": "#673AB7",
                "thickness_factor": 1,
                "directed": true
              },
              {
                "id": 6917667566106182000,
                "start": 11,
                "end": 252,
                "properties": {
                  "label": "STARS"
                },
                "label": "STARS",
                "color": "#673AB7",
                "thickness_factor": 1,
                "directed": true
              },
              {
                "id": 1153062242095202300,
                "start": 11,
                "end": 71,
                "properties": {
                  "label": "REPLACED"
                },
                "label": "REPLACED",
                "color": "#CDDC39",
                "thickness_factor": 1,
                "directed": true
              },
              {
                "id": 6917670864641065000,
                "start": 11,
                "end": 254,
                "properties": {
                  "label": "CONFLICTS_WITH"
                },
                "label": "CONFLICTS_WITH",
                "color": "#9E9E9E",
                "thickness_factor": 1,
                "directed": true
              },
              {
                "id": 6917687357315482000,
                "start": 11,
                "end": 247,
                "properties": {
                  "label": "PORTRAYED_BY"
                },
                "label": "PORTRAYED_BY",
                "color": "#9C27B0",
                "thickness_factor": 1,
                "directed": true
              },
              {
                "id": 6917687357315482000,
                "start": 11,
                "end": 331,
                "properties": {
                  "label": "PORTRAYED_BY"
                },
                "label": "PORTRAYED_BY",
                "color": "#9C27B0",
                "thickness_factor": 1,
                "directed": true
              },
              {
                "id": 6917687357315482000,
                "start": 11,
                "end": 332,
                "properties": {
                  "label": "PORTRAYED_BY"
                },
                "label": "PORTRAYED_BY",
                "color": "#9C27B0",
                "thickness_factor": 1,
                "directed": true
              },
              {
                "id": 6917687357315482000,
                "start": 11,
                "end": 333,
                "properties": {
                  "label": "PORTRAYED_BY"
                },
                "label": "PORTRAYED_BY",
                "color": "#9C27B0",
                "thickness_factor": 1,
                "directed": true
              },
              {
                "id": 6917687357315482000,
                "start": 11,
                "end": 334,
                "properties": {
                  "label": "PORTRAYED_BY"
                },
                "label": "PORTRAYED_BY",
                "color": "#9C27B0",
                "thickness_factor": 1,
                "directed": true
              },
              {
                "id": 6917687357315482000,
                "start": 11,
                "end": 335,
                "properties": {
                  "label": "PORTRAYED_BY"
                },
                "label": "PORTRAYED_BY",
                "color": "#9C27B0",
                "thickness_factor": 1,
                "directed": true
              },
              {
                "id": 6917687357315482000,
                "start": 11,
                "end": 336,
                "properties": {
                  "label": "PORTRAYED_BY"
                },
                "label": "PORTRAYED_BY",
                "color": "#9C27B0",
                "thickness_factor": 1,
                "directed": true
              },
              {
                "id": 6917687357315482000,
                "start": 11,
                "end": 337,
                "properties": {
                  "label": "PORTRAYED_BY"
                },
                "label": "PORTRAYED_BY",
                "color": "#9C27B0",
                "thickness_factor": 1,
                "directed": true
              },
              {
                "id": 6917687357315482000,
                "start": 11,
                "end": 338,
                "properties": {
                  "label": "PORTRAYED_BY"
                },
                "label": "PORTRAYED_BY",
                "color": "#9C27B0",
                "thickness_factor": 1,
                "directed": true
              },
              {
                "id": 6917687357315482000,
                "start": 11,
                "end": 339,
                "properties": {
                  "label": "PORTRAYED_BY"
                },
                "label": "PORTRAYED_BY",
                "color": "#9C27B0",
                "thickness_factor": 1,
                "directed": true
              },
              {
                "id": 6917687357315482000,
                "start": 11,
                "end": 340,
                "properties": {
                  "label": "PORTRAYED_BY"
                },
                "label": "PORTRAYED_BY",
                "color": "#9C27B0",
                "thickness_factor": 1,
                "directed": true
              },
              {
                "id": 6917687357315482000,
                "start": 11,
                "end": 341,
                "properties": {
                  "label": "PORTRAYED_BY"
                },
                "label": "PORTRAYED_BY",
                "color": "#9C27B0",
                "thickness_factor": 1,
                "directed": true
              },
              {
                "id": 6917687357315482000,
                "start": 11,
                "end": 342,
                "properties": {
                  "label": "PORTRAYED_BY"
                },
                "label": "PORTRAYED_BY",
                "color": "#9C27B0",
                "thickness_factor": 1,
                "directed": true
              },
              {
                "id": 6917687357315482000,
                "start": 11,
                "end": 343,
                "properties": {
                  "label": "PORTRAYED_BY"
                },
                "label": "PORTRAYED_BY",
                "color": "#9C27B0",
                "thickness_factor": 1,
                "directed": true
              },
              {
                "id": 6917687357315482000,
                "start": 11,
                "end": 344,
                "properties": {
                  "label": "PORTRAYED_BY"
                },
                "label": "PORTRAYED_BY",
                "color": "#9C27B0",
                "thickness_factor": 1,
                "directed": true
              },
              {
                "id": 6917687357315482000,
                "start": 11,
                "end": 345,
                "properties": {
                  "label": "PORTRAYED_BY"
                },
                "label": "PORTRAYED_BY",
                "color": "#9C27B0",
                "thickness_factor": 1,
                "directed": true
              },
              {
                "id": 6917687357315482000,
                "start": 11,
                "end": 346,
                "properties": {
                  "label": "PORTRAYED_BY"
                },
                "label": "PORTRAYED_BY",
                "color": "#9C27B0",
                "thickness_factor": 1,
                "directed": true
              },
              {
                "id": 6917687357315482000,
                "start": 11,
                "end": 347,
                "properties": {
                  "label": "PORTRAYED_BY"
                },
                "label": "PORTRAYED_BY",
                "color": "#9C27B0",
                "thickness_factor": 1,
                "directed": true
              },
              {
                "id": 6917687357315482000,
                "start": 11,
                "end": 348,
                "properties": {
                  "label": "PORTRAYED_BY"
                },
                "label": "PORTRAYED_BY",
                "color": "#9C27B0",
                "thickness_factor": 1,
                "directed": true
              },
              {
                "id": 6917687357315482000,
                "start": 11,
                "end": 349,
                "properties": {
                  "label": "PORTRAYED_BY"
                },
                "label": "PORTRAYED_BY",
                "color": "#9C27B0",
                "thickness_factor": 1,
                "directed": true
              },
              {
                "id": 6917687357315482000,
                "start": 11,
                "end": 350,
                "properties": {
                  "label": "PORTRAYED_BY"
                },
                "label": "PORTRAYED_BY",
                "color": "#9C27B0",
                "thickness_factor": 1,
                "directed": true
              },
              {
                "id": 6917700551455015000,
                "start": 11,
                "end": 388,
                "properties": {
                  "label": "SEEKS_GUIDANCE"
                },
                "label": "SEEKS_GUIDANCE",
                "color": "#2196F3",
                "thickness_factor": 1,
                "directed": true
              },
              {
                "id": 6917708248036409000,
                "start": 11,
                "end": 395,
                "properties": {
                  "label": "CONFRONTS"
                },
                "label": "CONFRONTS",
                "color": "#4CAF50",
                "thickness_factor": 1,
                "directed": true
              },
              {
                "id": 6917712646082920000,
                "start": 11,
                "end": 390,
                "properties": {
                  "label": "AGREES_TO_EXECUTION"
                },
                "label": "AGREES_TO_EXECUTION",
                "color": "#F44336",
                "thickness_factor": 1,
                "directed": true
              },
              {
                "id": 6917739034361988000,
                "start": 11,
                "end": 854,
                "properties": {
                  "label": "DEVOTED_TO"
                },
                "label": "DEVOTED_TO",
                "color": "#607D8B",
                "thickness_factor": 1,
                "directed": true
              },
              {
                "id": 6917754427524776000,
                "start": 11,
                "end": 465,
                "properties": {
                  "label": "FALLS_IN_LOVE_WITH"
                },
                "label": "FALLS_IN_LOVE_WITH",
                "color": "#673AB7",
                "thickness_factor": 1,
                "directed": true
              },
              {
                "id": 6917756626548031000,
                "start": 11,
                "end": 465,
                "properties": {
                  "label": "FORGIVES"
                },
                "label": "FORGIVES",
                "color": "#CDDC39",
                "thickness_factor": 1,
                "directed": true
              },
              {
                "id": 6917761024594543000,
                "start": 11,
                "end": 469,
                "properties": {
                  "label": "DRAWS_CLOSER_TO"
                },
                "label": "DRAWS_CLOSER_TO",
                "color": "#9E9E9E",
                "thickness_factor": 1,
                "directed": true
              },
              {
                "id": 6917764323129426000,
                "start": 11,
                "end": 465,
                "properties": {
                  "label": "RELATIONSHIP_DETERIORATES"
                },
                "label": "RELATIONSHIP_DETERIORATES",
                "color": "#9C27B0",
                "thickness_factor": 1,
                "directed": true
              },
              {
                "id": 6917765422641054000,
                "start": 11,
                "end": 7,
                "properties": {
                  "label": "SUSPECTS_SECRET_COMMUNICATIONS_WITH"
                },
                "label": "SUSPECTS_SECRET_COMMUNICATIONS_WITH",
                "color": "#2196F3",
                "thickness_factor": 1,
                "directed": true
              },
              {
                "id": 6917769820687565000,
                "start": 11,
                "end": 465,
                "properties": {
                  "label": "PUTS_UNDER_HOUSE_ARREST"
                },
                "label": "PUTS_UNDER_HOUSE_ARREST",
                "color": "#4CAF50",
                "thickness_factor": 1,
                "directed": true
              },
              {
                "id": 6917776417757331000,
                "start": 11,
                "end": 491,
                "properties": {
                  "label": "DIED_AT"
                },
                "label": "DIED_AT",
                "color": "#F44336",
                "thickness_factor": 1,
                "directed": true
              },
              {
                "id": 6917837990408488000,
                "start": 11,
                "end": 584,
                "properties": {
                  "label": "CHOSE_DESIGN"
                },
                "label": "CHOSE_DESIGN",
                "color": "#607D8B",
                "thickness_factor": 1,
                "directed": true
              },
              {
                "id": 6917942444013127000,
                "start": 11,
                "end": 749,
                "properties": {
                  "label": "ELDER_BROTHER_OF"
                },
                "label": "ELDER_BROTHER_OF",
                "color": "#673AB7",
                "thickness_factor": 1,
                "directed": true
              },
              {
                "id": 6917943543524754000,
                "start": 11,
                "end": 755,
                "properties": {
                  "label": "CHILDHOOD_HOME"
                },
                "label": "CHILDHOOD_HOME",
                "color": "#CDDC39",
                "thickness_factor": 1,
                "directed": true
              },
              {
                "id": 6917944643036382000,
                "start": 11,
                "end": 757,
                "properties": {
                  "label": "BROTHER_SERVING_IN"
                },
                "label": "BROTHER_SERVING_IN",
                "color": "#9E9E9E",
                "thickness_factor": 1,
                "directed": true
              },
              {
                "id": 6917951240106149000,
                "start": 11,
                "end": 767,
                "properties": {
                  "label": "WORSHIPS"
                },
                "label": "WORSHIPS",
                "color": "#9C27B0",
                "thickness_factor": 1,
                "directed": true
              },
              {
                "id": 6917951240106149000,
                "start": 11,
                "end": 768,
                "properties": {
                  "label": "WORSHIPS"
                },
                "label": "WORSHIPS",
                "color": "#9C27B0",
                "thickness_factor": 1,
                "directed": true
              },
              {
                "id": 6917952339617777000,
                "start": 11,
                "end": 770,
                "properties": {
                  "label": "MET_WITH"
                },
                "label": "MET_WITH",
                "color": "#2196F3",
                "thickness_factor": 1,
                "directed": true
              },
              {
                "id": 6917952339617777000,
                "start": 11,
                "end": 771,
                "properties": {
                  "label": "MET_WITH"
                },
                "label": "MET_WITH",
                "color": "#2196F3",
                "thickness_factor": 1,
                "directed": true
              },
              {
                "id": 6917952339617777000,
                "start": 11,
                "end": 772,
                "properties": {
                  "label": "MET_WITH"
                },
                "label": "MET_WITH",
                "color": "#2196F3",
                "thickness_factor": 1,
                "directed": true
              },
              {
                "id": 6917952339617777000,
                "start": 11,
                "end": 773,
                "properties": {
                  "label": "MET_WITH"
                },
                "label": "MET_WITH",
                "color": "#2196F3",
                "thickness_factor": 1,
                "directed": true
              },
              {
                "id": 6917952339617777000,
                "start": 11,
                "end": 774,
                "properties": {
                  "label": "MET_WITH"
                },
                "label": "MET_WITH",
                "color": "#2196F3",
                "thickness_factor": 1,
                "directed": true
              },
              {
                "id": 6917953439129404000,
                "start": 11,
                "end": 775,
                "properties": {
                  "label": "PATRON"
                },
                "label": "PATRON",
                "color": "#4CAF50",
                "thickness_factor": 1,
                "directed": true
              },
              {
                "id": 6917955638152660000,
                "start": 11,
                "end": 776,
                "properties": {
                  "label": "OWNED"
                },
                "label": "OWNED",
                "color": "#F44336",
                "thickness_factor": 1,
                "directed": true
              },
              {
                "id": 6917956737664288000,
                "start": 11,
                "end": 761,
                "properties": {
                  "label": "INTEREST"
                },
                "label": "INTEREST",
                "color": "#607D8B",
                "thickness_factor": 1,
                "directed": true
              },
              {
                "id": 6917957837175916000,
                "start": 11,
                "end": 777,
                "properties": {
                  "label": "FAVOURITE_PLAYER"
                },
                "label": "FAVOURITE_PLAYER",
                "color": "#673AB7",
                "thickness_factor": 1,
                "directed": true
              },
              {
                "id": 6917958936687543000,
                "start": 11,
                "end": 778,
                "properties": {
                  "label": "STATED_TO"
                },
                "label": "STATED_TO",
                "color": "#CDDC39",
                "thickness_factor": 1,
                "directed": true
              },
              {
                "id": 6917971031315449000,
                "start": 11,
                "end": 855,
                "properties": {
                  "label": "VISITED"
                },
                "label": "VISITED",
                "color": "#9E9E9E",
                "thickness_factor": 1,
                "directed": true
              },
              {
                "id": 6917985324966610000,
                "start": 11,
                "end": 844,
                "properties": {
                  "label": "MATED_WITH"
                },
                "label": "MATED_WITH",
                "color": "#9C27B0",
                "thickness_factor": 1,
                "directed": true
              },
              {
                "id": 6917987523989865000,
                "start": 11,
                "end": 846,
                "properties": {
                  "label": "GIFTED_TO"
                },
                "label": "GIFTED_TO",
                "color": "#2196F3",
                "thickness_factor": 1,
                "directed": true
              },
              {
                "id": 6917987523989865000,
                "start": 11,
                "end": 847,
                "properties": {
                  "label": "GIFTED_TO"
                },
                "label": "GIFTED_TO",
                "color": "#2196F3",
                "thickness_factor": 1,
                "directed": true
              },
              {
                "id": 1152933599234752500,
                "start": 19,
                "end": 438,
                "properties": {
                  "label": "PARENT"
                },
                "label": "PARENT",
                "color": "#CDDC39",
                "thickness_factor": 1,
                "directed": true
              },
              {
                "id": 6917541122268987000,
                "start": 19,
                "end": 442,
                "properties": {
                  "label": "PARENT"
                },
                "label": "PARENT",
                "color": "#CDDC39",
                "thickness_factor": 1,
                "directed": true
              },
              {
                "id": 1153128212792868900,
                "start": 19,
                "end": 154,
                "properties": {
                  "label": "PRISONER"
                },
                "label": "PRISONER",
                "color": "#4CAF50",
                "thickness_factor": 1,
                "directed": true
              },
              {
                "id": 1153130411816124400,
                "start": 19,
                "end": 386,
                "properties": {
                  "label": "HUSBAND"
                },
                "label": "HUSBAND",
                "color": "#F44336",
                "thickness_factor": 1,
                "directed": true
              },
              {
                "id": 6917740133873615000,
                "start": 19,
                "end": 443,
                "properties": {
                  "label": "EXECUTION"
                },
                "label": "EXECUTION",
                "color": "#607D8B",
                "thickness_factor": 1,
                "directed": true
              },
              {
                "id": 1153143605955657700,
                "start": 20,
                "end": 1,
                "properties": {
                  "label": "DEFEATED"
                },
                "label": "DEFEATED",
                "color": "#673AB7",
                "thickness_factor": 1,
                "directed": true
              },
              {
                "id": 1155395405769343000,
                "start": 20,
                "end": 464,
                "properties": {
                  "label": "DEFEATED"
                },
                "label": "DEFEATED",
                "color": "#673AB7",
                "thickness_factor": 1,
                "directed": true
              },
              {
                "id": 1152935798258008000,
                "start": 24,
                "end": 25,
                "properties": {
                  "label": "DAUGHTER"
                },
                "label": "DAUGHTER",
                "color": "#9E9E9E",
                "thickness_factor": 1,
                "directed": true
              },
              {
                "id": 1152936897769635800,
                "start": 24,
                "end": 26,
                "properties": {
                  "label": "SUCCEEDED"
                },
                "label": "SUCCEEDED",
                "color": "#CDDC39",
                "thickness_factor": 1,
                "directed": true
              },
              {
                "id": 1152937997281263600,
                "start": 24,
                "end": 29,
                "properties": {
                  "label": "SEIZED_THONE"
                },
                "label": "SEIZED_THONE",
                "color": "#9E9E9E",
                "thickness_factor": 1,
                "directed": true
              },
              {
                "id": 1152939096792891400,
                "start": 24,
                "end": 30,
                "properties": {
                  "label": "HEIR"
                },
                "label": "HEIR",
                "color": "#9C27B0",
                "thickness_factor": 1,
                "directed": true
              },
              {
                "id": 1152940196304519200,
                "start": 24,
                "end": 31,
                "properties": {
                  "label": "ENCOURAGED"
                },
                "label": "ENCOURAGED",
                "color": "#2196F3",
                "thickness_factor": 1,
                "directed": true
              },
              {
                "id": 1155191996118204400,
                "start": 24,
                "end": 32,
                "properties": {
                  "label": "ENCOURAGED"
                },
                "label": "ENCOURAGED",
                "color": "#2196F3",
                "thickness_factor": 1,
                "directed": true
              },
              {
                "id": 1152941295816147000,
                "start": 24,
                "end": 33,
                "properties": {
                  "label": "FINANCED"
                },
                "label": "FINANCED",
                "color": "#4CAF50",
                "thickness_factor": 1,
                "directed": true
              },
              {
                "id": 1152942395327774700,
                "start": 24,
                "end": 35,
                "properties": {
                  "label": "LED"
                },
                "label": "LED",
                "color": "#F44336",
                "thickness_factor": 1,
                "directed": true
              },
              {
                "id": 1155194195141460000,
                "start": 24,
                "end": 36,
                "properties": {
                  "label": "LED"
                },
                "label": "LED",
                "color": "#F44336",
                "thickness_factor": 1,
                "directed": true
              },
              {
                "id": 6919807215733834000,
                "start": 25,
                "end": 46,
                "properties": {
                  "label": "REIGN_OVER"
                },
                "label": "REIGN_OVER",
                "color": "#9E9E9E",
                "thickness_factor": 1,
                "directed": true
              },
              {
                "id": 1152936897769635800,
                "start": 26,
                "end": 27,
                "properties": {
                  "label": "SUCCEEDED"
                },
                "label": "SUCCEEDED",
                "color": "#CDDC39",
                "thickness_factor": 1,
                "directed": true
              },
              {
                "id": 1152936897769635800,
                "start": 27,
                "end": 28,
                "properties": {
                  "label": "SUCCEEDED"
                },
                "label": "SUCCEEDED",
                "color": "#CDDC39",
                "thickness_factor": 1,
                "directed": true
              },
              {
                "id": 1152936897769635800,
                "start": 28,
                "end": 29,
                "properties": {
                  "label": "SUCCEEDED"
                },
                "label": "SUCCEEDED",
                "color": "#CDDC39",
                "thickness_factor": 1,
                "directed": true
              },
              {
                "id": 1152943494839402500,
                "start": 35,
                "end": 34,
                "properties": {
                  "label": "SOLVED"
                },
                "label": "SOLVED",
                "color": "#607D8B",
                "thickness_factor": 1,
                "directed": true
              },
              {
                "id": 1152944594351030300,
                "start": 37,
                "end": 31,
                "properties": {
                  "label": "FOUNDATION"
                },
                "label": "FOUNDATION",
                "color": "#673AB7",
                "thickness_factor": 1,
                "directed": true
              },
              {
                "id": 1152944594351030300,
                "start": 38,
                "end": 32,
                "properties": {
                  "label": "FOUNDATION"
                },
                "label": "FOUNDATION",
                "color": "#673AB7",
                "thickness_factor": 1,
                "directed": true
              },
              {
                "id": 1152945693862658000,
                "start": 39,
                "end": 24,
                "properties": {
                  "label": "COMMISSIONED"
                },
                "label": "COMMISSIONED",
                "color": "#CDDC39",
                "thickness_factor": 1,
                "directed": true
              },
              {
                "id": 1152945693862658000,
                "start": 40,
                "end": 24,
                "properties": {
                  "label": "COMMISSIONED"
                },
                "label": "COMMISSIONED",
                "color": "#CDDC39",
                "thickness_factor": 1,
                "directed": true
              },
              {
                "id": 1152945693862658000,
                "start": 41,
                "end": 24,
                "properties": {
                  "label": "COMMISSIONED"
                },
                "label": "COMMISSIONED",
                "color": "#CDDC39",
                "thickness_factor": 1,
                "directed": true
              },
              {
                "id": 6919792922082673000,
                "start": 43,
                "end": 5,
                "properties": {
                  "label": "PARENT"
                },
                "label": "PARENT",
                "color": "#CDDC39",
                "thickness_factor": 1,
                "directed": true
              },
              {
                "id": 1155185399048437800,
                "start": 43,
                "end": 50,
                "properties": {
                  "label": "PARENT"
                },
                "label": "PARENT",
                "color": "#CDDC39",
                "thickness_factor": 1,
                "directed": true
              },
              {
                "id": 6922059015547519000,
                "start": 43,
                "end": 46,
                "properties": {
                  "label": "REIGN_OVER"
                },
                "label": "REIGN_OVER",
                "color": "#9E9E9E",
                "thickness_factor": 1,
                "directed": true
              },
              {
                "id": 6917556515431776000,
                "start": 43,
                "end": 51,
                "properties": {
                  "label": "SUBJECT_OF"
                },
                "label": "SUBJECT_OF",
                "color": "#9E9E9E",
                "thickness_factor": 1,
                "directed": true
              },
              {
                "id": 1152922604118474800,
                "start": 44,
                "end": 25,
                "properties": {
                  "label": "CHILD_OF"
                },
                "label": "CHILD_OF",
                "color": "#4CAF50",
                "thickness_factor": 1,
                "directed": true
              },
              {
                "id": 1152950091909169200,
                "start": 49,
                "end": 47,
                "properties": {
                  "label": "ENGAGED_IN_VICTORY"
                },
                "label": "ENGAGED_IN_VICTORY",
                "color": "#9C27B0",
                "thickness_factor": 1,
                "directed": true
              },
              {
                "id": 1152951191420797000,
                "start": 49,
                "end": 48,
                "properties": {
                  "label": "OCCUPIED"
                },
                "label": "OCCUPIED",
                "color": "#2196F3",
                "thickness_factor": 1,
                "directed": true
              },
              {
                "id": 1152952290932424700,
                "start": 53,
                "end": 2,
                "properties": {
                  "label": "FATHER"
                },
                "label": "FATHER",
                "color": "#9E9E9E",
                "thickness_factor": 1,
                "directed": true
              },
              {
                "id": 1152953390444052500,
                "start": 53,
                "end": 54,
                "properties": {
                  "label": "APPOINTED"
                },
                "label": "APPOINTED",
                "color": "#4CAF50",
                "thickness_factor": 1,
                "directed": true
              },
              {
                "id": 1152954489955680300,
                "start": 53,
                "end": 55,
                "properties": {
                  "label": "APPROVED"
                },
                "label": "APPROVED",
                "color": "#F44336",
                "thickness_factor": 1,
                "directed": true
              },
              {
                "id": 1152955589467308000,
                "start": 53,
                "end": 60,
                "properties": {
                  "label": "ASSOCIATED_WITH"
                },
                "label": "ASSOCIATED_WITH",
                "color": "#607D8B",
                "thickness_factor": 1,
                "directed": true
              },
              {
                "id": 1155207389280993300,
                "start": 53,
                "end": 61,
                "properties": {
                  "label": "ASSOCIATED_WITH"
                },
                "label": "ASSOCIATED_WITH",
                "color": "#607D8B",
                "thickness_factor": 1,
                "directed": true
              },
              {
                "id": 1157459189094678500,
                "start": 53,
                "end": 62,
                "properties": {
                  "label": "ASSOCIATED_WITH"
                },
                "label": "ASSOCIATED_WITH",
                "color": "#607D8B",
                "thickness_factor": 1,
                "directed": true
              },
              {
                "id": 1152956688978935800,
                "start": 63,
                "end": 60,
                "properties": {
                  "label": "DEVELOPED_IN"
                },
                "label": "DEVELOPED_IN",
                "color": "#673AB7",
                "thickness_factor": 1,
                "directed": true
              },
              {
                "id": 1152956688978935800,
                "start": 64,
                "end": 60,
                "properties": {
                  "label": "DEVELOPED_IN"
                },
                "label": "DEVELOPED_IN",
                "color": "#673AB7",
                "thickness_factor": 1,
                "directed": true
              },
              {
                "id": 1152957788490563600,
                "start": 66,
                "end": 2,
                "properties": {
                  "label": "COURT_ARTIST"
                },
                "label": "COURT_ARTIST",
                "color": "#CDDC39",
                "thickness_factor": 1,
                "directed": true
              },
              {
                "id": 1152958888002191400,
                "start": 66,
                "end": 68,
                "properties": {
                  "label": "MURAL_AT"
                },
                "label": "MURAL_AT",
                "color": "#9E9E9E",
                "thickness_factor": 1,
                "directed": true
              },
              {
                "id": 1152961087025447000,
                "start": 66,
                "end": 11,
                "properties": {
                  "label": "INFLUENCED_ARTISTS"
                },
                "label": "INFLUENCED_ARTISTS",
                "color": "#9C27B0",
                "thickness_factor": 1,
                "directed": true
              },
              {
                "id": 1152959987513819100,
                "start": 67,
                "end": 69,
                "properties": {
                  "label": "PAINTED_ROYAL_PORTRAITS"
                },
                "label": "PAINTED_ROYAL_PORTRAITS",
                "color": "#2196F3",
                "thickness_factor": 1,
                "directed": true
              },
              {
                "id": 1152922604118474800,
                "start": 71,
                "end": 2,
                "properties": {
                  "label": "CHILD_OF"
                },
                "label": "CHILD_OF",
                "color": "#4CAF50",
                "thickness_factor": 1,
                "directed": true
              },
              {
                "id": 1155174403932160000,
                "start": 71,
                "end": 123,
                "properties": {
                  "label": "CHILD_OF"
                },
                "label": "CHILD_OF",
                "color": "#4CAF50",
                "thickness_factor": 1,
                "directed": true
              },
              {
                "id": 1152962186537074700,
                "start": 71,
                "end": 1,
                "properties": {
                  "label": "SUCCESSOR"
                },
                "label": "SUCCESSOR",
                "color": "#9C27B0",
                "thickness_factor": 1,
                "directed": true
              },
              {
                "id": 1152964385560330200,
                "start": 71,
                "end": 76,
                "properties": {
                  "label": "PREFFERED_SUCCESSOR"
                },
                "label": "PREFFERED_SUCCESSOR",
                "color": "#4CAF50",
                "thickness_factor": 1,
                "directed": true
              },
              {
                "id": 1152980878234747000,
                "start": 71,
                "end": 109,
                "properties": {
                  "label": "LOST_CONTROL_OF"
                },
                "label": "LOST_CONTROL_OF",
                "color": "#F44336",
                "thickness_factor": 1,
                "directed": true
              },
              {
                "id": 1152991873351024600,
                "start": 71,
                "end": 124,
                "properties": {
                  "label": "MARRIED_TO"
                },
                "label": "MARRIED_TO",
                "color": "#607D8B",
                "thickness_factor": 1,
                "directed": true
              },
              {
                "id": 1152992972862652400,
                "start": 71,
                "end": 4,
                "properties": {
                  "label": "SIBLING"
                },
                "label": "SIBLING",
                "color": "#2196F3",
                "thickness_factor": 1,
                "directed": true
              },
              {
                "id": 1152994072374280200,
                "start": 71,
                "end": 6,
                "properties": {
                  "label": "DEPOSED"
                },
                "label": "DEPOSED",
                "color": "#607D8B",
                "thickness_factor": 1,
                "directed": true
              },
              {
                "id": 1153000669444046800,
                "start": 71,
                "end": 11,
                "properties": {
                  "label": "SUCCESSOR_OF"
                },
                "label": "SUCCESSOR_OF",
                "color": "#673AB7",
                "thickness_factor": 1,
                "directed": true
              },
              {
                "id": 6917615889059676000,
                "start": 71,
                "end": 148,
                "properties": {
                  "label": "PERSECUTED"
                },
                "label": "PERSECUTED",
                "color": "#673AB7",
                "thickness_factor": 1,
                "directed": true
              },
              {
                "id": 1153061142583574500,
                "start": 71,
                "end": 11,
                "properties": {
                  "label": "INFLUENCED"
                },
                "label": "INFLUENCED",
                "color": "#CDDC39",
                "thickness_factor": 1,
                "directed": true
              },
              {
                "id": 1152952290932424700,
                "start": 73,
                "end": 412,
                "properties": {
                  "label": "FATHER"
                },
                "label": "FATHER",
                "color": "#9E9E9E",
                "thickness_factor": 1,
                "directed": true
              },
              {
                "id": 1152967684095213600,
                "start": 73,
                "end": 410,
                "properties": {
                  "label": "MARRIED"
                },
                "label": "MARRIED",
                "color": "#9E9E9E",
                "thickness_factor": 1,
                "directed": true
              },
              {
                "id": 1155219483908898800,
                "start": 73,
                "end": 414,
                "properties": {
                  "label": "MARRIED"
                },
                "label": "MARRIED",
                "color": "#9E9E9E",
                "thickness_factor": 1,
                "directed": true
              },
              {
                "id": 1157471283722584000,
                "start": 73,
                "end": 415,
                "properties": {
                  "label": "MARRIED"
                },
                "label": "MARRIED",
                "color": "#9E9E9E",
                "thickness_factor": 1,
                "directed": true
              },
              {
                "id": 1153002868467302400,
                "start": 73,
                "end": 6,
                "properties": {
                  "label": "SISTER"
                },
                "label": "SISTER",
                "color": "#F44336",
                "thickness_factor": 1,
                "directed": true
              },
              {
                "id": 1153112819630080000,
                "start": 73,
                "end": 411,
                "properties": {
                  "label": "SEPARATED_FROM"
                },
                "label": "SEPARATED_FROM",
                "color": "#9C27B0",
                "thickness_factor": 1,
                "directed": true
              },
              {
                "id": 1155365718955393000,
                "start": 73,
                "end": 1,
                "properties": {
                  "label": "HEIR_IN_LINE"
                },
                "label": "HEIR_IN_LINE",
                "color": "#2196F3",
                "thickness_factor": 1,
                "directed": true
              },
              {
                "id": 1153113919141707800,
                "start": 73,
                "end": 413,
                "properties": {
                  "label": "HEIR_IN_LINE"
                },
                "label": "HEIR_IN_LINE",
                "color": "#2196F3",
                "thickness_factor": 1,
                "directed": true
              },
              {
                "id": 1152935798258008000,
                "start": 76,
                "end": 77,
                "properties": {
                  "label": "DAUGHTER"
                },
                "label": "DAUGHTER",
                "color": "#9E9E9E",
                "thickness_factor": 1,
                "directed": true
              },
              {
                "id": 1152967684095213600,
                "start": 84,
                "end": 85,
                "properties": {
                  "label": "MARRIED"
                },
                "label": "MARRIED",
                "color": "#9E9E9E",
                "thickness_factor": 1,
                "directed": true
              },
              {
                "id": 6917576306641076000,
                "start": 86,
                "end": 92,
                "properties": {
                  "label": "DESCENDED_FROM"
                },
                "label": "DESCENDED_FROM",
                "color": "#4CAF50",
                "thickness_factor": 1,
                "directed": true
              },
              {
                "id": 1152969883118469000,
                "start": 86,
                "end": 85,
                "properties": {
                  "label": "SON"
                },
                "label": "SON",
                "color": "#F44336",
                "thickness_factor": 1,
                "directed": true
              },
              {
                "id": 1152968783606841300,
                "start": 87,
                "end": 76,
                "properties": {
                  "label": "DESCENDED_FROM"
                },
                "label": "DESCENDED_FROM",
                "color": "#4CAF50",
                "thickness_factor": 1,
                "directed": true
              },
              {
                "id": 1152972082141724700,
                "start": 88,
                "end": 76,
                "properties": {
                  "label": "SON_OF"
                },
                "label": "SON_OF",
                "color": "#2196F3",
                "thickness_factor": 1,
                "directed": true
              },
              {
                "id": 6917575207129448000,
                "start": 89,
                "end": 93,
                "properties": {
                  "label": "MARRIED"
                },
                "label": "MARRIED",
                "color": "#9E9E9E",
                "thickness_factor": 1,
                "directed": true
              },
              {
                "id": 1152968783606841300,
                "start": 89,
                "end": 77,
                "properties": {
                  "label": "DESCENDED_FROM"
                },
                "label": "DESCENDED_FROM",
                "color": "#4CAF50",
                "thickness_factor": 1,
                "directed": true
              },
              {
                "id": 1152970982630097000,
                "start": 89,
                "end": 6,
                "properties": {
                  "label": "PARENT_OF"
                },
                "label": "PARENT_OF",
                "color": "#607D8B",
                "thickness_factor": 1,
                "directed": true
              },
              {
                "id": 1155222782443782100,
                "start": 89,
                "end": 91,
                "properties": {
                  "label": "PARENT_OF"
                },
                "label": "PARENT_OF",
                "color": "#607D8B",
                "thickness_factor": 1,
                "directed": true
              },
              {
                "id": 1152968783606841300,
                "start": 90,
                "end": 77,
                "properties": {
                  "label": "DESCENDED_FROM"
                },
                "label": "DESCENDED_FROM",
                "color": "#4CAF50",
                "thickness_factor": 1,
                "directed": true
              },
              {
                "id": 1152967684095213600,
                "start": 92,
                "end": 115,
                "properties": {
                  "label": "MARRIED"
                },
                "label": "MARRIED",
                "color": "#9E9E9E",
                "thickness_factor": 1,
                "directed": true
              },
              {
                "id": 1153054545513808000,
                "start": 92,
                "end": 2,
                "properties": {
                  "label": "SISTER_OF"
                },
                "label": "SISTER_OF",
                "color": "#673AB7",
                "thickness_factor": 1,
                "directed": true
              },
              {
                "id": 1152936897769635800,
                "start": 95,
                "end": 99,
                "properties": {
                  "label": "SUCCEEDED"
                },
                "label": "SUCCEEDED",
                "color": "#CDDC39",
                "thickness_factor": 1,
                "directed": true
              },
              {
                "id": 1152973181653352400,
                "start": 95,
                "end": 96,
                "properties": {
                  "label": "RULED"
                },
                "label": "RULED",
                "color": "#CDDC39",
                "thickness_factor": 1,
                "directed": true
              },
              {
                "id": 1155224981467037700,
                "start": 95,
                "end": 97,
                "properties": {
                  "label": "RULED"
                },
                "label": "RULED",
                "color": "#CDDC39",
                "thickness_factor": 1,
                "directed": true
              },
              {
                "id": 1152977579699863600,
                "start": 95,
                "end": 107,
                "properties": {
                  "label": "ASSERTED_AUTHORITY_OVER"
                },
                "label": "ASSERTED_AUTHORITY_OVER",
                "color": "#9E9E9E",
                "thickness_factor": 1,
                "directed": true
              },
              {
                "id": 1152978679211491300,
                "start": 95,
                "end": 108,
                "properties": {
                  "label": "ACHIEVED_UNION_WITH"
                },
                "label": "ACHIEVED_UNION_WITH",
                "color": "#9C27B0",
                "thickness_factor": 1,
                "directed": true
              },
              {
                "id": 1152967684095213600,
                "start": 98,
                "end": 105,
                "properties": {
                  "label": "MARRIED"
                },
                "label": "MARRIED",
                "color": "#9E9E9E",
                "thickness_factor": 1,
                "directed": true
              },
              {
                "id": 1152968783606841300,
                "start": 98,
                "end": 101,
                "properties": {
                  "label": "DESCENDED_FROM"
                },
                "label": "DESCENDED_FROM",
                "color": "#4CAF50",
                "thickness_factor": 1,
                "directed": true
              },
              {
                "id": 1155220583420526600,
                "start": 98,
                "end": 102,
                "properties": {
                  "label": "DESCENDED_FROM"
                },
                "label": "DESCENDED_FROM",
                "color": "#4CAF50",
                "thickness_factor": 1,
                "directed": true
              },
              {
                "id": 1157472383234211800,
                "start": 98,
                "end": 119,
                "properties": {
                  "label": "DESCENDED_FROM"
                },
                "label": "DESCENDED_FROM",
                "color": "#4CAF50",
                "thickness_factor": 1,
                "directed": true
              },
              {
                "id": 1152974281164980200,
                "start": 98,
                "end": 103,
                "properties": {
                  "label": "ROSE_TO_POWER_AFTER"
                },
                "label": "ROSE_TO_POWER_AFTER",
                "color": "#2196F3",
                "thickness_factor": 1,
                "directed": true
              },
              {
                "id": 1152975380676608000,
                "start": 98,
                "end": 104,
                "properties": {
                  "label": "TOOK_THRONE_AFTER"
                },
                "label": "TOOK_THRONE_AFTER",
                "color": "#4CAF50",
                "thickness_factor": 1,
                "directed": true
              },
              {
                "id": 1152936897769635800,
                "start": 99,
                "end": 100,
                "properties": {
                  "label": "SUCCEEDED"
                },
                "label": "SUCCEEDED",
                "color": "#CDDC39",
                "thickness_factor": 1,
                "directed": true
              },
              {
                "id": 1152985276281258000,
                "start": 100,
                "end": 114,
                "properties": {
                  "label": "FIRST_KING_OF_ENGLAND"
                },
                "label": "FIRST_KING_OF_ENGLAND",
                "color": "#F44336",
                "thickness_factor": 1,
                "directed": true
              },
              {
                "id": 1153215074211463200,
                "start": 100,
                "end": 560,
                "properties": {
                  "label": "PART_OF"
                },
                "label": "PART_OF",
                "color": "#607D8B",
                "thickness_factor": 1,
                "directed": true
              },
              {
                "id": 1152976480188235800,
                "start": 105,
                "end": 106,
                "properties": {
                  "label": "DAUGHTER_OF"
                },
                "label": "DAUGHTER_OF",
                "color": "#F44336",
                "thickness_factor": 1,
                "directed": true
              },
              {
                "id": 1153215074211463200,
                "start": 107,
                "end": 789,
                "properties": {
                  "label": "PART_OF"
                },
                "label": "PART_OF",
                "color": "#607D8B",
                "thickness_factor": 1,
                "directed": true
              },
              {
                "id": 1152981977746374700,
                "start": 112,
                "end": 14,
                "properties": {
                  "label": "SIEGE"
                },
                "label": "SIEGE",
                "color": "#673AB7",
                "thickness_factor": 1,
                "directed": true
              },
              {
                "id": 1152973181653352400,
                "start": 113,
                "end": 2,
                "properties": {
                  "label": "RULED"
                },
                "label": "RULED",
                "color": "#CDDC39",
                "thickness_factor": 1,
                "directed": true
              },
              {
                "id": 1152984176769630200,
                "start": 113,
                "end": 1,
                "properties": {
                  "label": "LONGEST_SERVING"
                },
                "label": "LONGEST_SERVING",
                "color": "#CDDC39",
                "thickness_factor": 1,
                "directed": true
              },
              {
                "id": 1152922604118474800,
                "start": 114,
                "end": 137,
                "properties": {
                  "label": "CHILD_OF"
                },
                "label": "CHILD_OF",
                "color": "#4CAF50",
                "thickness_factor": 1,
                "directed": true
              },
              {
                "id": 1152986375792885800,
                "start": 114,
                "end": 92,
                "properties": {
                  "label": "GREAT_GRANDSON_OF"
                },
                "label": "GREAT_GRANDSON_OF",
                "color": "#9E9E9E",
                "thickness_factor": 1,
                "directed": true
              },
              {
                "id": 1152988574816141300,
                "start": 114,
                "end": 98,
                "properties": {
                  "label": "DESCENDANT_OF"
                },
                "label": "DESCENDANT_OF",
                "color": "#9C27B0",
                "thickness_factor": 1,
                "directed": true
              },
              {
                "id": 1152991873351024600,
                "start": 114,
                "end": 138,
                "properties": {
                  "label": "MARRIED_TO"
                },
                "label": "MARRIED_TO",
                "color": "#607D8B",
                "thickness_factor": 1,
                "directed": true
              },
              {
                "id": 1153000669444046800,
                "start": 114,
                "end": 1,
                "properties": {
                  "label": "SUCCESSOR_OF"
                },
                "label": "SUCCESSOR_OF",
                "color": "#673AB7",
                "thickness_factor": 1,
                "directed": true
              },
              {
                "id": 1153001768955674600,
                "start": 114,
                "end": 16,
                "properties": {
                  "label": "INFLUENCER_OF"
                },
                "label": "INFLUENCER_OF",
                "color": "#2196F3",
                "thickness_factor": 1,
                "directed": true
              },
              {
                "id": 1155253568769360000,
                "start": 114,
                "end": 139,
                "properties": {
                  "label": "INFLUENCER_OF"
                },
                "label": "INFLUENCER_OF",
                "color": "#2196F3",
                "thickness_factor": 1,
                "directed": true
              },
              {
                "id": 1157505368583045000,
                "start": 114,
                "end": 140,
                "properties": {
                  "label": "INFLUENCER_OF"
                },
                "label": "INFLUENCER_OF",
                "color": "#2196F3",
                "thickness_factor": 1,
                "directed": true
              },
              {
                "id": 1159757168396730400,
                "start": 114,
                "end": 141,
                "properties": {
                  "label": "INFLUENCER_OF"
                },
                "label": "INFLUENCER_OF",
                "color": "#2196F3",
                "thickness_factor": 1,
                "directed": true
              },
              {
                "id": 6917622486129443000,
                "start": 114,
                "end": 160,
                "properties": {
                  "label": "FATHER_OF"
                },
                "label": "FATHER_OF",
                "color": "#4CAF50",
                "thickness_factor": 1,
                "directed": true
              },
              {
                "id": 1152987475304513500,
                "start": 115,
                "end": 116,
                "properties": {
                  "label": "SIGNED"
                },
                "label": "SIGNED",
                "color": "#F44336",
                "thickness_factor": 1,
                "directed": true
              },
              {
                "id": 1152946793374285800,
                "start": 117,
                "end": 560,
                "properties": {
                  "label": "MEMBER_OF"
                },
                "label": "MEMBER_OF",
                "color": "#CDDC39",
                "thickness_factor": 1,
                "directed": true
              },
              {
                "id": 1152988574816141300,
                "start": 117,
                "end": 118,
                "properties": {
                  "label": "DESCENDANT_OF"
                },
                "label": "DESCENDANT_OF",
                "color": "#9C27B0",
                "thickness_factor": 1,
                "directed": true
              },
              {
                "id": 6917971031315449000,
                "start": 117,
                "end": 1058,
                "properties": {
                  "label": "VISITED"
                },
                "label": "VISITED",
                "color": "#9E9E9E",
                "thickness_factor": 1,
                "directed": true
              },
              {
                "id": 6917977628385215000,
                "start": 117,
                "end": 822,
                "properties": {
                  "label": "HAS_CYPHER"
                },
                "label": "HAS_CYPHER",
                "color": "#607D8B",
                "thickness_factor": 1,
                "directed": true
              },
              {
                "id": 6917978727896843000,
                "start": 117,
                "end": 823,
                "properties": {
                  "label": "SELECTED"
                },
                "label": "SELECTED",
                "color": "#673AB7",
                "thickness_factor": 1,
                "directed": true
              },
              {
                "id": 6918032603966604000,
                "start": 117,
                "end": 1203,
                "properties": {
                  "label": "BECAME"
                },
                "label": "BECAME",
                "color": "#CDDC39",
                "thickness_factor": 1,
                "directed": true
              },
              {
                "id": 1153522937467240400,
                "start": 117,
                "end": 926,
                "properties": {
                  "label": "CONFERRED_TITLE"
                },
                "label": "CONFERRED_TITLE",
                "color": "#9E9E9E",
                "thickness_factor": 1,
                "directed": true
              },
              {
                "id": 1153526236002123800,
                "start": 117,
                "end": 473,
                "properties": {
                  "label": "SUCCEEDED_TITLE"
                },
                "label": "SUCCEEDED_TITLE",
                "color": "#9C27B0",
                "thickness_factor": 1,
                "directed": true
              }
            ],
            "_graph_layout": {},
            "_highlight": [],
            "_license": {},
            "_model_module": "yfiles-jupyter-graphs",
            "_model_module_version": "^1.8.1",
            "_model_name": "GraphModel",
            "_neighborhood": {},
            "_nodes": [
              {
                "id": 1,
                "properties": {
                  "id": "Elizabeth I",
                  "label": "Person:__Entity__"
                },
                "color": "#2196F3",
                "styles": {},
                "label": "Elizabeth I",
                "scale_factor": 1,
                "type": "#2196F3",
                "size": [
                  55,
                  55
                ],
                "position": [
                  0,
                  0
                ]
              },
              {
                "id": 2,
                "properties": {
                  "id": "Henry Viii",
                  "label": "Person:__Entity__"
                },
                "color": "#2196F3",
                "styles": {},
                "label": "Henry Viii",
                "scale_factor": 1,
                "type": "#2196F3",
                "size": [
                  55,
                  55
                ],
                "position": [
                  0,
                  0
                ]
              },
              {
                "id": 3,
                "properties": {
                  "id": "Anne Boleyn",
                  "label": "Person:__Entity__"
                },
                "color": "#2196F3",
                "styles": {},
                "label": "Anne Boleyn",
                "scale_factor": 1,
                "type": "#2196F3",
                "size": [
                  55,
                  55
                ],
                "position": [
                  0,
                  0
                ]
              },
              {
                "id": 6,
                "properties": {
                  "id": "Lady Jane Grey",
                  "label": "Person:__Entity__"
                },
                "color": "#2196F3",
                "styles": {},
                "label": "Lady Jane Grey",
                "scale_factor": 1,
                "type": "#2196F3",
                "size": [
                  55,
                  55
                ],
                "position": [
                  0,
                  0
                ]
              },
              {
                "id": 7,
                "properties": {
                  "id": "James Vi Of Scotland",
                  "label": "Person:__Entity__"
                },
                "color": "#2196F3",
                "styles": {},
                "label": "James Vi Of Scotland",
                "scale_factor": 1,
                "type": "#2196F3",
                "size": [
                  55,
                  55
                ],
                "position": [
                  0,
                  0
                ]
              },
              {
                "id": 8,
                "properties": {
                  "id": "William Cecil",
                  "label": "Person:__Entity__"
                },
                "color": "#2196F3",
                "styles": {},
                "label": "William Cecil",
                "scale_factor": 1,
                "type": "#2196F3",
                "size": [
                  55,
                  55
                ],
                "position": [
                  0,
                  0
                ]
              },
              {
                "id": 9,
                "properties": {
                  "id": "Sir Francis Walsingham",
                  "label": "Person:__Entity__"
                },
                "color": "#2196F3",
                "styles": {},
                "label": "Sir Francis Walsingham",
                "scale_factor": 1,
                "type": "#2196F3",
                "size": [
                  55,
                  55
                ],
                "position": [
                  0,
                  0
                ]
              },
              {
                "id": 100,
                "properties": {
                  "id": "House Of Stuart",
                  "label": "Concept:House:Dynasty:Royal house:__Entity__"
                },
                "color": "#4CAF50",
                "styles": {},
                "label": "House Of Stuart",
                "scale_factor": 1,
                "type": "#4CAF50",
                "size": [
                  55,
                  55
                ],
                "position": [
                  0,
                  0
                ]
              },
              {
                "id": 78,
                "properties": {
                  "id": "Anglo-Spanish War",
                  "label": "Event:__Entity__"
                },
                "color": "#F44336",
                "styles": {},
                "label": "Anglo-Spanish War",
                "scale_factor": 1,
                "type": "#F44336",
                "size": [
                  55,
                  55
                ],
                "position": [
                  0,
                  0
                ]
              },
              {
                "id": 79,
                "properties": {
                  "id": "Norfolk Conspiracy",
                  "label": "Concept:__Entity__"
                },
                "color": "#607D8B",
                "styles": {},
                "label": "Norfolk Conspiracy",
                "scale_factor": 1,
                "type": "#607D8B",
                "size": [
                  55,
                  55
                ],
                "position": [
                  0,
                  0
                ]
              },
              {
                "id": 80,
                "properties": {
                  "id": "Elizabethan Exclusion Crisis",
                  "label": "Concept:__Entity__"
                },
                "color": "#607D8B",
                "styles": {},
                "label": "Elizabethan Exclusion Crisis",
                "scale_factor": 1,
                "type": "#607D8B",
                "size": [
                  55,
                  55
                ],
                "position": [
                  0,
                  0
                ]
              },
              {
                "id": 81,
                "properties": {
                  "id": "Secret Correspondence",
                  "label": "Concept:__Entity__"
                },
                "color": "#607D8B",
                "styles": {},
                "label": "Secret Correspondence",
                "scale_factor": 1,
                "type": "#607D8B",
                "size": [
                  55,
                  55
                ],
                "position": [
                  0,
                  0
                ]
              },
              {
                "id": 82,
                "properties": {
                  "id": "Valentine Thomas Affair",
                  "label": "Concept:__Entity__"
                },
                "color": "#607D8B",
                "styles": {},
                "label": "Valentine Thomas Affair",
                "scale_factor": 1,
                "type": "#607D8B",
                "size": [
                  55,
                  55
                ],
                "position": [
                  0,
                  0
                ]
              },
              {
                "id": 71,
                "properties": {
                  "id": "Mary I",
                  "label": "Person:__Entity__"
                },
                "color": "#2196F3",
                "styles": {},
                "label": "Mary I",
                "scale_factor": 1,
                "type": "#2196F3",
                "size": [
                  55,
                  55
                ],
                "position": [
                  0,
                  0
                ]
              },
              {
                "id": 144,
                "properties": {
                  "id": "Westminster Abbey",
                  "label": "Place:Location:__Entity__"
                },
                "color": "#673AB7",
                "styles": {},
                "label": "Westminster Abbey",
                "scale_factor": 1,
                "type": "#673AB7",
                "size": [
                  55,
                  55
                ],
                "position": [
                  0,
                  0
                ]
              },
              {
                "id": 145,
                "properties": {
                  "id": "London",
                  "label": "Place:Location:__Entity__"
                },
                "color": "#673AB7",
                "styles": {},
                "label": "London",
                "scale_factor": 1,
                "type": "#673AB7",
                "size": [
                  55,
                  55
                ],
                "position": [
                  0,
                  0
                ]
              },
              {
                "id": 146,
                "properties": {
                  "id": "Dr John Dee",
                  "label": "Person:__Entity__"
                },
                "color": "#2196F3",
                "styles": {},
                "label": "Dr John Dee",
                "scale_factor": 1,
                "type": "#2196F3",
                "size": [
                  55,
                  55
                ],
                "position": [
                  0,
                  0
                ]
              },
              {
                "id": 149,
                "properties": {
                  "id": "Catholic Customs",
                  "label": "__Entity__"
                },
                "color": "#CDDC39",
                "styles": {},
                "label": "Catholic Customs",
                "scale_factor": 1,
                "type": "#CDDC39",
                "size": [
                  55,
                  55
                ],
                "position": [
                  0,
                  0
                ]
              },
              {
                "id": 150,
                "properties": {
                  "id": "Protestantism",
                  "label": "__Entity__"
                },
                "color": "#CDDC39",
                "styles": {},
                "label": "Protestantism",
                "scale_factor": 1,
                "type": "#CDDC39",
                "size": [
                  55,
                  55
                ],
                "position": [
                  0,
                  0
                ]
              },
              {
                "id": 207,
                "properties": {
                  "id": "Lily Cole",
                  "label": "Person:__Entity__"
                },
                "color": "#2196F3",
                "styles": {},
                "label": "Lily Cole",
                "scale_factor": 1,
                "type": "#2196F3",
                "size": [
                  55,
                  55
                ],
                "position": [
                  0,
                  0
                ]
              },
              {
                "id": 208,
                "properties": {
                  "id": "Vincent Kerschbaum",
                  "label": "Person:__Entity__"
                },
                "color": "#2196F3",
                "styles": {},
                "label": "Vincent Kerschbaum",
                "scale_factor": 1,
                "type": "#2196F3",
                "size": [
                  55,
                  55
                ],
                "position": [
                  0,
                  0
                ]
              },
              {
                "id": 230,
                "properties": {
                  "id": "Channel 5",
                  "label": "__Entity__"
                },
                "color": "#CDDC39",
                "styles": {},
                "label": "Channel 5",
                "scale_factor": 1,
                "type": "#CDDC39",
                "size": [
                  55,
                  55
                ],
                "position": [
                  0,
                  0
                ]
              },
              {
                "id": 260,
                "properties": {
                  "id": "Channel 4",
                  "label": "Television network:Network:__Entity__:Organization"
                },
                "color": "#9E9E9E",
                "styles": {},
                "label": "Channel 4",
                "scale_factor": 1,
                "type": "#9E9E9E",
                "size": [
                  55,
                  55
                ],
                "position": [
                  0,
                  0
                ]
              },
              {
                "id": 453,
                "properties": {
                  "id": "Hbo",
                  "label": "Television network:__Entity__"
                },
                "color": "#9C27B0",
                "styles": {},
                "label": "Hbo",
                "scale_factor": 1,
                "type": "#9C27B0",
                "size": [
                  55,
                  55
                ],
                "position": [
                  0,
                  0
                ]
              },
              {
                "id": 454,
                "properties": {
                  "id": "Cbc",
                  "label": "Television network:__Entity__"
                },
                "color": "#9C27B0",
                "styles": {},
                "label": "Cbc",
                "scale_factor": 1,
                "type": "#9C27B0",
                "size": [
                  55,
                  55
                ],
                "position": [
                  0,
                  0
                ]
              },
              {
                "id": 455,
                "properties": {
                  "id": "Tmn",
                  "label": "Television network:__Entity__"
                },
                "color": "#9C27B0",
                "styles": {},
                "label": "Tmn",
                "scale_factor": 1,
                "type": "#9C27B0",
                "size": [
                  55,
                  55
                ],
                "position": [
                  0,
                  0
                ]
              },
              {
                "id": 456,
                "properties": {
                  "id": "Atv",
                  "label": "Television network:__Entity__"
                },
                "color": "#9C27B0",
                "styles": {},
                "label": "Atv",
                "scale_factor": 1,
                "type": "#9C27B0",
                "size": [
                  55,
                  55
                ],
                "position": [
                  0,
                  0
                ]
              },
              {
                "id": 457,
                "properties": {
                  "id": "Abc",
                  "label": "Television network:__Entity__"
                },
                "color": "#9C27B0",
                "styles": {},
                "label": "Abc",
                "scale_factor": 1,
                "type": "#9C27B0",
                "size": [
                  55,
                  55
                ],
                "position": [
                  0,
                  0
                ]
              },
              {
                "id": 458,
                "properties": {
                  "id": "Tvnz Television One",
                  "label": "Television network:__Entity__"
                },
                "color": "#9C27B0",
                "styles": {},
                "label": "Tvnz Television One",
                "scale_factor": 1,
                "type": "#9C27B0",
                "size": [
                  55,
                  55
                ],
                "position": [
                  0,
                  0
                ]
              },
              {
                "id": 137,
                "properties": {
                  "id": "Mary, Queen Of Scots",
                  "label": "Person:__Entity__"
                },
                "color": "#2196F3",
                "styles": {},
                "label": "Mary, Queen Of Scots",
                "scale_factor": 1,
                "type": "#2196F3",
                "size": [
                  55,
                  55
                ],
                "position": [
                  0,
                  0
                ]
              },
              {
                "id": 446,
                "properties": {
                  "id": "Nigel Williams",
                  "label": "Person:__Entity__"
                },
                "color": "#2196F3",
                "styles": {},
                "label": "Nigel Williams",
                "scale_factor": 1,
                "type": "#2196F3",
                "size": [
                  55,
                  55
                ],
                "position": [
                  0,
                  0
                ]
              },
              {
                "id": 447,
                "properties": {
                  "id": "Helen Mirren",
                  "label": "Person:__Entity__"
                },
                "color": "#2196F3",
                "styles": {},
                "label": "Helen Mirren",
                "scale_factor": 1,
                "type": "#2196F3",
                "size": [
                  55,
                  55
                ],
                "position": [
                  0,
                  0
                ]
              },
              {
                "id": 287,
                "properties": {
                  "id": "Jewel House",
                  "label": "Location:__Entity__"
                },
                "color": "#2196F3",
                "styles": {},
                "label": "Jewel House",
                "scale_factor": 1,
                "type": "#2196F3",
                "size": [
                  55,
                  55
                ],
                "position": [
                  0,
                  0
                ]
              },
              {
                "id": 445,
                "properties": {
                  "id": "Tom Hooper",
                  "label": "Person:__Entity__"
                },
                "color": "#2196F3",
                "styles": {},
                "label": "Tom Hooper",
                "scale_factor": 1,
                "type": "#2196F3",
                "size": [
                  55,
                  55
                ],
                "position": [
                  0,
                  0
                ]
              },
              {
                "id": 459,
                "properties": {
                  "id": "Emmy",
                  "label": "Award:__Entity__"
                },
                "color": "#4CAF50",
                "styles": {},
                "label": "Emmy",
                "scale_factor": 1,
                "type": "#4CAF50",
                "size": [
                  55,
                  55
                ],
                "position": [
                  0,
                  0
                ]
              },
              {
                "id": 460,
                "properties": {
                  "id": "Peabody",
                  "label": "Award:__Entity__"
                },
                "color": "#4CAF50",
                "styles": {},
                "label": "Peabody",
                "scale_factor": 1,
                "type": "#4CAF50",
                "size": [
                  55,
                  55
                ],
                "position": [
                  0,
                  0
                ]
              },
              {
                "id": 461,
                "properties": {
                  "id": "Golden Globe",
                  "label": "Award:__Entity__"
                },
                "color": "#4CAF50",
                "styles": {},
                "label": "Golden Globe",
                "scale_factor": 1,
                "type": "#4CAF50",
                "size": [
                  55,
                  55
                ],
                "position": [
                  0,
                  0
                ]
              },
              {
                "id": 450,
                "properties": {
                  "id": "Earl Of Leicester",
                  "label": "Person:__Entity__"
                },
                "color": "#2196F3",
                "styles": {},
                "label": "Earl Of Leicester",
                "scale_factor": 1,
                "type": "#2196F3",
                "size": [
                  55,
                  55
                ],
                "position": [
                  0,
                  0
                ]
              },
              {
                "id": 452,
                "properties": {
                  "id": "Duke Of Anjou",
                  "label": "Person:__Entity__"
                },
                "color": "#2196F3",
                "styles": {},
                "label": "Duke Of Anjou",
                "scale_factor": 1,
                "type": "#2196F3",
                "size": [
                  55,
                  55
                ],
                "position": [
                  0,
                  0
                ]
              },
              {
                "id": 196,
                "properties": {
                  "id": "Lord Burghley",
                  "label": "Person:__Entity__"
                },
                "color": "#2196F3",
                "styles": {},
                "label": "Lord Burghley",
                "scale_factor": 1,
                "type": "#2196F3",
                "size": [
                  55,
                  55
                ],
                "position": [
                  0,
                  0
                ]
              },
              {
                "id": 365,
                "properties": {
                  "id": "Francis Walsingham",
                  "label": "Person:__Entity__"
                },
                "color": "#2196F3",
                "styles": {},
                "label": "Francis Walsingham",
                "scale_factor": 1,
                "type": "#2196F3",
                "size": [
                  55,
                  55
                ],
                "position": [
                  0,
                  0
                ]
              },
              {
                "id": 4,
                "properties": {
                  "id": "Edward Vi",
                  "label": "Person:__Entity__"
                },
                "color": "#2196F3",
                "styles": {},
                "label": "Edward Vi",
                "scale_factor": 1,
                "type": "#2196F3",
                "size": [
                  55,
                  55
                ],
                "position": [
                  0,
                  0
                ]
              },
              {
                "id": 5,
                "properties": {
                  "id": "Mary",
                  "label": "Person:__Entity__"
                },
                "color": "#2196F3",
                "styles": {},
                "label": "Mary",
                "scale_factor": 1,
                "type": "#2196F3",
                "size": [
                  55,
                  55
                ],
                "position": [
                  0,
                  0
                ]
              },
              {
                "id": 72,
                "properties": {
                  "id": "Jane Grey",
                  "label": "Person:__Entity__"
                },
                "color": "#2196F3",
                "styles": {},
                "label": "Jane Grey",
                "scale_factor": 1,
                "type": "#2196F3",
                "size": [
                  55,
                  55
                ],
                "position": [
                  0,
                  0
                ]
              },
              {
                "id": 73,
                "properties": {
                  "id": "Katherine Grey",
                  "label": "Person:__Entity__"
                },
                "color": "#2196F3",
                "styles": {},
                "label": "Katherine Grey",
                "scale_factor": 1,
                "type": "#2196F3",
                "size": [
                  55,
                  55
                ],
                "position": [
                  0,
                  0
                ]
              },
              {
                "id": 74,
                "properties": {
                  "id": "Mary Grey",
                  "label": "Person:__Entity__"
                },
                "color": "#2196F3",
                "styles": {},
                "label": "Mary Grey",
                "scale_factor": 1,
                "type": "#2196F3",
                "size": [
                  55,
                  55
                ],
                "position": [
                  0,
                  0
                ]
              },
              {
                "id": 75,
                "properties": {
                  "id": "Margaret Clifford",
                  "label": "Person:__Entity__"
                },
                "color": "#2196F3",
                "styles": {},
                "label": "Margaret Clifford",
                "scale_factor": 1,
                "type": "#2196F3",
                "size": [
                  55,
                  55
                ],
                "position": [
                  0,
                  0
                ]
              },
              {
                "id": 98,
                "properties": {
                  "id": "Henry Vii",
                  "label": "Person:__Entity__"
                },
                "color": "#2196F3",
                "styles": {},
                "label": "Henry Vii",
                "scale_factor": 1,
                "type": "#2196F3",
                "size": [
                  55,
                  55
                ],
                "position": [
                  0,
                  0
                ]
              },
              {
                "id": 110,
                "properties": {
                  "id": "Kingdom Of France",
                  "label": "__Entity__"
                },
                "color": "#CDDC39",
                "styles": {},
                "label": "Kingdom Of France",
                "scale_factor": 1,
                "type": "#CDDC39",
                "size": [
                  55,
                  55
                ],
                "position": [
                  0,
                  0
                ]
              },
              {
                "id": 113,
                "properties": {
                  "id": "Tudor Monarchs",
                  "label": "Monarchs:__Entity__"
                },
                "color": "#F44336",
                "styles": {},
                "label": "Tudor Monarchs",
                "scale_factor": 1,
                "type": "#F44336",
                "size": [
                  55,
                  55
                ],
                "position": [
                  0,
                  0
                ]
              },
              {
                "id": 123,
                "properties": {
                  "id": "Catherine Of Aragon",
                  "label": "Person:__Entity__"
                },
                "color": "#2196F3",
                "styles": {},
                "label": "Catherine Of Aragon",
                "scale_factor": 1,
                "type": "#2196F3",
                "size": [
                  55,
                  55
                ],
                "position": [
                  0,
                  0
                ]
              },
              {
                "id": 147,
                "properties": {
                  "id": "Catholic Church",
                  "label": "__Entity__"
                },
                "color": "#CDDC39",
                "styles": {},
                "label": "Catholic Church",
                "scale_factor": 1,
                "type": "#CDDC39",
                "size": [
                  55,
                  55
                ],
                "position": [
                  0,
                  0
                ]
              },
              {
                "id": 193,
                "properties": {
                  "id": "Elizabeth I Of England",
                  "label": "Person:__Entity__"
                },
                "color": "#2196F3",
                "styles": {},
                "label": "Elizabeth I Of England",
                "scale_factor": 1,
                "type": "#2196F3",
                "size": [
                  55,
                  55
                ],
                "position": [
                  0,
                  0
                ]
              },
              {
                "id": 168,
                "properties": {
                  "id": "Linlithgow Palace",
                  "label": "Place:Location:__Entity__"
                },
                "color": "#673AB7",
                "styles": {},
                "label": "Linlithgow Palace",
                "scale_factor": 1,
                "type": "#673AB7",
                "size": [
                  55,
                  55
                ],
                "position": [
                  0,
                  0
                ]
              },
              {
                "id": 242,
                "properties": {
                  "id": "James V",
                  "label": "Person:__Entity__"
                },
                "color": "#2196F3",
                "styles": {},
                "label": "James V",
                "scale_factor": 1,
                "type": "#2196F3",
                "size": [
                  55,
                  55
                ],
                "position": [
                  0,
                  0
                ]
              },
              {
                "id": 234,
                "properties": {
                  "id": "Mary Of Guise",
                  "label": "Person:__Entity__"
                },
                "color": "#2196F3",
                "styles": {},
                "label": "Mary Of Guise",
                "scale_factor": 1,
                "type": "#2196F3",
                "size": [
                  55,
                  55
                ],
                "position": [
                  0,
                  0
                ]
              },
              {
                "id": 126,
                "properties": {
                  "id": "Thomas Wolsey",
                  "label": "Person:__Entity__"
                },
                "color": "#2196F3",
                "styles": {},
                "label": "Thomas Wolsey",
                "scale_factor": 1,
                "type": "#2196F3",
                "size": [
                  55,
                  55
                ],
                "position": [
                  0,
                  0
                ]
              },
              {
                "id": 127,
                "properties": {
                  "id": "Catherine, Countess Of Devon",
                  "label": "Person:__Entity__"
                },
                "color": "#2196F3",
                "styles": {},
                "label": "Catherine, Countess Of Devon",
                "scale_factor": 1,
                "type": "#2196F3",
                "size": [
                  55,
                  55
                ],
                "position": [
                  0,
                  0
                ]
              },
              {
                "id": 128,
                "properties": {
                  "id": "Agnes Howard, Duchess Of Norfolk",
                  "label": "Person:__Entity__"
                },
                "color": "#2196F3",
                "styles": {},
                "label": "Agnes Howard, Duchess Of Norfolk",
                "scale_factor": 1,
                "type": "#2196F3",
                "size": [
                  55,
                  55
                ],
                "position": [
                  0,
                  0
                ]
              },
              {
                "id": 129,
                "properties": {
                  "id": "Margaret Pole, Countess Of Salisbury",
                  "label": "Person:__Entity__"
                },
                "color": "#2196F3",
                "styles": {},
                "label": "Margaret Pole, Countess Of Salisbury",
                "scale_factor": 1,
                "type": "#2196F3",
                "size": [
                  55,
                  55
                ],
                "position": [
                  0,
                  0
                ]
              },
              {
                "id": 130,
                "properties": {
                  "id": "Frances Brandon",
                  "label": "Person:__Entity__"
                },
                "color": "#2196F3",
                "styles": {},
                "label": "Frances Brandon",
                "scale_factor": 1,
                "type": "#2196F3",
                "size": [
                  55,
                  55
                ],
                "position": [
                  0,
                  0
                ]
              },
              {
                "id": 131,
                "properties": {
                  "id": "Juan Luis Vives",
                  "label": "Person:__Entity__"
                },
                "color": "#2196F3",
                "styles": {},
                "label": "Juan Luis Vives",
                "scale_factor": 1,
                "type": "#2196F3",
                "size": [
                  55,
                  55
                ],
                "position": [
                  0,
                  0
                ]
              },
              {
                "id": 133,
                "properties": {
                  "id": "Sir John Hussey",
                  "label": "Person:__Entity__"
                },
                "color": "#2196F3",
                "styles": {},
                "label": "Sir John Hussey",
                "scale_factor": 1,
                "type": "#2196F3",
                "size": [
                  55,
                  55
                ],
                "position": [
                  0,
                  0
                ]
              },
              {
                "id": 92,
                "properties": {
                  "id": "Margaret Tudor",
                  "label": "Person:__Entity__"
                },
                "color": "#2196F3",
                "styles": {},
                "label": "Margaret Tudor",
                "scale_factor": 1,
                "type": "#2196F3",
                "size": [
                  55,
                  55
                ],
                "position": [
                  0,
                  0
                ]
              },
              {
                "id": 243,
                "properties": {
                  "id": "Fotheringhay Castle",
                  "label": "Place:__Entity__"
                },
                "color": "#607D8B",
                "styles": {},
                "label": "Fotheringhay Castle",
                "scale_factor": 1,
                "type": "#607D8B",
                "size": [
                  55,
                  55
                ],
                "position": [
                  0,
                  0
                ]
              },
              {
                "id": 356,
                "properties": {
                  "id": "William Walsingham",
                  "label": "Person:__Entity__"
                },
                "color": "#2196F3",
                "styles": {},
                "label": "William Walsingham",
                "scale_factor": 1,
                "type": "#2196F3",
                "size": [
                  55,
                  55
                ],
                "position": [
                  0,
                  0
                ]
              },
              {
                "id": 354,
                "properties": {
                  "id": "Switzerland",
                  "label": "Place:Location:__Entity__"
                },
                "color": "#673AB7",
                "styles": {},
                "label": "Switzerland",
                "scale_factor": 1,
                "type": "#673AB7",
                "size": [
                  55,
                  55
                ],
                "position": [
                  0,
                  0
                ]
              },
              {
                "id": 355,
                "properties": {
                  "id": "Northern Italy",
                  "label": "Location:__Entity__"
                },
                "color": "#2196F3",
                "styles": {},
                "label": "Northern Italy",
                "scale_factor": 1,
                "type": "#2196F3",
                "size": [
                  55,
                  55
                ],
                "position": [
                  0,
                  0
                ]
              },
              {
                "id": 352,
                "properties": {
                  "id": "Queen Elizabeth I Of England",
                  "label": "Person:__Entity__"
                },
                "color": "#2196F3",
                "styles": {},
                "label": "Queen Elizabeth I Of England",
                "scale_factor": 1,
                "type": "#2196F3",
                "size": [
                  55,
                  55
                ],
                "position": [
                  0,
                  0
                ]
              },
              {
                "id": 353,
                "properties": {
                  "id": "Cambridge University",
                  "label": "__Entity__:Organization"
                },
                "color": "#673AB7",
                "styles": {},
                "label": "Cambridge University",
                "scale_factor": 1,
                "type": "#673AB7",
                "size": [
                  55,
                  55
                ],
                "position": [
                  0,
                  0
                ]
              },
              {
                "id": 361,
                "properties": {
                  "id": "Sir Walter Mildmay",
                  "label": "Person:__Entity__"
                },
                "color": "#2196F3",
                "styles": {},
                "label": "Sir Walter Mildmay",
                "scale_factor": 1,
                "type": "#2196F3",
                "size": [
                  55,
                  55
                ],
                "position": [
                  0,
                  0
                ]
              },
              {
                "id": 362,
                "properties": {
                  "id": "Peter Wentworth",
                  "label": "Person:__Entity__"
                },
                "color": "#2196F3",
                "styles": {},
                "label": "Peter Wentworth",
                "scale_factor": 1,
                "type": "#2196F3",
                "size": [
                  55,
                  55
                ],
                "position": [
                  0,
                  0
                ]
              },
              {
                "id": 11,
                "properties": {
                  "id": "Elizabeth",
                  "label": "Character:Film:Person:__Entity__"
                },
                "color": "#CDDC39",
                "styles": {},
                "label": "Elizabeth",
                "scale_factor": 1,
                "type": "#CDDC39",
                "size": [
                  55,
                  55
                ],
                "position": [
                  0,
                  0
                ]
              },
              {
                "id": 12,
                "properties": {
                  "id": "Spain",
                  "label": "Country:__Entity__"
                },
                "color": "#9E9E9E",
                "styles": {},
                "label": "Spain",
                "scale_factor": 1,
                "type": "#9E9E9E",
                "size": [
                  55,
                  55
                ],
                "position": [
                  0,
                  0
                ]
              },
              {
                "id": 13,
                "properties": {
                  "id": "Netherlands",
                  "label": "Country:__Entity__"
                },
                "color": "#9E9E9E",
                "styles": {},
                "label": "Netherlands",
                "scale_factor": 1,
                "type": "#9E9E9E",
                "size": [
                  55,
                  55
                ],
                "position": [
                  0,
                  0
                ]
              },
              {
                "id": 14,
                "properties": {
                  "id": "France",
                  "label": "Location:Country:__Entity__"
                },
                "color": "#9C27B0",
                "styles": {},
                "label": "France",
                "scale_factor": 1,
                "type": "#9C27B0",
                "size": [
                  55,
                  55
                ],
                "position": [
                  0,
                  0
                ]
              },
              {
                "id": 15,
                "properties": {
                  "id": "Ireland",
                  "label": "Location:Country:__Entity__"
                },
                "color": "#9C27B0",
                "styles": {},
                "label": "Ireland",
                "scale_factor": 1,
                "type": "#9C27B0",
                "size": [
                  55,
                  55
                ],
                "position": [
                  0,
                  0
                ]
              },
              {
                "id": 16,
                "properties": {
                  "id": "William Shakespeare",
                  "label": "Person:__Entity__"
                },
                "color": "#2196F3",
                "styles": {},
                "label": "William Shakespeare",
                "scale_factor": 1,
                "type": "#2196F3",
                "size": [
                  55,
                  55
                ],
                "position": [
                  0,
                  0
                ]
              },
              {
                "id": 17,
                "properties": {
                  "id": "Christopher Marlowe",
                  "label": "Person:__Entity__"
                },
                "color": "#2196F3",
                "styles": {},
                "label": "Christopher Marlowe",
                "scale_factor": 1,
                "type": "#2196F3",
                "size": [
                  55,
                  55
                ],
                "position": [
                  0,
                  0
                ]
              },
              {
                "id": 18,
                "properties": {
                  "id": "Francis Drake",
                  "label": "Person:__Entity__"
                },
                "color": "#2196F3",
                "styles": {},
                "label": "Francis Drake",
                "scale_factor": 1,
                "type": "#2196F3",
                "size": [
                  55,
                  55
                ],
                "position": [
                  0,
                  0
                ]
              },
              {
                "id": 19,
                "properties": {
                  "id": "Walter Raleigh",
                  "label": "Person:__Entity__"
                },
                "color": "#2196F3",
                "styles": {},
                "label": "Walter Raleigh",
                "scale_factor": 1,
                "type": "#2196F3",
                "size": [
                  55,
                  55
                ],
                "position": [
                  0,
                  0
                ]
              },
              {
                "id": 20,
                "properties": {
                  "id": "Spanish Armada",
                  "label": "Event:__Entity__"
                },
                "color": "#F44336",
                "styles": {},
                "label": "Spanish Armada",
                "scale_factor": 1,
                "type": "#F44336",
                "size": [
                  55,
                  55
                ],
                "position": [
                  0,
                  0
                ]
              },
              {
                "id": 21,
                "properties": {
                  "id": "Henry Viii Of England",
                  "label": "Person:__Entity__"
                },
                "color": "#2196F3",
                "styles": {},
                "label": "Henry Viii Of England",
                "scale_factor": 1,
                "type": "#2196F3",
                "size": [
                  55,
                  55
                ],
                "position": [
                  0,
                  0
                ]
              },
              {
                "id": 25,
                "properties": {
                  "id": "Peter The Great",
                  "label": "Person:__Entity__"
                },
                "color": "#2196F3",
                "styles": {},
                "label": "Peter The Great",
                "scale_factor": 1,
                "type": "#2196F3",
                "size": [
                  55,
                  55
                ],
                "position": [
                  0,
                  0
                ]
              },
              {
                "id": 43,
                "properties": {
                  "id": "Catherine",
                  "label": "Person:__Entity__"
                },
                "color": "#2196F3",
                "styles": {},
                "label": "Catherine",
                "scale_factor": 1,
                "type": "#2196F3",
                "size": [
                  55,
                  55
                ],
                "position": [
                  0,
                  0
                ]
              },
              {
                "id": 22,
                "properties": {
                  "id": "Greenwich Palace",
                  "label": "Place:__Entity__"
                },
                "color": "#607D8B",
                "styles": {},
                "label": "Greenwich Palace",
                "scale_factor": 1,
                "type": "#607D8B",
                "size": [
                  55,
                  55
                ],
                "position": [
                  0,
                  0
                ]
              },
              {
                "id": 498,
                "properties": {
                  "id": "Buckingham Palace",
                  "label": "Place:Location:__Entity__:Organization"
                },
                "color": "#2196F3",
                "styles": {},
                "label": "Buckingham Palace",
                "scale_factor": 1,
                "type": "#2196F3",
                "size": [
                  55,
                  55
                ],
                "position": [
                  0,
                  0
                ]
              },
              {
                "id": 752,
                "properties": {
                  "id": "Grosvenor Gardens",
                  "label": "Location:__Entity__"
                },
                "color": "#2196F3",
                "styles": {},
                "label": "Grosvenor Gardens",
                "scale_factor": 1,
                "type": "#2196F3",
                "size": [
                  55,
                  55
                ],
                "position": [
                  0,
                  0
                ]
              },
              {
                "id": 753,
                "properties": {
                  "id": "Hitchin",
                  "label": "Location:__Entity__"
                },
                "color": "#2196F3",
                "styles": {},
                "label": "Hitchin",
                "scale_factor": 1,
                "type": "#2196F3",
                "size": [
                  55,
                  55
                ],
                "position": [
                  0,
                  0
                ]
              },
              {
                "id": 754,
                "properties": {
                  "id": "St Paul'S Walden Bury",
                  "label": "Location:__Entity__"
                },
                "color": "#2196F3",
                "styles": {},
                "label": "St Paul'S Walden Bury",
                "scale_factor": 1,
                "type": "#2196F3",
                "size": [
                  55,
                  55
                ],
                "position": [
                  0,
                  0
                ]
              },
              {
                "id": 45,
                "properties": {
                  "id": "House Of Romanov",
                  "label": "Family:__Entity__"
                },
                "color": "#4CAF50",
                "styles": {},
                "label": "House Of Romanov",
                "scale_factor": 1,
                "type": "#4CAF50",
                "size": [
                  55,
                  55
                ],
                "position": [
                  0,
                  0
                ]
              },
              {
                "id": 46,
                "properties": {
                  "id": "Russian Empire",
                  "label": "Empire:__Entity__"
                },
                "color": "#F44336",
                "styles": {},
                "label": "Russian Empire",
                "scale_factor": 1,
                "type": "#F44336",
                "size": [
                  55,
                  55
                ],
                "position": [
                  0,
                  0
                ]
              },
              {
                "id": 117,
                "properties": {
                  "id": "Charles Iii",
                  "label": "Person:__Entity__"
                },
                "color": "#2196F3",
                "styles": {},
                "label": "Charles Iii",
                "scale_factor": 1,
                "type": "#2196F3",
                "size": [
                  55,
                  55
                ],
                "position": [
                  0,
                  0
                ]
              },
              {
                "id": 153,
                "properties": {
                  "id": "Third Succession Act Of 1543/44",
                  "label": "Legislation:__Entity__"
                },
                "color": "#607D8B",
                "styles": {},
                "label": "Third Succession Act Of 1543/44",
                "scale_factor": 1,
                "type": "#607D8B",
                "size": [
                  55,
                  55
                ],
                "position": [
                  0,
                  0
                ]
              },
              {
                "id": 253,
                "properties": {
                  "id": "Sir William Cecil",
                  "label": "Person:__Entity__"
                },
                "color": "#2196F3",
                "styles": {},
                "label": "Sir William Cecil",
                "scale_factor": 1,
                "type": "#2196F3",
                "size": [
                  55,
                  55
                ],
                "position": [
                  0,
                  0
                ]
              },
              {
                "id": 152,
                "properties": {
                  "id": "Sir Nicholas Bacon",
                  "label": "Person:__Entity__"
                },
                "color": "#2196F3",
                "styles": {},
                "label": "Sir Nicholas Bacon",
                "scale_factor": 1,
                "type": "#2196F3",
                "size": [
                  55,
                  55
                ],
                "position": [
                  0,
                  0
                ]
              },
              {
                "id": 154,
                "properties": {
                  "id": "Tower Of London",
                  "label": "Place:__Entity__"
                },
                "color": "#607D8B",
                "styles": {},
                "label": "Tower Of London",
                "scale_factor": 1,
                "type": "#607D8B",
                "size": [
                  55,
                  55
                ],
                "position": [
                  0,
                  0
                ]
              },
              {
                "id": 155,
                "properties": {
                  "id": "Palace Of Westminster",
                  "label": "Place:__Entity__"
                },
                "color": "#607D8B",
                "styles": {},
                "label": "Palace Of Westminster",
                "scale_factor": 1,
                "type": "#607D8B",
                "size": [
                  55,
                  55
                ],
                "position": [
                  0,
                  0
                ]
              },
              {
                "id": 156,
                "properties": {
                  "id": "Westminster Hall",
                  "label": "Place:Location:__Entity__"
                },
                "color": "#673AB7",
                "styles": {},
                "label": "Westminster Hall",
                "scale_factor": 1,
                "type": "#673AB7",
                "size": [
                  55,
                  55
                ],
                "position": [
                  0,
                  0
                ]
              },
              {
                "id": 195,
                "properties": {
                  "id": "Anjou",
                  "label": "Person:__Entity__"
                },
                "color": "#2196F3",
                "styles": {},
                "label": "Anjou",
                "scale_factor": 1,
                "type": "#2196F3",
                "size": [
                  55,
                  55
                ],
                "position": [
                  0,
                  0
                ]
              },
              {
                "id": 197,
                "properties": {
                  "id": "Thomas Radclyffe",
                  "label": "Person:__Entity__"
                },
                "color": "#2196F3",
                "styles": {},
                "label": "Thomas Radclyffe",
                "scale_factor": 1,
                "type": "#2196F3",
                "size": [
                  55,
                  55
                ],
                "position": [
                  0,
                  0
                ]
              },
              {
                "id": 199,
                "properties": {
                  "id": "Robert Dudley",
                  "label": "Person:__Entity__"
                },
                "color": "#2196F3",
                "styles": {},
                "label": "Robert Dudley",
                "scale_factor": 1,
                "type": "#2196F3",
                "size": [
                  55,
                  55
                ],
                "position": [
                  0,
                  0
                ]
              },
              {
                "id": 245,
                "properties": {
                  "id": "Shekhar Kapur",
                  "label": "Person:__Entity__"
                },
                "color": "#2196F3",
                "styles": {},
                "label": "Shekhar Kapur",
                "scale_factor": 1,
                "type": "#2196F3",
                "size": [
                  55,
                  55
                ],
                "position": [
                  0,
                  0
                ]
              },
              {
                "id": 246,
                "properties": {
                  "id": "Michael Hirst",
                  "label": "Person:__Entity__"
                },
                "color": "#2196F3",
                "styles": {},
                "label": "Michael Hirst",
                "scale_factor": 1,
                "type": "#2196F3",
                "size": [
                  55,
                  55
                ],
                "position": [
                  0,
                  0
                ]
              },
              {
                "id": 247,
                "properties": {
                  "id": "Cate Blanchett",
                  "label": "Person:__Entity__"
                },
                "color": "#2196F3",
                "styles": {},
                "label": "Cate Blanchett",
                "scale_factor": 1,
                "type": "#2196F3",
                "size": [
                  55,
                  55
                ],
                "position": [
                  0,
                  0
                ]
              },
              {
                "id": 248,
                "properties": {
                  "id": "Geoffrey Rush",
                  "label": "Person:__Entity__"
                },
                "color": "#2196F3",
                "styles": {},
                "label": "Geoffrey Rush",
                "scale_factor": 1,
                "type": "#2196F3",
                "size": [
                  55,
                  55
                ],
                "position": [
                  0,
                  0
                ]
              },
              {
                "id": 249,
                "properties": {
                  "id": "Christopher Eccleston",
                  "label": "Person:__Entity__"
                },
                "color": "#2196F3",
                "styles": {},
                "label": "Christopher Eccleston",
                "scale_factor": 1,
                "type": "#2196F3",
                "size": [
                  55,
                  55
                ],
                "position": [
                  0,
                  0
                ]
              },
              {
                "id": 250,
                "properties": {
                  "id": "Joseph Fiennes",
                  "label": "Person:__Entity__"
                },
                "color": "#2196F3",
                "styles": {},
                "label": "Joseph Fiennes",
                "scale_factor": 1,
                "type": "#2196F3",
                "size": [
                  55,
                  55
                ],
                "position": [
                  0,
                  0
                ]
              },
              {
                "id": 251,
                "properties": {
                  "id": "John Gielgud",
                  "label": "Person:__Entity__"
                },
                "color": "#2196F3",
                "styles": {},
                "label": "John Gielgud",
                "scale_factor": 1,
                "type": "#2196F3",
                "size": [
                  55,
                  55
                ],
                "position": [
                  0,
                  0
                ]
              },
              {
                "id": 252,
                "properties": {
                  "id": "Richard Attenborough",
                  "label": "Person:__Entity__"
                },
                "color": "#2196F3",
                "styles": {},
                "label": "Richard Attenborough",
                "scale_factor": 1,
                "type": "#2196F3",
                "size": [
                  55,
                  55
                ],
                "position": [
                  0,
                  0
                ]
              },
              {
                "id": 254,
                "properties": {
                  "id": "Thomas Howard",
                  "label": "Person:__Entity__"
                },
                "color": "#2196F3",
                "styles": {},
                "label": "Thomas Howard",
                "scale_factor": 1,
                "type": "#2196F3",
                "size": [
                  55,
                  55
                ],
                "position": [
                  0,
                  0
                ]
              },
              {
                "id": 331,
                "properties": {
                  "id": "Sarah Bernhardt",
                  "label": "Person:__Entity__"
                },
                "color": "#2196F3",
                "styles": {},
                "label": "Sarah Bernhardt",
                "scale_factor": 1,
                "type": "#2196F3",
                "size": [
                  55,
                  55
                ],
                "position": [
                  0,
                  0
                ]
              },
              {
                "id": 332,
                "properties": {
                  "id": "Gladys Ffolliott",
                  "label": "Person:__Entity__"
                },
                "color": "#2196F3",
                "styles": {},
                "label": "Gladys Ffolliott",
                "scale_factor": 1,
                "type": "#2196F3",
                "size": [
                  55,
                  55
                ],
                "position": [
                  0,
                  0
                ]
              },
              {
                "id": 333,
                "properties": {
                  "id": "Athene Seyler",
                  "label": "Person:__Entity__"
                },
                "color": "#2196F3",
                "styles": {},
                "label": "Athene Seyler",
                "scale_factor": 1,
                "type": "#2196F3",
                "size": [
                  55,
                  55
                ],
                "position": [
                  0,
                  0
                ]
              },
              {
                "id": 334,
                "properties": {
                  "id": "Florence Eldridge",
                  "label": "Person:__Entity__"
                },
                "color": "#2196F3",
                "styles": {},
                "label": "Florence Eldridge",
                "scale_factor": 1,
                "type": "#2196F3",
                "size": [
                  55,
                  55
                ],
                "position": [
                  0,
                  0
                ]
              },
              {
                "id": 335,
                "properties": {
                  "id": "Gwendolyn Jones",
                  "label": "Person:__Entity__"
                },
                "color": "#2196F3",
                "styles": {},
                "label": "Gwendolyn Jones",
                "scale_factor": 1,
                "type": "#2196F3",
                "size": [
                  55,
                  55
                ],
                "position": [
                  0,
                  0
                ]
              },
              {
                "id": 336,
                "properties": {
                  "id": "Yvette Pienne",
                  "label": "Person:__Entity__"
                },
                "color": "#2196F3",
                "styles": {},
                "label": "Yvette Pienne",
                "scale_factor": 1,
                "type": "#2196F3",
                "size": [
                  55,
                  55
                ],
                "position": [
                  0,
                  0
                ]
              },
              {
                "id": 337,
                "properties": {
                  "id": "Flora Robson",
                  "label": "Person:__Entity__"
                },
                "color": "#2196F3",
                "styles": {},
                "label": "Flora Robson",
                "scale_factor": 1,
                "type": "#2196F3",
                "size": [
                  55,
                  55
                ],
                "position": [
                  0,
                  0
                ]
              },
              {
                "id": 338,
                "properties": {
                  "id": "Bette Davis",
                  "label": "Person:__Entity__"
                },
                "color": "#2196F3",
                "styles": {},
                "label": "Bette Davis",
                "scale_factor": 1,
                "type": "#2196F3",
                "size": [
                  55,
                  55
                ],
                "position": [
                  0,
                  0
                ]
              },
              {
                "id": 339,
                "properties": {
                  "id": "Maria Koppenhöfer",
                  "label": "Person:__Entity__"
                },
                "color": "#2196F3",
                "styles": {},
                "label": "Maria Koppenhöfer",
                "scale_factor": 1,
                "type": "#2196F3",
                "size": [
                  55,
                  55
                ],
                "position": [
                  0,
                  0
                ]
              },
              {
                "id": 340,
                "properties": {
                  "id": "Olga Lindo",
                  "label": "Person:__Entity__"
                },
                "color": "#2196F3",
                "styles": {},
                "label": "Olga Lindo",
                "scale_factor": 1,
                "type": "#2196F3",
                "size": [
                  55,
                  55
                ],
                "position": [
                  0,
                  0
                ]
              },
              {
                "id": 341,
                "properties": {
                  "id": "Jean Simmons",
                  "label": "Person:__Entity__"
                },
                "color": "#2196F3",
                "styles": {},
                "label": "Jean Simmons",
                "scale_factor": 1,
                "type": "#2196F3",
                "size": [
                  55,
                  55
                ],
                "position": [
                  0,
                  0
                ]
              },
              {
                "id": 342,
                "properties": {
                  "id": "Agnes Moorehead",
                  "label": "Person:__Entity__"
                },
                "color": "#2196F3",
                "styles": {},
                "label": "Agnes Moorehead",
                "scale_factor": 1,
                "type": "#2196F3",
                "size": [
                  55,
                  55
                ],
                "position": [
                  0,
                  0
                ]
              },
              {
                "id": 343,
                "properties": {
                  "id": "Irene Worth",
                  "label": "Person:__Entity__"
                },
                "color": "#2196F3",
                "styles": {},
                "label": "Irene Worth",
                "scale_factor": 1,
                "type": "#2196F3",
                "size": [
                  55,
                  55
                ],
                "position": [
                  0,
                  0
                ]
              },
              {
                "id": 344,
                "properties": {
                  "id": "Catherine Lacey",
                  "label": "Person:__Entity__"
                },
                "color": "#2196F3",
                "styles": {},
                "label": "Catherine Lacey",
                "scale_factor": 1,
                "type": "#2196F3",
                "size": [
                  55,
                  55
                ],
                "position": [
                  0,
                  0
                ]
              },
              {
                "id": 345,
                "properties": {
                  "id": "Glenda Jackson",
                  "label": "Person:__Entity__"
                },
                "color": "#2196F3",
                "styles": {},
                "label": "Glenda Jackson",
                "scale_factor": 1,
                "type": "#2196F3",
                "size": [
                  55,
                  55
                ],
                "position": [
                  0,
                  0
                ]
              },
              {
                "id": 346,
                "properties": {
                  "id": "Jenny Runacre",
                  "label": "Person:__Entity__"
                },
                "color": "#2196F3",
                "styles": {},
                "label": "Jenny Runacre",
                "scale_factor": 1,
                "type": "#2196F3",
                "size": [
                  55,
                  55
                ],
                "position": [
                  0,
                  0
                ]
              },
              {
                "id": 347,
                "properties": {
                  "id": "Lalla Ward",
                  "label": "Person:__Entity__"
                },
                "color": "#2196F3",
                "styles": {},
                "label": "Lalla Ward",
                "scale_factor": 1,
                "type": "#2196F3",
                "size": [
                  55,
                  55
                ],
                "position": [
                  0,
                  0
                ]
              },
              {
                "id": 348,
                "properties": {
                  "id": "Quentin Crisp",
                  "label": "Person:__Entity__"
                },
                "color": "#2196F3",
                "styles": {},
                "label": "Quentin Crisp",
                "scale_factor": 1,
                "type": "#2196F3",
                "size": [
                  55,
                  55
                ],
                "position": [
                  0,
                  0
                ]
              },
              {
                "id": 349,
                "properties": {
                  "id": "Judi Dench",
                  "label": "Person:__Entity__"
                },
                "color": "#2196F3",
                "styles": {},
                "label": "Judi Dench",
                "scale_factor": 1,
                "type": "#2196F3",
                "size": [
                  55,
                  55
                ],
                "position": [
                  0,
                  0
                ]
              },
              {
                "id": 350,
                "properties": {
                  "id": "Vanessa Redgrave",
                  "label": "Person:__Entity__"
                },
                "color": "#2196F3",
                "styles": {},
                "label": "Vanessa Redgrave",
                "scale_factor": 1,
                "type": "#2196F3",
                "size": [
                  55,
                  55
                ],
                "position": [
                  0,
                  0
                ]
              },
              {
                "id": 388,
                "properties": {
                  "id": "Dr. John Dee",
                  "label": "Person:__Entity__"
                },
                "color": "#2196F3",
                "styles": {},
                "label": "Dr. John Dee",
                "scale_factor": 1,
                "type": "#2196F3",
                "size": [
                  55,
                  55
                ],
                "position": [
                  0,
                  0
                ]
              },
              {
                "id": 395,
                "properties": {
                  "id": "Spanish Diplomats",
                  "label": "__Entity__"
                },
                "color": "#CDDC39",
                "styles": {},
                "label": "Spanish Diplomats",
                "scale_factor": 1,
                "type": "#CDDC39",
                "size": [
                  55,
                  55
                ],
                "position": [
                  0,
                  0
                ]
              },
              {
                "id": 390,
                "properties": {
                  "id": "Mary Of Scots",
                  "label": "Person:__Entity__"
                },
                "color": "#2196F3",
                "styles": {},
                "label": "Mary Of Scots",
                "scale_factor": 1,
                "type": "#2196F3",
                "size": [
                  55,
                  55
                ],
                "position": [
                  0,
                  0
                ]
              },
              {
                "id": 854,
                "properties": {
                  "id": "Corgi Room",
                  "label": "Location:__Entity__"
                },
                "color": "#2196F3",
                "styles": {},
                "label": "Corgi Room",
                "scale_factor": 1,
                "type": "#2196F3",
                "size": [
                  55,
                  55
                ],
                "position": [
                  0,
                  0
                ]
              },
              {
                "id": 465,
                "properties": {
                  "id": "Essex",
                  "label": "Person:__Entity__"
                },
                "color": "#2196F3",
                "styles": {},
                "label": "Essex",
                "scale_factor": 1,
                "type": "#2196F3",
                "size": [
                  55,
                  55
                ],
                "position": [
                  0,
                  0
                ]
              },
              {
                "id": 469,
                "properties": {
                  "id": "Cecil",
                  "label": "__Entity__"
                },
                "color": "#CDDC39",
                "styles": {},
                "label": "Cecil",
                "scale_factor": 1,
                "type": "#CDDC39",
                "size": [
                  55,
                  55
                ],
                "position": [
                  0,
                  0
                ]
              },
              {
                "id": 491,
                "properties": {
                  "id": "Balmoral Castle",
                  "label": "Place:__Entity__"
                },
                "color": "#607D8B",
                "styles": {},
                "label": "Balmoral Castle",
                "scale_factor": 1,
                "type": "#607D8B",
                "size": [
                  55,
                  55
                ],
                "position": [
                  0,
                  0
                ]
              },
              {
                "id": 584,
                "properties": {
                  "id": "Norman Hartnell",
                  "label": "Person:__Entity__"
                },
                "color": "#2196F3",
                "styles": {},
                "label": "Norman Hartnell",
                "scale_factor": 1,
                "type": "#2196F3",
                "size": [
                  55,
                  55
                ],
                "position": [
                  0,
                  0
                ]
              },
              {
                "id": 749,
                "properties": {
                  "id": "Arthur Wellesley, 1St Duke Of Wellington",
                  "label": "Person:__Entity__"
                },
                "color": "#2196F3",
                "styles": {},
                "label": "Arthur Wellesley, 1St Duke Of Wellington",
                "scale_factor": 1,
                "type": "#2196F3",
                "size": [
                  55,
                  55
                ],
                "position": [
                  0,
                  0
                ]
              },
              {
                "id": 755,
                "properties": {
                  "id": "Glamis Castle",
                  "label": "Location:__Entity__"
                },
                "color": "#2196F3",
                "styles": {},
                "label": "Glamis Castle",
                "scale_factor": 1,
                "type": "#2196F3",
                "size": [
                  55,
                  55
                ],
                "position": [
                  0,
                  0
                ]
              },
              {
                "id": 757,
                "properties": {
                  "id": "Black Watch Regiment",
                  "label": "__Entity__:Military unit"
                },
                "color": "#673AB7",
                "styles": {},
                "label": "Black Watch Regiment",
                "scale_factor": 1,
                "type": "#673AB7",
                "size": [
                  55,
                  55
                ],
                "position": [
                  0,
                  0
                ]
              },
              {
                "id": 767,
                "properties": {
                  "id": "Church Of England",
                  "label": "__Entity__:Organization"
                },
                "color": "#673AB7",
                "styles": {},
                "label": "Church Of England",
                "scale_factor": 1,
                "type": "#673AB7",
                "size": [
                  55,
                  55
                ],
                "position": [
                  0,
                  0
                ]
              },
              {
                "id": 768,
                "properties": {
                  "id": "Church Of Scotland",
                  "label": "__Entity__:Organization"
                },
                "color": "#673AB7",
                "styles": {},
                "label": "Church Of Scotland",
                "scale_factor": 1,
                "type": "#673AB7",
                "size": [
                  55,
                  55
                ],
                "position": [
                  0,
                  0
                ]
              },
              {
                "id": 770,
                "properties": {
                  "id": "Pius Xii",
                  "label": "Person:__Entity__"
                },
                "color": "#2196F3",
                "styles": {},
                "label": "Pius Xii",
                "scale_factor": 1,
                "type": "#2196F3",
                "size": [
                  55,
                  55
                ],
                "position": [
                  0,
                  0
                ]
              },
              {
                "id": 771,
                "properties": {
                  "id": "John Xxiii",
                  "label": "Person:__Entity__"
                },
                "color": "#2196F3",
                "styles": {},
                "label": "John Xxiii",
                "scale_factor": 1,
                "type": "#2196F3",
                "size": [
                  55,
                  55
                ],
                "position": [
                  0,
                  0
                ]
              },
              {
                "id": 772,
                "properties": {
                  "id": "John Paul Ii",
                  "label": "Person:__Entity__"
                },
                "color": "#2196F3",
                "styles": {},
                "label": "John Paul Ii",
                "scale_factor": 1,
                "type": "#2196F3",
                "size": [
                  55,
                  55
                ],
                "position": [
                  0,
                  0
                ]
              },
              {
                "id": 773,
                "properties": {
                  "id": "Benedict Xvi",
                  "label": "Person:__Entity__"
                },
                "color": "#2196F3",
                "styles": {},
                "label": "Benedict Xvi",
                "scale_factor": 1,
                "type": "#2196F3",
                "size": [
                  55,
                  55
                ],
                "position": [
                  0,
                  0
                ]
              },
              {
                "id": 774,
                "properties": {
                  "id": "Francis",
                  "label": "Person:__Entity__"
                },
                "color": "#2196F3",
                "styles": {},
                "label": "Francis",
                "scale_factor": 1,
                "type": "#2196F3",
                "size": [
                  55,
                  55
                ],
                "position": [
                  0,
                  0
                ]
              },
              {
                "id": 775,
                "properties": {
                  "id": "Charities Aid Foundation",
                  "label": "__Entity__:Organization"
                },
                "color": "#673AB7",
                "styles": {},
                "label": "Charities Aid Foundation",
                "scale_factor": 1,
                "type": "#673AB7",
                "size": [
                  55,
                  55
                ],
                "position": [
                  0,
                  0
                ]
              },
              {
                "id": 776,
                "properties": {
                  "id": "Dookie",
                  "label": "Animal:__Entity__"
                },
                "color": "#CDDC39",
                "styles": {},
                "label": "Dookie",
                "scale_factor": 1,
                "type": "#CDDC39",
                "size": [
                  55,
                  55
                ],
                "position": [
                  0,
                  0
                ]
              },
              {
                "id": 761,
                "properties": {
                  "id": "Pembroke Welsh Corgis",
                  "label": "Animal:__Entity__"
                },
                "color": "#CDDC39",
                "styles": {},
                "label": "Pembroke Welsh Corgis",
                "scale_factor": 1,
                "type": "#CDDC39",
                "size": [
                  55,
                  55
                ],
                "position": [
                  0,
                  0
                ]
              },
              {
                "id": 777,
                "properties": {
                  "id": "Michael Owen",
                  "label": "Person:__Entity__"
                },
                "color": "#2196F3",
                "styles": {},
                "label": "Michael Owen",
                "scale_factor": 1,
                "type": "#2196F3",
                "size": [
                  55,
                  55
                ],
                "position": [
                  0,
                  0
                ]
              },
              {
                "id": 778,
                "properties": {
                  "id": "Sven-Göran Eriksson",
                  "label": "Person:__Entity__"
                },
                "color": "#2196F3",
                "styles": {},
                "label": "Sven-Göran Eriksson",
                "scale_factor": 1,
                "type": "#2196F3",
                "size": [
                  55,
                  55
                ],
                "position": [
                  0,
                  0
                ]
              },
              {
                "id": 855,
                "properties": {
                  "id": "Grand Cayman",
                  "label": "Location:__Entity__"
                },
                "color": "#2196F3",
                "styles": {},
                "label": "Grand Cayman",
                "scale_factor": 1,
                "type": "#2196F3",
                "size": [
                  55,
                  55
                ],
                "position": [
                  0,
                  0
                ]
              },
              {
                "id": 844,
                "properties": {
                  "id": "Pipkin",
                  "label": "Dog:__Entity__"
                },
                "color": "#9E9E9E",
                "styles": {},
                "label": "Pipkin",
                "scale_factor": 1,
                "type": "#9E9E9E",
                "size": [
                  55,
                  55
                ],
                "position": [
                  0,
                  0
                ]
              },
              {
                "id": 846,
                "properties": {
                  "id": "Whisky",
                  "label": "Dog:__Entity__"
                },
                "color": "#9E9E9E",
                "styles": {},
                "label": "Whisky",
                "scale_factor": 1,
                "type": "#9E9E9E",
                "size": [
                  55,
                  55
                ],
                "position": [
                  0,
                  0
                ]
              },
              {
                "id": 847,
                "properties": {
                  "id": "Sherry",
                  "label": "Dog:__Entity__"
                },
                "color": "#9E9E9E",
                "styles": {},
                "label": "Sherry",
                "scale_factor": 1,
                "type": "#9E9E9E",
                "size": [
                  55,
                  55
                ],
                "position": [
                  0,
                  0
                ]
              },
              {
                "id": 438,
                "properties": {
                  "id": "Carew",
                  "label": "Person:__Entity__"
                },
                "color": "#2196F3",
                "styles": {},
                "label": "Carew",
                "scale_factor": 1,
                "type": "#2196F3",
                "size": [
                  55,
                  55
                ],
                "position": [
                  0,
                  0
                ]
              },
              {
                "id": 442,
                "properties": {
                  "id": "Walter",
                  "label": "__Entity__"
                },
                "color": "#CDDC39",
                "styles": {},
                "label": "Walter",
                "scale_factor": 1,
                "type": "#CDDC39",
                "size": [
                  55,
                  55
                ],
                "position": [
                  0,
                  0
                ]
              },
              {
                "id": 386,
                "properties": {
                  "id": "Bess",
                  "label": "Person:__Entity__"
                },
                "color": "#2196F3",
                "styles": {},
                "label": "Bess",
                "scale_factor": 1,
                "type": "#2196F3",
                "size": [
                  55,
                  55
                ],
                "position": [
                  0,
                  0
                ]
              },
              {
                "id": 443,
                "properties": {
                  "id": "1618",
                  "label": "__Entity__"
                },
                "color": "#CDDC39",
                "styles": {},
                "label": "1618",
                "scale_factor": 1,
                "type": "#CDDC39",
                "size": [
                  55,
                  55
                ],
                "position": [
                  0,
                  0
                ]
              },
              {
                "id": 464,
                "properties": {
                  "id": "Leicester",
                  "label": "Person:__Entity__"
                },
                "color": "#2196F3",
                "styles": {},
                "label": "Leicester",
                "scale_factor": 1,
                "type": "#2196F3",
                "size": [
                  55,
                  55
                ],
                "position": [
                  0,
                  0
                ]
              },
              {
                "id": 24,
                "properties": {
                  "id": "Elizabeth Petrovna",
                  "label": "Person:__Entity__"
                },
                "color": "#2196F3",
                "styles": {},
                "label": "Elizabeth Petrovna",
                "scale_factor": 1,
                "type": "#2196F3",
                "size": [
                  55,
                  55
                ],
                "position": [
                  0,
                  0
                ]
              },
              {
                "id": 26,
                "properties": {
                  "id": "Catherine I Of Russia",
                  "label": "Person:__Entity__"
                },
                "color": "#2196F3",
                "styles": {},
                "label": "Catherine I Of Russia",
                "scale_factor": 1,
                "type": "#2196F3",
                "size": [
                  55,
                  55
                ],
                "position": [
                  0,
                  0
                ]
              },
              {
                "id": 29,
                "properties": {
                  "id": "Ivan Vi",
                  "label": "Person:__Entity__"
                },
                "color": "#2196F3",
                "styles": {},
                "label": "Ivan Vi",
                "scale_factor": 1,
                "type": "#2196F3",
                "size": [
                  55,
                  55
                ],
                "position": [
                  0,
                  0
                ]
              },
              {
                "id": 30,
                "properties": {
                  "id": "Peter Iii",
                  "label": "Person:__Entity__"
                },
                "color": "#2196F3",
                "styles": {},
                "label": "Peter Iii",
                "scale_factor": 1,
                "type": "#2196F3",
                "size": [
                  55,
                  55
                ],
                "position": [
                  0,
                  0
                ]
              },
              {
                "id": 31,
                "properties": {
                  "id": "Mikhail Lomonosov",
                  "label": "Person:__Entity__"
                },
                "color": "#2196F3",
                "styles": {},
                "label": "Mikhail Lomonosov",
                "scale_factor": 1,
                "type": "#2196F3",
                "size": [
                  55,
                  55
                ],
                "position": [
                  0,
                  0
                ]
              },
              {
                "id": 32,
                "properties": {
                  "id": "Ivan Shuvalov",
                  "label": "Person:__Entity__"
                },
                "color": "#2196F3",
                "styles": {},
                "label": "Ivan Shuvalov",
                "scale_factor": 1,
                "type": "#2196F3",
                "size": [
                  55,
                  55
                ],
                "position": [
                  0,
                  0
                ]
              },
              {
                "id": 33,
                "properties": {
                  "id": "Bartolomeo Rastrelli",
                  "label": "Person:__Entity__"
                },
                "color": "#2196F3",
                "styles": {},
                "label": "Bartolomeo Rastrelli",
                "scale_factor": 1,
                "type": "#2196F3",
                "size": [
                  55,
                  55
                ],
                "position": [
                  0,
                  0
                ]
              },
              {
                "id": 35,
                "properties": {
                  "id": "War Of Austrian Succession",
                  "label": "Event:__Entity__"
                },
                "color": "#F44336",
                "styles": {},
                "label": "War Of Austrian Succession",
                "scale_factor": 1,
                "type": "#F44336",
                "size": [
                  55,
                  55
                ],
                "position": [
                  0,
                  0
                ]
              },
              {
                "id": 36,
                "properties": {
                  "id": "Seven Years' War",
                  "label": "Event:__Entity__"
                },
                "color": "#F44336",
                "styles": {},
                "label": "Seven Years' War",
                "scale_factor": 1,
                "type": "#F44336",
                "size": [
                  55,
                  55
                ],
                "position": [
                  0,
                  0
                ]
              },
              {
                "id": 27,
                "properties": {
                  "id": "Peter Ii",
                  "label": "Person:__Entity__"
                },
                "color": "#2196F3",
                "styles": {},
                "label": "Peter Ii",
                "scale_factor": 1,
                "type": "#2196F3",
                "size": [
                  55,
                  55
                ],
                "position": [
                  0,
                  0
                ]
              },
              {
                "id": 28,
                "properties": {
                  "id": "Anna",
                  "label": "Person:__Entity__"
                },
                "color": "#2196F3",
                "styles": {},
                "label": "Anna",
                "scale_factor": 1,
                "type": "#2196F3",
                "size": [
                  55,
                  55
                ],
                "position": [
                  0,
                  0
                ]
              },
              {
                "id": 34,
                "properties": {
                  "id": "Aleksey Bestuzhev-Ryumin",
                  "label": "Person:__Entity__"
                },
                "color": "#2196F3",
                "styles": {},
                "label": "Aleksey Bestuzhev-Ryumin",
                "scale_factor": 1,
                "type": "#2196F3",
                "size": [
                  55,
                  55
                ],
                "position": [
                  0,
                  0
                ]
              },
              {
                "id": 37,
                "properties": {
                  "id": "University Of Moscow",
                  "label": "__Entity__:Organization"
                },
                "color": "#673AB7",
                "styles": {},
                "label": "University Of Moscow",
                "scale_factor": 1,
                "type": "#673AB7",
                "size": [
                  55,
                  55
                ],
                "position": [
                  0,
                  0
                ]
              },
              {
                "id": 38,
                "properties": {
                  "id": "Imperial Academy Of Arts",
                  "label": "__Entity__:Organization"
                },
                "color": "#673AB7",
                "styles": {},
                "label": "Imperial Academy Of Arts",
                "scale_factor": 1,
                "type": "#673AB7",
                "size": [
                  55,
                  55
                ],
                "position": [
                  0,
                  0
                ]
              },
              {
                "id": 39,
                "properties": {
                  "id": "Winter Palace",
                  "label": "Place:__Entity__"
                },
                "color": "#607D8B",
                "styles": {},
                "label": "Winter Palace",
                "scale_factor": 1,
                "type": "#607D8B",
                "size": [
                  55,
                  55
                ],
                "position": [
                  0,
                  0
                ]
              },
              {
                "id": 40,
                "properties": {
                  "id": "Smolny Cathedral",
                  "label": "Place:__Entity__"
                },
                "color": "#607D8B",
                "styles": {},
                "label": "Smolny Cathedral",
                "scale_factor": 1,
                "type": "#607D8B",
                "size": [
                  55,
                  55
                ],
                "position": [
                  0,
                  0
                ]
              },
              {
                "id": 41,
                "properties": {
                  "id": "Peterhof Palace",
                  "label": "Place:__Entity__"
                },
                "color": "#607D8B",
                "styles": {},
                "label": "Peterhof Palace",
                "scale_factor": 1,
                "type": "#607D8B",
                "size": [
                  55,
                  55
                ],
                "position": [
                  0,
                  0
                ]
              },
              {
                "id": 50,
                "properties": {
                  "id": "Samuel Skowroński",
                  "label": "__Entity__"
                },
                "color": "#CDDC39",
                "styles": {},
                "label": "Samuel Skowroński",
                "scale_factor": 1,
                "type": "#CDDC39",
                "size": [
                  55,
                  55
                ],
                "position": [
                  0,
                  0
                ]
              },
              {
                "id": 51,
                "properties": {
                  "id": "Grand Duchy Of Lithuania",
                  "label": "__Entity__"
                },
                "color": "#CDDC39",
                "styles": {},
                "label": "Grand Duchy Of Lithuania",
                "scale_factor": 1,
                "type": "#CDDC39",
                "size": [
                  55,
                  55
                ],
                "position": [
                  0,
                  0
                ]
              },
              {
                "id": 44,
                "properties": {
                  "id": "Alexei Petrovich",
                  "label": "Person:__Entity__"
                },
                "color": "#2196F3",
                "styles": {},
                "label": "Alexei Petrovich",
                "scale_factor": 1,
                "type": "#2196F3",
                "size": [
                  55,
                  55
                ],
                "position": [
                  0,
                  0
                ]
              },
              {
                "id": 49,
                "properties": {
                  "id": "Russian Troops",
                  "label": "__Entity__"
                },
                "color": "#CDDC39",
                "styles": {},
                "label": "Russian Troops",
                "scale_factor": 1,
                "type": "#CDDC39",
                "size": [
                  55,
                  55
                ],
                "position": [
                  0,
                  0
                ]
              },
              {
                "id": 47,
                "properties": {
                  "id": "Prussia",
                  "label": "Country:__Entity__"
                },
                "color": "#9E9E9E",
                "styles": {},
                "label": "Prussia",
                "scale_factor": 1,
                "type": "#9E9E9E",
                "size": [
                  55,
                  55
                ],
                "position": [
                  0,
                  0
                ]
              },
              {
                "id": 48,
                "properties": {
                  "id": "Berlin",
                  "label": "City:__Entity__"
                },
                "color": "#9C27B0",
                "styles": {},
                "label": "Berlin",
                "scale_factor": 1,
                "type": "#9C27B0",
                "size": [
                  55,
                  55
                ],
                "position": [
                  0,
                  0
                ]
              },
              {
                "id": 53,
                "properties": {
                  "id": "Queen Elizabeth I",
                  "label": "Person:__Entity__"
                },
                "color": "#2196F3",
                "styles": {},
                "label": "Queen Elizabeth I",
                "scale_factor": 1,
                "type": "#2196F3",
                "size": [
                  55,
                  55
                ],
                "position": [
                  0,
                  0
                ]
              },
              {
                "id": 54,
                "properties": {
                  "id": "Nicholas Hilliard",
                  "label": "Person:__Entity__"
                },
                "color": "#2196F3",
                "styles": {},
                "label": "Nicholas Hilliard",
                "scale_factor": 1,
                "type": "#2196F3",
                "size": [
                  55,
                  55
                ],
                "position": [
                  0,
                  0
                ]
              },
              {
                "id": 55,
                "properties": {
                  "id": "George Gower",
                  "label": "Person:__Entity__"
                },
                "color": "#2196F3",
                "styles": {},
                "label": "George Gower",
                "scale_factor": 1,
                "type": "#2196F3",
                "size": [
                  55,
                  55
                ],
                "position": [
                  0,
                  0
                ]
              },
              {
                "id": 60,
                "properties": {
                  "id": "Tudor England",
                  "label": "Place:__Entity__"
                },
                "color": "#607D8B",
                "styles": {},
                "label": "Tudor England",
                "scale_factor": 1,
                "type": "#607D8B",
                "size": [
                  55,
                  55
                ],
                "position": [
                  0,
                  0
                ]
              },
              {
                "id": 61,
                "properties": {
                  "id": "Elizabethan Era",
                  "label": "Timeperiod:__Entity__"
                },
                "color": "#2196F3",
                "styles": {},
                "label": "Elizabethan Era",
                "scale_factor": 1,
                "type": "#2196F3",
                "size": [
                  55,
                  55
                ],
                "position": [
                  0,
                  0
                ]
              },
              {
                "id": 62,
                "properties": {
                  "id": "Early Modern Period",
                  "label": "Timeperiod:__Entity__"
                },
                "color": "#2196F3",
                "styles": {},
                "label": "Early Modern Period",
                "scale_factor": 1,
                "type": "#2196F3",
                "size": [
                  55,
                  55
                ],
                "position": [
                  0,
                  0
                ]
              },
              {
                "id": 63,
                "properties": {
                  "id": "Portrait Miniature",
                  "label": "Artform:__Entity__"
                },
                "color": "#4CAF50",
                "styles": {},
                "label": "Portrait Miniature",
                "scale_factor": 1,
                "type": "#4CAF50",
                "size": [
                  55,
                  55
                ],
                "position": [
                  0,
                  0
                ]
              },
              {
                "id": 64,
                "properties": {
                  "id": "Panel Paintings",
                  "label": "Artform:__Entity__"
                },
                "color": "#4CAF50",
                "styles": {},
                "label": "Panel Paintings",
                "scale_factor": 1,
                "type": "#4CAF50",
                "size": [
                  55,
                  55
                ],
                "position": [
                  0,
                  0
                ]
              },
              {
                "id": 66,
                "properties": {
                  "id": "Hans Holbein The Younger",
                  "label": "Person:__Entity__"
                },
                "color": "#2196F3",
                "styles": {},
                "label": "Hans Holbein The Younger",
                "scale_factor": 1,
                "type": "#2196F3",
                "size": [
                  55,
                  55
                ],
                "position": [
                  0,
                  0
                ]
              },
              {
                "id": 68,
                "properties": {
                  "id": "Whitehall Palace",
                  "label": "Place:__Entity__"
                },
                "color": "#607D8B",
                "styles": {},
                "label": "Whitehall Palace",
                "scale_factor": 1,
                "type": "#607D8B",
                "size": [
                  55,
                  55
                ],
                "position": [
                  0,
                  0
                ]
              },
              {
                "id": 67,
                "properties": {
                  "id": "Titian",
                  "label": "Person:__Entity__"
                },
                "color": "#2196F3",
                "styles": {},
                "label": "Titian",
                "scale_factor": 1,
                "type": "#2196F3",
                "size": [
                  55,
                  55
                ],
                "position": [
                  0,
                  0
                ]
              },
              {
                "id": 69,
                "properties": {
                  "id": "Philip Ii Of Spain",
                  "label": "Person:__Entity__"
                },
                "color": "#2196F3",
                "styles": {},
                "label": "Philip Ii Of Spain",
                "scale_factor": 1,
                "type": "#2196F3",
                "size": [
                  55,
                  55
                ],
                "position": [
                  0,
                  0
                ]
              },
              {
                "id": 76,
                "properties": {
                  "id": "Margaret Douglas",
                  "label": "Person:__Entity__"
                },
                "color": "#2196F3",
                "styles": {},
                "label": "Margaret Douglas",
                "scale_factor": 1,
                "type": "#2196F3",
                "size": [
                  55,
                  55
                ],
                "position": [
                  0,
                  0
                ]
              },
              {
                "id": 109,
                "properties": {
                  "id": "Siege Of Calais",
                  "label": "Event:__Entity__"
                },
                "color": "#F44336",
                "styles": {},
                "label": "Siege Of Calais",
                "scale_factor": 1,
                "type": "#F44336",
                "size": [
                  55,
                  55
                ],
                "position": [
                  0,
                  0
                ]
              },
              {
                "id": 124,
                "properties": {
                  "id": "Philip Ii",
                  "label": "Person:__Entity__"
                },
                "color": "#2196F3",
                "styles": {},
                "label": "Philip Ii",
                "scale_factor": 1,
                "type": "#2196F3",
                "size": [
                  55,
                  55
                ],
                "position": [
                  0,
                  0
                ]
              },
              {
                "id": 148,
                "properties": {
                  "id": "Protestants",
                  "label": "__Entity__"
                },
                "color": "#CDDC39",
                "styles": {},
                "label": "Protestants",
                "scale_factor": 1,
                "type": "#CDDC39",
                "size": [
                  55,
                  55
                ],
                "position": [
                  0,
                  0
                ]
              },
              {
                "id": 412,
                "properties": {
                  "id": "Duke Of Suffolk",
                  "label": "Person:__Entity__"
                },
                "color": "#2196F3",
                "styles": {},
                "label": "Duke Of Suffolk",
                "scale_factor": 1,
                "type": "#2196F3",
                "size": [
                  55,
                  55
                ],
                "position": [
                  0,
                  0
                ]
              },
              {
                "id": 410,
                "properties": {
                  "id": "Lord Herbert",
                  "label": "Person:__Entity__"
                },
                "color": "#2196F3",
                "styles": {},
                "label": "Lord Herbert",
                "scale_factor": 1,
                "type": "#2196F3",
                "size": [
                  55,
                  55
                ],
                "position": [
                  0,
                  0
                ]
              },
              {
                "id": 414,
                "properties": {
                  "id": "Edward Seymour",
                  "label": "Person:__Entity__"
                },
                "color": "#2196F3",
                "styles": {},
                "label": "Edward Seymour",
                "scale_factor": 1,
                "type": "#2196F3",
                "size": [
                  55,
                  55
                ],
                "position": [
                  0,
                  0
                ]
              },
              {
                "id": 415,
                "properties": {
                  "id": "Lord Hertford",
                  "label": "Person:__Entity__"
                },
                "color": "#2196F3",
                "styles": {},
                "label": "Lord Hertford",
                "scale_factor": 1,
                "type": "#2196F3",
                "size": [
                  55,
                  55
                ],
                "position": [
                  0,
                  0
                ]
              },
              {
                "id": 411,
                "properties": {
                  "id": "Henry'S Father",
                  "label": "Person:__Entity__"
                },
                "color": "#2196F3",
                "styles": {},
                "label": "Henry'S Father",
                "scale_factor": 1,
                "type": "#2196F3",
                "size": [
                  55,
                  55
                ],
                "position": [
                  0,
                  0
                ]
              },
              {
                "id": 413,
                "properties": {
                  "id": "Queen Mary I",
                  "label": "Person:__Entity__"
                },
                "color": "#2196F3",
                "styles": {},
                "label": "Queen Mary I",
                "scale_factor": 1,
                "type": "#2196F3",
                "size": [
                  55,
                  55
                ],
                "position": [
                  0,
                  0
                ]
              },
              {
                "id": 77,
                "properties": {
                  "id": "Mary Tudor",
                  "label": "Person:__Entity__"
                },
                "color": "#2196F3",
                "styles": {},
                "label": "Mary Tudor",
                "scale_factor": 1,
                "type": "#2196F3",
                "size": [
                  55,
                  55
                ],
                "position": [
                  0,
                  0
                ]
              },
              {
                "id": 84,
                "properties": {
                  "id": "Henry Stuart",
                  "label": "Person:__Entity__"
                },
                "color": "#2196F3",
                "styles": {},
                "label": "Henry Stuart",
                "scale_factor": 1,
                "type": "#2196F3",
                "size": [
                  55,
                  55
                ],
                "position": [
                  0,
                  0
                ]
              },
              {
                "id": 85,
                "properties": {
                  "id": "Mary Queen Of Scots",
                  "label": "Person:__Entity__"
                },
                "color": "#2196F3",
                "styles": {},
                "label": "Mary Queen Of Scots",
                "scale_factor": 1,
                "type": "#2196F3",
                "size": [
                  55,
                  55
                ],
                "position": [
                  0,
                  0
                ]
              },
              {
                "id": 86,
                "properties": {
                  "id": "James Vi",
                  "label": "Person:__Entity__"
                },
                "color": "#2196F3",
                "styles": {},
                "label": "James Vi",
                "scale_factor": 1,
                "type": "#2196F3",
                "size": [
                  55,
                  55
                ],
                "position": [
                  0,
                  0
                ]
              },
              {
                "id": 87,
                "properties": {
                  "id": "Arbella Stuart",
                  "label": "Person:__Entity__"
                },
                "color": "#2196F3",
                "styles": {},
                "label": "Arbella Stuart",
                "scale_factor": 1,
                "type": "#2196F3",
                "size": [
                  55,
                  55
                ],
                "position": [
                  0,
                  0
                ]
              },
              {
                "id": 88,
                "properties": {
                  "id": "Charles Stuart",
                  "label": "Person:__Entity__"
                },
                "color": "#2196F3",
                "styles": {},
                "label": "Charles Stuart",
                "scale_factor": 1,
                "type": "#2196F3",
                "size": [
                  55,
                  55
                ],
                "position": [
                  0,
                  0
                ]
              },
              {
                "id": 89,
                "properties": {
                  "id": "Frances Grey",
                  "label": "Person:__Entity__"
                },
                "color": "#2196F3",
                "styles": {},
                "label": "Frances Grey",
                "scale_factor": 1,
                "type": "#2196F3",
                "size": [
                  55,
                  55
                ],
                "position": [
                  0,
                  0
                ]
              },
              {
                "id": 93,
                "properties": {
                  "id": "Henry Grey",
                  "label": "__Entity__"
                },
                "color": "#CDDC39",
                "styles": {},
                "label": "Henry Grey",
                "scale_factor": 1,
                "type": "#CDDC39",
                "size": [
                  55,
                  55
                ],
                "position": [
                  0,
                  0
                ]
              },
              {
                "id": 91,
                "properties": {
                  "id": "Lady Catherine Grey",
                  "label": "Person:__Entity__"
                },
                "color": "#2196F3",
                "styles": {},
                "label": "Lady Catherine Grey",
                "scale_factor": 1,
                "type": "#2196F3",
                "size": [
                  55,
                  55
                ],
                "position": [
                  0,
                  0
                ]
              },
              {
                "id": 90,
                "properties": {
                  "id": "Eleanor Clifford",
                  "label": "Person:__Entity__"
                },
                "color": "#2196F3",
                "styles": {},
                "label": "Eleanor Clifford",
                "scale_factor": 1,
                "type": "#2196F3",
                "size": [
                  55,
                  55
                ],
                "position": [
                  0,
                  0
                ]
              },
              {
                "id": 115,
                "properties": {
                  "id": "James Iv Of Scotland",
                  "label": "Person:__Entity__"
                },
                "color": "#2196F3",
                "styles": {},
                "label": "James Iv Of Scotland",
                "scale_factor": 1,
                "type": "#2196F3",
                "size": [
                  55,
                  55
                ],
                "position": [
                  0,
                  0
                ]
              },
              {
                "id": 95,
                "properties": {
                  "id": "House Of Tudor",
                  "label": "Dynasty:__Entity__"
                },
                "color": "#F44336",
                "styles": {},
                "label": "House Of Tudor",
                "scale_factor": 1,
                "type": "#F44336",
                "size": [
                  55,
                  55
                ],
                "position": [
                  0,
                  0
                ]
              },
              {
                "id": 99,
                "properties": {
                  "id": "House Of Plantagenet",
                  "label": "Dynasty:__Entity__"
                },
                "color": "#F44336",
                "styles": {},
                "label": "House Of Plantagenet",
                "scale_factor": 1,
                "type": "#F44336",
                "size": [
                  55,
                  55
                ],
                "position": [
                  0,
                  0
                ]
              },
              {
                "id": 96,
                "properties": {
                  "id": "Kingdom Of England",
                  "label": "Kingdom:__Entity__"
                },
                "color": "#607D8B",
                "styles": {},
                "label": "Kingdom Of England",
                "scale_factor": 1,
                "type": "#607D8B",
                "size": [
                  55,
                  55
                ],
                "position": [
                  0,
                  0
                ]
              },
              {
                "id": 97,
                "properties": {
                  "id": "Lordship Of Ireland",
                  "label": "Lordship:__Entity__"
                },
                "color": "#673AB7",
                "styles": {},
                "label": "Lordship Of Ireland",
                "scale_factor": 1,
                "type": "#673AB7",
                "size": [
                  55,
                  55
                ],
                "position": [
                  0,
                  0
                ]
              },
              {
                "id": 107,
                "properties": {
                  "id": "Crown Of Ireland Act 1542",
                  "label": "Event:__Entity__:Legislation"
                },
                "color": "#CDDC39",
                "styles": {},
                "label": "Crown Of Ireland Act 1542",
                "scale_factor": 1,
                "type": "#CDDC39",
                "size": [
                  55,
                  55
                ],
                "position": [
                  0,
                  0
                ]
              },
              {
                "id": 108,
                "properties": {
                  "id": "Laws In Wales Acts 1535 And 1542",
                  "label": "Legislation:__Entity__"
                },
                "color": "#607D8B",
                "styles": {},
                "label": "Laws In Wales Acts 1535 And 1542",
                "scale_factor": 1,
                "type": "#607D8B",
                "size": [
                  55,
                  55
                ],
                "position": [
                  0,
                  0
                ]
              },
              {
                "id": 105,
                "properties": {
                  "id": "Elizabeth Of York",
                  "label": "Person:__Entity__"
                },
                "color": "#2196F3",
                "styles": {},
                "label": "Elizabeth Of York",
                "scale_factor": 1,
                "type": "#2196F3",
                "size": [
                  55,
                  55
                ],
                "position": [
                  0,
                  0
                ]
              },
              {
                "id": 101,
                "properties": {
                  "id": "House Of Beaufort",
                  "label": "Dynasty:__Entity__"
                },
                "color": "#F44336",
                "styles": {},
                "label": "House Of Beaufort",
                "scale_factor": 1,
                "type": "#F44336",
                "size": [
                  55,
                  55
                ],
                "position": [
                  0,
                  0
                ]
              },
              {
                "id": 102,
                "properties": {
                  "id": "House Of Lancaster",
                  "label": "Dynasty:__Entity__"
                },
                "color": "#F44336",
                "styles": {},
                "label": "House Of Lancaster",
                "scale_factor": 1,
                "type": "#F44336",
                "size": [
                  55,
                  55
                ],
                "position": [
                  0,
                  0
                ]
              },
              {
                "id": 119,
                "properties": {
                  "id": "Edward Iii",
                  "label": "Person:__Entity__"
                },
                "color": "#2196F3",
                "styles": {},
                "label": "Edward Iii",
                "scale_factor": 1,
                "type": "#2196F3",
                "size": [
                  55,
                  55
                ],
                "position": [
                  0,
                  0
                ]
              },
              {
                "id": 103,
                "properties": {
                  "id": "Wars Of The Roses",
                  "label": "Event:__Entity__"
                },
                "color": "#F44336",
                "styles": {},
                "label": "Wars Of The Roses",
                "scale_factor": 1,
                "type": "#F44336",
                "size": [
                  55,
                  55
                ],
                "position": [
                  0,
                  0
                ]
              },
              {
                "id": 104,
                "properties": {
                  "id": "Battle Of Bosworth Field",
                  "label": "Event:__Entity__"
                },
                "color": "#F44336",
                "styles": {},
                "label": "Battle Of Bosworth Field",
                "scale_factor": 1,
                "type": "#F44336",
                "size": [
                  55,
                  55
                ],
                "position": [
                  0,
                  0
                ]
              },
              {
                "id": 114,
                "properties": {
                  "id": "James Vi And I",
                  "label": "Person:__Entity__"
                },
                "color": "#2196F3",
                "styles": {},
                "label": "James Vi And I",
                "scale_factor": 1,
                "type": "#2196F3",
                "size": [
                  55,
                  55
                ],
                "position": [
                  0,
                  0
                ]
              },
              {
                "id": 560,
                "properties": {
                  "id": "British Royal Family",
                  "label": "Family:Concept:__Entity__:Organization"
                },
                "color": "#9E9E9E",
                "styles": {},
                "label": "British Royal Family",
                "scale_factor": 1,
                "type": "#9E9E9E",
                "size": [
                  55,
                  55
                ],
                "position": [
                  0,
                  0
                ]
              },
              {
                "id": 106,
                "properties": {
                  "id": "King Edward Iv",
                  "label": "Person:__Entity__"
                },
                "color": "#2196F3",
                "styles": {},
                "label": "King Edward Iv",
                "scale_factor": 1,
                "type": "#2196F3",
                "size": [
                  55,
                  55
                ],
                "position": [
                  0,
                  0
                ]
              },
              {
                "id": 789,
                "properties": {
                  "id": "United Kingdom Of Great Britain And Ireland",
                  "label": "Kingdom:__Entity__"
                },
                "color": "#607D8B",
                "styles": {},
                "label": "United Kingdom Of Great Britain And Ireland",
                "scale_factor": 1,
                "type": "#607D8B",
                "size": [
                  55,
                  55
                ],
                "position": [
                  0,
                  0
                ]
              },
              {
                "id": 112,
                "properties": {
                  "id": "Calais",
                  "label": "City:__Entity__"
                },
                "color": "#9C27B0",
                "styles": {},
                "label": "Calais",
                "scale_factor": 1,
                "type": "#9C27B0",
                "size": [
                  55,
                  55
                ],
                "position": [
                  0,
                  0
                ]
              },
              {
                "id": 138,
                "properties": {
                  "id": "Anne Of Denmark",
                  "label": "Person:__Entity__"
                },
                "color": "#2196F3",
                "styles": {},
                "label": "Anne Of Denmark",
                "scale_factor": 1,
                "type": "#2196F3",
                "size": [
                  55,
                  55
                ],
                "position": [
                  0,
                  0
                ]
              },
              {
                "id": 139,
                "properties": {
                  "id": "John Donne",
                  "label": "Person:__Entity__"
                },
                "color": "#2196F3",
                "styles": {},
                "label": "John Donne",
                "scale_factor": 1,
                "type": "#2196F3",
                "size": [
                  55,
                  55
                ],
                "position": [
                  0,
                  0
                ]
              },
              {
                "id": 140,
                "properties": {
                  "id": "Ben Jonson",
                  "label": "Person:__Entity__"
                },
                "color": "#2196F3",
                "styles": {},
                "label": "Ben Jonson",
                "scale_factor": 1,
                "type": "#2196F3",
                "size": [
                  55,
                  55
                ],
                "position": [
                  0,
                  0
                ]
              },
              {
                "id": 141,
                "properties": {
                  "id": "Francis Bacon",
                  "label": "Person:__Entity__"
                },
                "color": "#2196F3",
                "styles": {},
                "label": "Francis Bacon",
                "scale_factor": 1,
                "type": "#2196F3",
                "size": [
                  55,
                  55
                ],
                "position": [
                  0,
                  0
                ]
              },
              {
                "id": 160,
                "properties": {
                  "id": "Charles I",
                  "label": "Person:__Entity__"
                },
                "color": "#2196F3",
                "styles": {},
                "label": "Charles I",
                "scale_factor": 1,
                "type": "#2196F3",
                "size": [
                  55,
                  55
                ],
                "position": [
                  0,
                  0
                ]
              },
              {
                "id": 116,
                "properties": {
                  "id": "Treaty Of Perpetual Peace",
                  "label": "Treaty:__Entity__"
                },
                "color": "#9C27B0",
                "styles": {},
                "label": "Treaty Of Perpetual Peace",
                "scale_factor": 1,
                "type": "#9C27B0",
                "size": [
                  55,
                  55
                ],
                "position": [
                  0,
                  0
                ]
              },
              {
                "id": 118,
                "properties": {
                  "id": "George I",
                  "label": "Person:__Entity__"
                },
                "color": "#2196F3",
                "styles": {},
                "label": "George I",
                "scale_factor": 1,
                "type": "#2196F3",
                "size": [
                  55,
                  55
                ],
                "position": [
                  0,
                  0
                ]
              },
              {
                "id": 1058,
                "properties": {
                  "id": "Tanna",
                  "label": "Island:__Entity__"
                },
                "color": "#2196F3",
                "styles": {},
                "label": "Tanna",
                "scale_factor": 1,
                "type": "#2196F3",
                "size": [
                  55,
                  55
                ],
                "position": [
                  0,
                  0
                ]
              },
              {
                "id": 822,
                "properties": {
                  "id": "Royal Cypher",
                  "label": "Concept:__Entity__"
                },
                "color": "#607D8B",
                "styles": {},
                "label": "Royal Cypher",
                "scale_factor": 1,
                "type": "#607D8B",
                "size": [
                  55,
                  55
                ],
                "position": [
                  0,
                  0
                ]
              },
              {
                "id": 823,
                "properties": {
                  "id": "Cypher Design",
                  "label": "Concept:__Entity__"
                },
                "color": "#607D8B",
                "styles": {},
                "label": "Cypher Design",
                "scale_factor": 1,
                "type": "#607D8B",
                "size": [
                  55,
                  55
                ],
                "position": [
                  0,
                  0
                ]
              },
              {
                "id": 1203,
                "properties": {
                  "id": "Camilla",
                  "label": "Person:__Entity__"
                },
                "color": "#2196F3",
                "styles": {},
                "label": "Camilla",
                "scale_factor": 1,
                "type": "#2196F3",
                "size": [
                  55,
                  55
                ],
                "position": [
                  0,
                  0
                ]
              },
              {
                "id": 926,
                "properties": {
                  "id": "Prince Edward",
                  "label": "Person:__Entity__"
                },
                "color": "#2196F3",
                "styles": {},
                "label": "Prince Edward",
                "scale_factor": 1,
                "type": "#2196F3",
                "size": [
                  55,
                  55
                ],
                "position": [
                  0,
                  0
                ]
              },
              {
                "id": 473,
                "properties": {
                  "id": "Elizabeth Ii",
                  "label": "Person:__Entity__"
                },
                "color": "#2196F3",
                "styles": {},
                "label": "Elizabeth Ii",
                "scale_factor": 1,
                "type": "#2196F3",
                "size": [
                  55,
                  55
                ],
                "position": [
                  0,
                  0
                ]
              }
            ],
            "_overview": {
              "enabled": null,
              "overview_set": false
            },
            "_selected_graph": [
              [
                {
                  "id": 92,
                  "properties": {
                    "id": "Margaret Tudor",
                    "label": "Person:__Entity__"
                  }
                }
              ],
              []
            ],
            "_sidebar": {
              "enabled": false,
              "start_with": null
            },
            "_view_count": null,
            "_view_module": "yfiles-jupyter-graphs",
            "_view_module_version": "^1.8.1",
            "_view_name": "GraphView",
            "layout": "IPY_MODEL_ca48f8f7d653464581367ed887fc8ef4"
          }
        },
        "ca48f8f7d653464581367ed887fc8ef4": {
          "model_module": "@jupyter-widgets/base",
          "model_name": "LayoutModel",
          "model_module_version": "1.2.0",
          "state": {
            "_model_module": "@jupyter-widgets/base",
            "_model_module_version": "1.2.0",
            "_model_name": "LayoutModel",
            "_view_count": null,
            "_view_module": "@jupyter-widgets/base",
            "_view_module_version": "1.2.0",
            "_view_name": "LayoutView",
            "align_content": null,
            "align_items": null,
            "align_self": null,
            "border": null,
            "bottom": null,
            "display": null,
            "flex": null,
            "flex_flow": null,
            "grid_area": null,
            "grid_auto_columns": null,
            "grid_auto_flow": null,
            "grid_auto_rows": null,
            "grid_column": null,
            "grid_gap": null,
            "grid_row": null,
            "grid_template_areas": null,
            "grid_template_columns": null,
            "grid_template_rows": null,
            "height": "800px",
            "justify_content": null,
            "justify_items": null,
            "left": null,
            "margin": null,
            "max_height": null,
            "max_width": null,
            "min_height": null,
            "min_width": null,
            "object_fit": null,
            "object_position": null,
            "order": null,
            "overflow": null,
            "overflow_x": null,
            "overflow_y": null,
            "padding": null,
            "right": null,
            "top": null,
            "visibility": null,
            "width": "100%"
          }
        }
      }
    }
  },
  "cells": [
    {
      "cell_type": "code",
      "execution_count": 68,
      "metadata": {
        "colab": {
          "base_uri": "https://localhost:8080/"
        },
        "id": "0FdkIgT6gSE6",
        "outputId": "a5003a3b-42ec-4588-d815-fc270f9a02d1"
      },
      "outputs": [
        {
          "output_type": "stream",
          "name": "stdout",
          "text": [
            "\u001b[?25l   \u001b[90m━━━━━━━━━━━━━━━━━━━━━━━━━━━━━━━━━━━━━━━━\u001b[0m \u001b[32m0.0/15.6 MB\u001b[0m \u001b[31m?\u001b[0m eta \u001b[36m-:--:--\u001b[0m\r\u001b[2K   \u001b[91m━\u001b[0m\u001b[91m╸\u001b[0m\u001b[90m━━━━━━━━━━━━━━━━━━━━━━━━━━━━━━━━━━━━━━\u001b[0m \u001b[32m0.8/15.6 MB\u001b[0m \u001b[31m24.4 MB/s\u001b[0m eta \u001b[36m0:00:01\u001b[0m\r\u001b[2K   \u001b[91m━━━━━━━━━━━━\u001b[0m\u001b[91m╸\u001b[0m\u001b[90m━━━━━━━━━━━━━━━━━━━━━━━━━━━\u001b[0m \u001b[32m4.9/15.6 MB\u001b[0m \u001b[31m70.2 MB/s\u001b[0m eta \u001b[36m0:00:01\u001b[0m\r\u001b[2K   \u001b[91m━━━━━━━━━━━━━━━━━━━━━━━━\u001b[0m\u001b[91m╸\u001b[0m\u001b[90m━━━━━━━━━━━━━━━\u001b[0m \u001b[32m9.7/15.6 MB\u001b[0m \u001b[31m91.5 MB/s\u001b[0m eta \u001b[36m0:00:01\u001b[0m\r\u001b[2K   \u001b[91m━━━━━━━━━━━━━━━━━━━━━━━━━━━━━━━━━━━━━━━\u001b[0m\u001b[91m╸\u001b[0m \u001b[32m15.6/15.6 MB\u001b[0m \u001b[31m162.4 MB/s\u001b[0m eta \u001b[36m0:00:01\u001b[0m\r\u001b[2K   \u001b[91m━━━━━━━━━━━━━━━━━━━━━━━━━━━━━━━━━━━━━━━\u001b[0m\u001b[91m╸\u001b[0m \u001b[32m15.6/15.6 MB\u001b[0m \u001b[31m162.4 MB/s\u001b[0m eta \u001b[36m0:00:01\u001b[0m\r\u001b[2K   \u001b[90m━━━━━━━━━━━━━━━━━━━━━━━━━━━━━━━━━━━━━━━━\u001b[0m \u001b[32m15.6/15.6 MB\u001b[0m \u001b[31m80.3 MB/s\u001b[0m eta \u001b[36m0:00:00\u001b[0m\n",
            "\u001b[2K   \u001b[90m━━━━━━━━━━━━━━━━━━━━━━━━━━━━━━━━━━━━━━━━\u001b[0m \u001b[32m139.8/139.8 kB\u001b[0m \u001b[31m8.1 MB/s\u001b[0m eta \u001b[36m0:00:00\u001b[0m\n",
            "\u001b[2K   \u001b[90m━━━━━━━━━━━━━━━━━━━━━━━━━━━━━━━━━━━━━━━━\u001b[0m \u001b[32m2.3/2.3 MB\u001b[0m \u001b[31m63.3 MB/s\u001b[0m eta \u001b[36m0:00:00\u001b[0m\n",
            "\u001b[2K   \u001b[90m━━━━━━━━━━━━━━━━━━━━━━━━━━━━━━━━━━━━━━━━\u001b[0m \u001b[32m1.6/1.6 MB\u001b[0m \u001b[31m52.3 MB/s\u001b[0m eta \u001b[36m0:00:00\u001b[0m\n",
            "\u001b[?25h"
          ]
        }
      ],
      "source": [
        "%pip install --quiet --upgrade langchain langchain-community langchain-chroma langchain_experimental yfiles_jupyter_graphs neo4j langchain-openai wikipedia"
      ]
    },
    {
      "cell_type": "code",
      "source": [
        "from langchain_core.runnables import (\n",
        "    RunnableBranch,\n",
        "    RunnableLambda,\n",
        "    RunnableParallel,\n",
        "    RunnablePassthrough,\n",
        ")\n",
        "from langchain_core.prompts import ChatPromptTemplate\n",
        "from langchain_core.prompts.prompt import PromptTemplate\n",
        "from langchain_core.pydantic_v1 import BaseModel, Field\n",
        "from typing import Tuple, List, Optional\n",
        "from langchain_core.messages import AIMessage, HumanMessage\n",
        "from langchain_core.output_parsers import StrOutputParser\n",
        "import os\n",
        "from langchain_community.graphs import Neo4jGraph\n",
        "from langchain.document_loaders import WikipediaLoader\n",
        "from langchain.text_splitter import TokenTextSplitter\n",
        "from langchain_openai import ChatOpenAI\n",
        "from langchain_experimental.graph_transformers import LLMGraphTransformer\n",
        "from neo4j import GraphDatabase\n",
        "from yfiles_jupyter_graphs import GraphWidget\n",
        "from langchain_community.vectorstores import Neo4jVector\n",
        "from langchain_openai import OpenAIEmbeddings\n",
        "from langchain_community.vectorstores.neo4j_vector import remove_lucene_chars\n",
        "from langchain_core.runnables import ConfigurableField, RunnableParallel, RunnablePassthrough\n"
      ],
      "metadata": {
        "colab": {
          "base_uri": "https://localhost:8080/"
        },
        "id": "scHVTklwJsup",
        "outputId": "8534e239-23d1-46f9-ed22-7afa3ead1811"
      },
      "execution_count": 79,
      "outputs": [
        {
          "output_type": "stream",
          "name": "stderr",
          "text": [
            "/usr/local/lib/python3.10/dist-packages/IPython/core/interactiveshell.py:3553: LangChainDeprecationWarning: As of langchain-core 0.3.0, LangChain uses pydantic v2 internally. The langchain_core.pydantic_v1 module was a compatibility shim for pydantic v1, and should no longer be used. Please update the code to import from Pydantic directly.\n",
            "\n",
            "For example, replace imports like: `from langchain_core.pydantic_v1 import BaseModel`\n",
            "with: `from pydantic import BaseModel`\n",
            "or the v1 compatibility namespace if you are working in a code base that has not been fully upgraded to pydantic 2 yet. \tfrom pydantic.v1 import BaseModel\n",
            "\n",
            "  exec(code_obj, self.user_global_ns, self.user_ns)\n"
          ]
        }
      ]
    },
    {
      "cell_type": "code",
      "source": [
        "import os, getpass\n",
        "os.environ[\"LANGCHAIN_TRACING_V2\"] = \"true\"\n",
        "print(\"Enter LangChain API Key\")\n",
        "os.environ[\"LANGCHAIN_API_KEY\"] = getpass.getpass()\n",
        "os.environ['LANGCHAIN_ENDPOINT']=\"https://api.smith.langchain.com\"\n",
        "os.environ['LANGCHAIN_PROJECT']=\"GraphRag\"\n",
        "\n",
        "print(\"Enter OpenAI API Key\")\n",
        "os.environ['OPENAI_API_KEY']=getpass.getpass()\n",
        "\n",
        "os.environ[\"NEO4J_URI\"] = \"\"\n",
        "os.environ[\"NEO4J_USERNAME\"] = \"neo4j\"\n",
        "print(\"Enter neo4j API Key\")\n",
        "os.environ[\"NEO4J_PASSWORD\"] = getpass.getpass()\n",
        "\n"
      ],
      "metadata": {
        "colab": {
          "base_uri": "https://localhost:8080/",
          "height": 388
        },
        "collapsed": true,
        "id": "f5OY76wIhQKi",
        "outputId": "0481ed11-36e0-4eec-c297-d76fed0c52d1"
      },
      "execution_count": 80,
      "outputs": [
        {
          "output_type": "stream",
          "name": "stdout",
          "text": [
            "Enter LangChain API Key\n"
          ]
        },
        {
          "output_type": "error",
          "ename": "KeyboardInterrupt",
          "evalue": "Interrupted by user",
          "traceback": [
            "\u001b[0;31m---------------------------------------------------------------------------\u001b[0m",
            "\u001b[0;31mKeyboardInterrupt\u001b[0m                         Traceback (most recent call last)",
            "\u001b[0;32m<ipython-input-80-aaddde768c38>\u001b[0m in \u001b[0;36m<cell line: 4>\u001b[0;34m()\u001b[0m\n\u001b[1;32m      2\u001b[0m \u001b[0mos\u001b[0m\u001b[0;34m.\u001b[0m\u001b[0menviron\u001b[0m\u001b[0;34m[\u001b[0m\u001b[0;34m\"LANGCHAIN_TRACING_V2\"\u001b[0m\u001b[0;34m]\u001b[0m \u001b[0;34m=\u001b[0m \u001b[0;34m\"true\"\u001b[0m\u001b[0;34m\u001b[0m\u001b[0;34m\u001b[0m\u001b[0m\n\u001b[1;32m      3\u001b[0m \u001b[0mprint\u001b[0m\u001b[0;34m(\u001b[0m\u001b[0;34m\"Enter LangChain API Key\"\u001b[0m\u001b[0;34m)\u001b[0m\u001b[0;34m\u001b[0m\u001b[0;34m\u001b[0m\u001b[0m\n\u001b[0;32m----> 4\u001b[0;31m \u001b[0mos\u001b[0m\u001b[0;34m.\u001b[0m\u001b[0menviron\u001b[0m\u001b[0;34m[\u001b[0m\u001b[0;34m\"LANGCHAIN_API_KEY\"\u001b[0m\u001b[0;34m]\u001b[0m \u001b[0;34m=\u001b[0m \u001b[0mgetpass\u001b[0m\u001b[0;34m.\u001b[0m\u001b[0mgetpass\u001b[0m\u001b[0;34m(\u001b[0m\u001b[0;34m)\u001b[0m\u001b[0;34m\u001b[0m\u001b[0;34m\u001b[0m\u001b[0m\n\u001b[0m\u001b[1;32m      5\u001b[0m \u001b[0mos\u001b[0m\u001b[0;34m.\u001b[0m\u001b[0menviron\u001b[0m\u001b[0;34m[\u001b[0m\u001b[0;34m'LANGCHAIN_ENDPOINT'\u001b[0m\u001b[0;34m]\u001b[0m\u001b[0;34m=\u001b[0m\u001b[0;34m\"https://api.smith.langchain.com\"\u001b[0m\u001b[0;34m\u001b[0m\u001b[0;34m\u001b[0m\u001b[0m\n\u001b[1;32m      6\u001b[0m \u001b[0mos\u001b[0m\u001b[0;34m.\u001b[0m\u001b[0menviron\u001b[0m\u001b[0;34m[\u001b[0m\u001b[0;34m'LANGCHAIN_PROJECT'\u001b[0m\u001b[0;34m]\u001b[0m\u001b[0;34m=\u001b[0m\u001b[0;34m\"GraphRag\"\u001b[0m\u001b[0;34m\u001b[0m\u001b[0;34m\u001b[0m\u001b[0m\n",
            "\u001b[0;32m/usr/local/lib/python3.10/dist-packages/ipykernel/kernelbase.py\u001b[0m in \u001b[0;36mgetpass\u001b[0;34m(self, prompt, stream)\u001b[0m\n\u001b[1;32m    832\u001b[0m             warnings.warn(\"The `stream` parameter of `getpass.getpass` will have no effect when using ipykernel\",\n\u001b[1;32m    833\u001b[0m                     UserWarning, stacklevel=2)\n\u001b[0;32m--> 834\u001b[0;31m         return self._input_request(prompt,\n\u001b[0m\u001b[1;32m    835\u001b[0m             \u001b[0mself\u001b[0m\u001b[0;34m.\u001b[0m\u001b[0m_parent_ident\u001b[0m\u001b[0;34m,\u001b[0m\u001b[0;34m\u001b[0m\u001b[0;34m\u001b[0m\u001b[0m\n\u001b[1;32m    836\u001b[0m             \u001b[0mself\u001b[0m\u001b[0;34m.\u001b[0m\u001b[0m_parent_header\u001b[0m\u001b[0;34m,\u001b[0m\u001b[0;34m\u001b[0m\u001b[0;34m\u001b[0m\u001b[0m\n",
            "\u001b[0;32m/usr/local/lib/python3.10/dist-packages/ipykernel/kernelbase.py\u001b[0m in \u001b[0;36m_input_request\u001b[0;34m(self, prompt, ident, parent, password)\u001b[0m\n\u001b[1;32m    893\u001b[0m             \u001b[0;32mexcept\u001b[0m \u001b[0mKeyboardInterrupt\u001b[0m\u001b[0;34m:\u001b[0m\u001b[0;34m\u001b[0m\u001b[0;34m\u001b[0m\u001b[0m\n\u001b[1;32m    894\u001b[0m                 \u001b[0;31m# re-raise KeyboardInterrupt, to truncate traceback\u001b[0m\u001b[0;34m\u001b[0m\u001b[0;34m\u001b[0m\u001b[0m\n\u001b[0;32m--> 895\u001b[0;31m                 \u001b[0;32mraise\u001b[0m \u001b[0mKeyboardInterrupt\u001b[0m\u001b[0;34m(\u001b[0m\u001b[0;34m\"Interrupted by user\"\u001b[0m\u001b[0;34m)\u001b[0m \u001b[0;32mfrom\u001b[0m \u001b[0;32mNone\u001b[0m\u001b[0;34m\u001b[0m\u001b[0;34m\u001b[0m\u001b[0m\n\u001b[0m\u001b[1;32m    896\u001b[0m             \u001b[0;32mexcept\u001b[0m \u001b[0mException\u001b[0m \u001b[0;32mas\u001b[0m \u001b[0me\u001b[0m\u001b[0;34m:\u001b[0m\u001b[0;34m\u001b[0m\u001b[0;34m\u001b[0m\u001b[0m\n\u001b[1;32m    897\u001b[0m                 \u001b[0mself\u001b[0m\u001b[0;34m.\u001b[0m\u001b[0mlog\u001b[0m\u001b[0;34m.\u001b[0m\u001b[0mwarning\u001b[0m\u001b[0;34m(\u001b[0m\u001b[0;34m\"Invalid Message:\"\u001b[0m\u001b[0;34m,\u001b[0m \u001b[0mexc_info\u001b[0m\u001b[0;34m=\u001b[0m\u001b[0;32mTrue\u001b[0m\u001b[0;34m)\u001b[0m\u001b[0;34m\u001b[0m\u001b[0;34m\u001b[0m\u001b[0m\n",
            "\u001b[0;31mKeyboardInterrupt\u001b[0m: Interrupted by user"
          ]
        }
      ]
    },
    {
      "cell_type": "code",
      "source": [
        "graph = Neo4jGraph()"
      ],
      "metadata": {
        "id": "KZJ6CvReji8m"
      },
      "execution_count": 11,
      "outputs": []
    },
    {
      "cell_type": "code",
      "source": [
        "def get_wiki_docs(queries:list)->list:\n",
        "  docs=[]\n",
        "  for query in queries:\n",
        "    loader=WikipediaLoader(query=query)\n",
        "    docs.append(loader.load())\n",
        "  return docs"
      ],
      "metadata": {
        "id": "3jOzJCqclyu2"
      },
      "execution_count": 27,
      "outputs": []
    },
    {
      "cell_type": "code",
      "source": [
        "from langchain_text_splitters import TokenTextSplitter"
      ],
      "metadata": {
        "id": "9bBEeNRfmL5e"
      },
      "execution_count": 19,
      "outputs": []
    },
    {
      "cell_type": "code",
      "source": [
        "docs=get_wiki_docs(['Elizabeth I','Elizabeth II','Prince Philip, Duke of Edinburgh'])\n",
        "text_splitter=TokenTextSplitter(chunk_size=512,chunk_overlap=24)"
      ],
      "metadata": {
        "colab": {
          "base_uri": "https://localhost:8080/"
        },
        "id": "1r6MNMFenFAg",
        "outputId": "366b950d-8940-4c40-ae0a-a19af0afd2d3"
      },
      "execution_count": 44,
      "outputs": [
        {
          "output_type": "stream",
          "name": "stderr",
          "text": [
            "/usr/local/lib/python3.10/dist-packages/wikipedia/wikipedia.py:389: GuessedAtParserWarning: No parser was explicitly specified, so I'm using the best available HTML parser for this system (\"lxml\"). This usually isn't a problem, but if you run this code on another system, or in a different virtual environment, it may use a different parser and behave differently.\n",
            "\n",
            "The code that caused this warning is on line 389 of the file /usr/local/lib/python3.10/dist-packages/wikipedia/wikipedia.py. To get rid of this warning, pass the additional argument 'features=\"lxml\"' to the BeautifulSoup constructor.\n",
            "\n",
            "  lis = BeautifulSoup(html).find_all('li')\n"
          ]
        }
      ]
    },
    {
      "cell_type": "code",
      "source": [
        "chunks=[]\n",
        "for doc in docs:\n",
        "  chunks+=text_splitter.split_documents(doc)"
      ],
      "metadata": {
        "id": "OkAy-Gxung1L"
      },
      "execution_count": 55,
      "outputs": []
    },
    {
      "cell_type": "code",
      "source": [
        "llm=ChatOpenAI(model='gpt-4o-mini')"
      ],
      "metadata": {
        "id": "RgrGLRfEnniC"
      },
      "execution_count": 61,
      "outputs": []
    },
    {
      "cell_type": "code",
      "source": [
        "graph_transformer=LLMGraphTransformer(llm=llm)"
      ],
      "metadata": {
        "id": "ceFHykecoYJc"
      },
      "execution_count": 63,
      "outputs": []
    },
    {
      "cell_type": "code",
      "source": [
        "graph_docs=graph_transformer.convert_to_graph_documents(chunks)"
      ],
      "metadata": {
        "colab": {
          "base_uri": "https://localhost:8080/"
        },
        "id": "CFoY52srq0SF",
        "outputId": "628a8ccb-5242-4538-c1c9-7a38cad649d6"
      },
      "execution_count": 64,
      "outputs": [
        {
          "output_type": "stream",
          "name": "stderr",
          "text": [
            "WARNING:langsmith.client:Failed to multipart ingest runs: langsmith.utils.LangSmithError: Failed to POST https://api.smith.langchain.com/runs/multipart in LangSmith API. HTTPError('400 Client Error: Bad Request for url: https://api.smith.langchain.com/runs/multipart', '{\"detail\":\"Empty request\"}')\n"
          ]
        }
      ]
    },
    {
      "cell_type": "code",
      "source": [
        "graph.add_graph_documents(graph_docs,baseEntityLabel=True,include_source=True)"
      ],
      "metadata": {
        "id": "BddR9Q1PrIIE"
      },
      "execution_count": 65,
      "outputs": []
    },
    {
      "cell_type": "code",
      "source": [
        "from google.colab import output\n",
        "output.enable_custom_widget_manager()"
      ],
      "metadata": {
        "id": "ToWtGnrY3GV8"
      },
      "execution_count": 70,
      "outputs": []
    },
    {
      "cell_type": "code",
      "source": [
        "from yfiles_jupyter_graphs import GraphWidget\n",
        "default_cypher = \"MATCH (s)-[r:!MENTIONS]->(t) RETURN s,r,t LIMIT 300\"\n",
        "\n",
        "def showGraph(cypher: str = default_cypher):\n",
        "    # create a neo4j session to run queries\n",
        "    driver = GraphDatabase.driver(\n",
        "        uri = os.environ[\"NEO4J_URI\"],\n",
        "        auth = (os.environ[\"NEO4J_USERNAME\"],\n",
        "                os.environ[\"NEO4J_PASSWORD\"]))\n",
        "    session = driver.session()\n",
        "    widget = GraphWidget(graph = session.run(cypher).graph())\n",
        "    widget.node_label_mapping = 'id'\n",
        "    #display(widget)\n",
        "    return widget\n",
        "\n",
        "showGraph()"
      ],
      "metadata": {
        "colab": {
          "base_uri": "https://localhost:8080/",
          "height": 817,
          "referenced_widgets": [
            "825e983c3e1246769421a37d5efd05be",
            "ca48f8f7d653464581367ed887fc8ef4"
          ]
        },
        "id": "FshjI7BM0Bf6",
        "outputId": "3a6c7151-27d6-49c8-eb3a-e6c1d91e63cd"
      },
      "execution_count": 73,
      "outputs": [
        {
          "output_type": "display_data",
          "data": {
            "text/plain": [
              "GraphWidget(layout=Layout(height='800px', width='100%'))"
            ],
            "application/vnd.jupyter.widget-view+json": {
              "version_major": 2,
              "version_minor": 0,
              "model_id": "825e983c3e1246769421a37d5efd05be"
            }
          },
          "metadata": {
            "application/vnd.jupyter.widget-view+json": {
              "colab": {
                "custom_widget_manager": {
                  "url": "https://ssl.gstatic.com/colaboratory-static/widgets/colab-cdn-widget-manager/2b70e893a8ba7c0f/manager.min.js"
                }
              }
            }
          }
        }
      ]
    },
    {
      "cell_type": "markdown",
      "source": [
        "### Click the link below to view the graph"
      ],
      "metadata": {
        "id": "mWjxOhRTXdXe"
      }
    },
    {
      "cell_type": "markdown",
      "source": [
        "###https://www.yworks.com/yed-live/?file=https://gist.githubusercontent.com/MetalTanuj/9a3b8abf61cf22328f258c9bd327b336/raw/5b7873d0284b74a5b6fea31c31926209a7201f7c/Imported%20From%20Jupyter%20Notebook"
      ],
      "metadata": {
        "id": "jNufFfJmXXQT"
      }
    },
    {
      "cell_type": "markdown",
      "source": [
        "Support for third party widgets will remain active for the duration of the session. To disable support:"
      ],
      "metadata": {
        "id": "CQICThPB3GV8"
      }
    },
    {
      "cell_type": "code",
      "source": [
        "from google.colab import output\n",
        "output.disable_custom_widget_manager()"
      ],
      "metadata": {
        "id": "RiarfCGe3GWR"
      },
      "execution_count": null,
      "outputs": []
    },
    {
      "cell_type": "code",
      "source": [
        "from langchain_openai import OpenAIEmbeddings"
      ],
      "metadata": {
        "id": "NR5yh6EI-8NC"
      },
      "execution_count": 74,
      "outputs": []
    },
    {
      "cell_type": "code",
      "source": [
        "from langchain_community.vectorstores import Neo4jVector"
      ],
      "metadata": {
        "id": "mwqxpb9g-9LN"
      },
      "execution_count": 75,
      "outputs": []
    },
    {
      "cell_type": "code",
      "source": [
        "vector_index=Neo4jVector.from_existing_graph(\n",
        "    OpenAIEmbeddings(),\n",
        "    search_type='hybrid',\n",
        "    node_label='Document',\n",
        "    text_node_properties=['text'],\n",
        "    embedding_node_property=\"embeding\"\n",
        ")"
      ],
      "metadata": {
        "id": "-EVvACIB_hqv"
      },
      "execution_count": 77,
      "outputs": []
    },
    {
      "cell_type": "code",
      "source": [
        "# Retriever\n",
        "\n",
        "graph.query(\n",
        "    \"CREATE FULLTEXT INDEX entity IF NOT EXISTS FOR (e:__Entity__) ON EACH [e.id]\")\n",
        "\n",
        "# Extract entities from text\n",
        "class Entities(BaseModel):\n",
        "    \"\"\"Identifying information about entities.\"\"\"\n",
        "\n",
        "    names: List[str] = Field(\n",
        "        ...,\n",
        "        description=\"All the person, organization, or business entities that \"\n",
        "        \"appear in the text\",\n",
        "    )\n",
        "\n",
        "prompt = ChatPromptTemplate.from_messages(\n",
        "    [\n",
        "        (\n",
        "            \"system\",\n",
        "            \"You are extracting organization and person entities from the text.\",\n",
        "        ),\n",
        "        (\n",
        "            \"human\",\n",
        "            \"Use the given format to extract information from the following \"\n",
        "            \"input: {question}\",\n",
        "        ),\n",
        "    ]\n",
        ")\n",
        "\n",
        "entity_chain = prompt | llm.with_structured_output(Entities)"
      ],
      "metadata": {
        "id": "0DArpuzB_7D8"
      },
      "execution_count": 81,
      "outputs": []
    },
    {
      "cell_type": "code",
      "source": [
        "entity_chain.invoke({\"question\": \"Where was Elizabeth II born?\"}).names"
      ],
      "metadata": {
        "colab": {
          "base_uri": "https://localhost:8080/"
        },
        "id": "jdiI7EF5JgfB",
        "outputId": "e2bd9fb4-5b7e-4a28-f98c-9073d726687f"
      },
      "execution_count": 82,
      "outputs": [
        {
          "output_type": "execute_result",
          "data": {
            "text/plain": [
              "['Elizabeth II']"
            ]
          },
          "metadata": {},
          "execution_count": 82
        }
      ]
    },
    {
      "cell_type": "code",
      "source": [
        "def generate_full_text_query(input: str) -> str:\n",
        "    \"\"\"\n",
        "    Generate a full-text search query for a given input string.\n",
        "\n",
        "    This function constructs a query string suitable for a full-text search.\n",
        "    It processes the input string by splitting it into words and appending a\n",
        "    similarity threshold (~2 changed characters) to each word, then combines\n",
        "    them using the AND operator. Useful for mapping entities from user questions\n",
        "    to database values, and allows for some misspelings.\n",
        "    \"\"\"\n",
        "    full_text_query = \"\"\n",
        "    words = [el for el in remove_lucene_chars(input).split() if el]\n",
        "    for word in words[:-1]:\n",
        "        full_text_query += f\" {word}~2 AND\"\n",
        "    full_text_query += f\" {words[-1]}~2\"\n",
        "    return full_text_query.strip()\n",
        "\n",
        "# Fulltext index query\n",
        "def structured_retriever(question: str) -> str:\n",
        "    \"\"\"\n",
        "    Collects the neighborhood of entities mentioned\n",
        "    in the question\n",
        "    \"\"\"\n",
        "    result = \"\"\n",
        "    entities = entity_chain.invoke({\"question\": question})\n",
        "    for entity in entities.names:\n",
        "        response = graph.query(\n",
        "            \"\"\"CALL db.index.fulltext.queryNodes('entity', $query, {limit:2})\n",
        "            YIELD node,score\n",
        "            CALL {\n",
        "              WITH node\n",
        "              MATCH (node)-[r:!MENTIONS]->(neighbor)\n",
        "              RETURN node.id + ' - ' + type(r) + ' -> ' + neighbor.id AS output\n",
        "              UNION ALL\n",
        "              WITH node\n",
        "              MATCH (node)<-[r:!MENTIONS]-(neighbor)\n",
        "              RETURN neighbor.id + ' - ' + type(r) + ' -> ' +  node.id AS output\n",
        "            }\n",
        "            RETURN output LIMIT 50\n",
        "            \"\"\",\n",
        "            {\"query\": generate_full_text_query(entity)},\n",
        "        )\n",
        "        result += \"\\n\".join([el['output'] for el in response])\n",
        "    return result"
      ],
      "metadata": {
        "id": "PGbo7cb4J3yZ"
      },
      "execution_count": 83,
      "outputs": []
    },
    {
      "cell_type": "code",
      "source": [
        "def retriever(question: str):\n",
        "    print(f\"Search query: {question}\")\n",
        "    structured_data = structured_retriever(question)\n",
        "    unstructured_data = [el.page_content for el in vector_index.similarity_search(question)]\n",
        "    final_data = f\"\"\"Structured data:\n",
        "{structured_data}\n",
        "Unstructured data:\n",
        "{\"#Document \". join(unstructured_data)}\n",
        "    \"\"\"\n",
        "    return final_data"
      ],
      "metadata": {
        "id": "rQUvtrzJKIge"
      },
      "execution_count": 87,
      "outputs": []
    },
    {
      "cell_type": "code",
      "source": [
        "# Condense a chat history and follow-up question into a standalone question\n",
        "_template = \"\"\"Given the following conversation and a follow up question, rephrase the follow up question to be a standalone question,\n",
        "in its original language.\n",
        "Chat History:\n",
        "{chat_history}\n",
        "Follow Up Input: {question}\n",
        "Standalone question:\"\"\"  # noqa: E501\n",
        "CONDENSE_QUESTION_PROMPT = PromptTemplate.from_template(_template)\n",
        "\n",
        "def _format_chat_history(chat_history: List[Tuple[str, str]]) -> List:\n",
        "    buffer = []\n",
        "    for human, ai in chat_history:\n",
        "        buffer.append(HumanMessage(content=human))\n",
        "        buffer.append(AIMessage(content=ai))\n",
        "    return buffer\n",
        "\n",
        "_search_query = RunnableBranch(\n",
        "    # If input includes chat_history, we condense it with the follow-up question\n",
        "    (\n",
        "        RunnableLambda(lambda x: bool(x.get(\"chat_history\"))).with_config(\n",
        "            run_name=\"HasChatHistoryCheck\"\n",
        "        ),  # Condense follow-up question and chat into a standalone_question\n",
        "        RunnablePassthrough.assign(\n",
        "            chat_history=lambda x: _format_chat_history(x[\"chat_history\"])\n",
        "        )\n",
        "        | CONDENSE_QUESTION_PROMPT\n",
        "        | ChatOpenAI(temperature=0)\n",
        "        | StrOutputParser(),\n",
        "    ),\n",
        "    # Else, we have no chat history, so just pass through the question\n",
        "    RunnableLambda(lambda x : x[\"question\"]),\n",
        ")"
      ],
      "metadata": {
        "id": "GfTJx5iSKETA"
      },
      "execution_count": 85,
      "outputs": []
    },
    {
      "cell_type": "code",
      "source": [
        "template = \"\"\"Answer the question based only on the following context:\n",
        "{context}\n",
        "\n",
        "Question: {question}\n",
        "Use natural language and be concise.\n",
        "Answer:\"\"\"\n",
        "prompt = ChatPromptTemplate.from_template(template)\n",
        "\n",
        "chain = (\n",
        "    RunnableParallel(\n",
        "        {\n",
        "            \"context\": _search_query | retriever,\n",
        "            \"question\": RunnablePassthrough(),\n",
        "        }\n",
        "    )\n",
        "    | prompt\n",
        "    | llm\n",
        "    | StrOutputParser()\n",
        ")"
      ],
      "metadata": {
        "id": "FcpiT1iIJ7_a"
      },
      "execution_count": 88,
      "outputs": []
    },
    {
      "cell_type": "code",
      "source": [
        "chain.invoke({\"question\": \"Which house did Elizabeth II belong to?\"})"
      ],
      "metadata": {
        "colab": {
          "base_uri": "https://localhost:8080/",
          "height": 110
        },
        "id": "pqHJdZ_wJ--t",
        "outputId": "f6e3ca11-0572-4c0e-8c43-6c686c0f6f58"
      },
      "execution_count": 89,
      "outputs": [
        {
          "output_type": "stream",
          "name": "stdout",
          "text": [
            "Search query: Which house did Elizabeth II belong to?\n"
          ]
        },
        {
          "output_type": "stream",
          "name": "stderr",
          "text": [
            "WARNING:neo4j.notifications:Received notification from DBMS server: {severity: WARNING} {code: Neo.ClientNotification.Statement.FeatureDeprecationWarning} {category: DEPRECATION} {title: This feature is deprecated and will be removed in future versions.} {description: CALL subquery without a variable scope clause is now deprecated. Use CALL (node, node) { ... }} {position: line: 3, column: 13, offset: 104} for query: \"CALL db.index.fulltext.queryNodes('entity', $query, {limit:2})\\n            YIELD node,score\\n            CALL {\\n              WITH node\\n              MATCH (node)-[r:!MENTIONS]->(neighbor)\\n              RETURN node.id + ' - ' + type(r) + ' -> ' + neighbor.id AS output\\n              UNION ALL\\n              WITH node\\n              MATCH (node)<-[r:!MENTIONS]-(neighbor)\\n              RETURN neighbor.id + ' - ' + type(r) + ' -> ' +  node.id AS output\\n            }\\n            RETURN output LIMIT 50\\n            \"\n",
            "WARNING:neo4j.notifications:Received notification from DBMS server: {severity: WARNING} {code: Neo.ClientNotification.Statement.FeatureDeprecationWarning} {category: DEPRECATION} {title: This feature is deprecated and will be removed in future versions.} {description: CALL subquery without a variable scope clause is now deprecated. Use CALL () { ... }} {position: line: 1, column: 1, offset: 0} for query: \"CALL { CALL db.index.vector.queryNodes($index, $k, $embedding) YIELD node, score WITH collect({node:node, score:score}) AS nodes, max(score) AS max UNWIND nodes AS n RETURN n.node AS node, (n.score / max) AS score UNION CALL db.index.fulltext.queryNodes($keyword_index, $query, {limit: $k}) YIELD node, score WITH collect({node:node, score:score}) AS nodes, max(score) AS max UNWIND nodes AS n RETURN n.node AS node, (n.score / max) AS score } WITH node, max(score) AS score ORDER BY score DESC LIMIT $k RETURN reduce(str='', k IN ['text'] | str + '\\\\n' + k + ': ' + coalesce(node[k], '')) AS text, node {.*, `embeding`: Null, id: Null, `text`: Null} AS metadata, score\"\n"
          ]
        },
        {
          "output_type": "execute_result",
          "data": {
            "text/plain": [
              "'Elizabeth II belonged to the House of Windsor.'"
            ],
            "application/vnd.google.colaboratory.intrinsic+json": {
              "type": "string"
            }
          },
          "metadata": {},
          "execution_count": 89
        }
      ]
    },
    {
      "cell_type": "code",
      "source": [
        "chain.invoke(\n",
        "    {\n",
        "        \"question\": \"When was she born?\",\n",
        "        \"chat_history\": [(\"Which house did Elizabeth I belong to?\", \"House Of Tudor\")],\n",
        "    }\n",
        ")"
      ],
      "metadata": {
        "colab": {
          "base_uri": "https://localhost:8080/",
          "height": 110
        },
        "id": "XXvlzRGgKO-b",
        "outputId": "7a6d4bbf-e6ba-4e6f-bd99-7238a3259768"
      },
      "execution_count": 90,
      "outputs": [
        {
          "output_type": "stream",
          "name": "stdout",
          "text": [
            "Search query: When was Elizabeth I born?\n"
          ]
        },
        {
          "output_type": "stream",
          "name": "stderr",
          "text": [
            "WARNING:neo4j.notifications:Received notification from DBMS server: {severity: WARNING} {code: Neo.ClientNotification.Statement.FeatureDeprecationWarning} {category: DEPRECATION} {title: This feature is deprecated and will be removed in future versions.} {description: CALL subquery without a variable scope clause is now deprecated. Use CALL (node, node) { ... }} {position: line: 3, column: 13, offset: 104} for query: \"CALL db.index.fulltext.queryNodes('entity', $query, {limit:2})\\n            YIELD node,score\\n            CALL {\\n              WITH node\\n              MATCH (node)-[r:!MENTIONS]->(neighbor)\\n              RETURN node.id + ' - ' + type(r) + ' -> ' + neighbor.id AS output\\n              UNION ALL\\n              WITH node\\n              MATCH (node)<-[r:!MENTIONS]-(neighbor)\\n              RETURN neighbor.id + ' - ' + type(r) + ' -> ' +  node.id AS output\\n            }\\n            RETURN output LIMIT 50\\n            \"\n",
            "WARNING:neo4j.notifications:Received notification from DBMS server: {severity: WARNING} {code: Neo.ClientNotification.Statement.FeatureDeprecationWarning} {category: DEPRECATION} {title: This feature is deprecated and will be removed in future versions.} {description: CALL subquery without a variable scope clause is now deprecated. Use CALL () { ... }} {position: line: 1, column: 1, offset: 0} for query: \"CALL { CALL db.index.vector.queryNodes($index, $k, $embedding) YIELD node, score WITH collect({node:node, score:score}) AS nodes, max(score) AS max UNWIND nodes AS n RETURN n.node AS node, (n.score / max) AS score UNION CALL db.index.fulltext.queryNodes($keyword_index, $query, {limit: $k}) YIELD node, score WITH collect({node:node, score:score}) AS nodes, max(score) AS max UNWIND nodes AS n RETURN n.node AS node, (n.score / max) AS score } WITH node, max(score) AS score ORDER BY score DESC LIMIT $k RETURN reduce(str='', k IN ['text'] | str + '\\\\n' + k + ': ' + coalesce(node[k], '')) AS text, node {.*, `embeding`: Null, id: Null, `text`: Null} AS metadata, score\"\n"
          ]
        },
        {
          "output_type": "execute_result",
          "data": {
            "text/plain": [
              "'Elizabeth I was born on 7 September 1533.'"
            ],
            "application/vnd.google.colaboratory.intrinsic+json": {
              "type": "string"
            }
          },
          "metadata": {},
          "execution_count": 90
        }
      ]
    },
    {
      "cell_type": "code",
      "source": [
        "chain.invoke(\n",
        "    {\n",
        "        \"question\": \"Who were her children?\",\n",
        "        \"chat_history\": [(\"Which house did Elizabeth II belong to?\", \"House Of Windsor\"),\n",
        "                         (\"When was she born?\", \"Elizabeth I was born on 7 September 1533.\")],\n",
        "    }\n",
        ")"
      ],
      "metadata": {
        "colab": {
          "base_uri": "https://localhost:8080/",
          "height": 110
        },
        "id": "UDeubGvQKeHb",
        "outputId": "f05f7b3a-2d8a-4908-a630-2a22d348a551"
      },
      "execution_count": 91,
      "outputs": [
        {
          "output_type": "stream",
          "name": "stdout",
          "text": [
            "Search query: Who were Elizabeth II's children?\n"
          ]
        },
        {
          "output_type": "stream",
          "name": "stderr",
          "text": [
            "WARNING:neo4j.notifications:Received notification from DBMS server: {severity: WARNING} {code: Neo.ClientNotification.Statement.FeatureDeprecationWarning} {category: DEPRECATION} {title: This feature is deprecated and will be removed in future versions.} {description: CALL subquery without a variable scope clause is now deprecated. Use CALL (node, node) { ... }} {position: line: 3, column: 13, offset: 104} for query: \"CALL db.index.fulltext.queryNodes('entity', $query, {limit:2})\\n            YIELD node,score\\n            CALL {\\n              WITH node\\n              MATCH (node)-[r:!MENTIONS]->(neighbor)\\n              RETURN node.id + ' - ' + type(r) + ' -> ' + neighbor.id AS output\\n              UNION ALL\\n              WITH node\\n              MATCH (node)<-[r:!MENTIONS]-(neighbor)\\n              RETURN neighbor.id + ' - ' + type(r) + ' -> ' +  node.id AS output\\n            }\\n            RETURN output LIMIT 50\\n            \"\n",
            "WARNING:neo4j.notifications:Received notification from DBMS server: {severity: WARNING} {code: Neo.ClientNotification.Statement.FeatureDeprecationWarning} {category: DEPRECATION} {title: This feature is deprecated and will be removed in future versions.} {description: CALL subquery without a variable scope clause is now deprecated. Use CALL () { ... }} {position: line: 1, column: 1, offset: 0} for query: \"CALL { CALL db.index.vector.queryNodes($index, $k, $embedding) YIELD node, score WITH collect({node:node, score:score}) AS nodes, max(score) AS max UNWIND nodes AS n RETURN n.node AS node, (n.score / max) AS score UNION CALL db.index.fulltext.queryNodes($keyword_index, $query, {limit: $k}) YIELD node, score WITH collect({node:node, score:score}) AS nodes, max(score) AS max UNWIND nodes AS n RETURN n.node AS node, (n.score / max) AS score } WITH node, max(score) AS score ORDER BY score DESC LIMIT $k RETURN reduce(str='', k IN ['text'] | str + '\\\\n' + k + ': ' + coalesce(node[k], '')) AS text, node {.*, `embeding`: Null, id: Null, `text`: Null} AS metadata, score\"\n"
          ]
        },
        {
          "output_type": "execute_result",
          "data": {
            "text/plain": [
              "'Elizabeth II had four children: Charles, Anne, Andrew, and Edward.'"
            ],
            "application/vnd.google.colaboratory.intrinsic+json": {
              "type": "string"
            }
          },
          "metadata": {},
          "execution_count": 91
        }
      ]
    },
    {
      "cell_type": "code",
      "source": [
        "chain.invoke(\n",
        "    {\n",
        "        \"question\": \"List her mother's children?\",\n",
        "        \"chat_history\": [(\"Which house did Elizabeth II belong to?\", \"House Of Windsor\"),\n",
        "                         (\"When was she born?\", \"Elizabeth I was born on 7 September 1533.\"),\n",
        "                         ('Who were her children?','Elizabeth II had four children: Charles, Anne, Andrew, and Edward.')],\n",
        "    }\n",
        ")"
      ],
      "metadata": {
        "colab": {
          "base_uri": "https://localhost:8080/",
          "height": 129
        },
        "id": "PgNhEUOiLEpg",
        "outputId": "dc3471f0-1821-44eb-a8bb-a3a5fc02a115"
      },
      "execution_count": 92,
      "outputs": [
        {
          "output_type": "stream",
          "name": "stdout",
          "text": [
            "Search query: Who were Elizabeth II's mother's children?\n"
          ]
        },
        {
          "output_type": "stream",
          "name": "stderr",
          "text": [
            "WARNING:neo4j.notifications:Received notification from DBMS server: {severity: WARNING} {code: Neo.ClientNotification.Statement.FeatureDeprecationWarning} {category: DEPRECATION} {title: This feature is deprecated and will be removed in future versions.} {description: CALL subquery without a variable scope clause is now deprecated. Use CALL (node, node) { ... }} {position: line: 3, column: 13, offset: 104} for query: \"CALL db.index.fulltext.queryNodes('entity', $query, {limit:2})\\n            YIELD node,score\\n            CALL {\\n              WITH node\\n              MATCH (node)-[r:!MENTIONS]->(neighbor)\\n              RETURN node.id + ' - ' + type(r) + ' -> ' + neighbor.id AS output\\n              UNION ALL\\n              WITH node\\n              MATCH (node)<-[r:!MENTIONS]-(neighbor)\\n              RETURN neighbor.id + ' - ' + type(r) + ' -> ' +  node.id AS output\\n            }\\n            RETURN output LIMIT 50\\n            \"\n",
            "WARNING:neo4j.notifications:Received notification from DBMS server: {severity: WARNING} {code: Neo.ClientNotification.Statement.FeatureDeprecationWarning} {category: DEPRECATION} {title: This feature is deprecated and will be removed in future versions.} {description: CALL subquery without a variable scope clause is now deprecated. Use CALL (node, node) { ... }} {position: line: 3, column: 13, offset: 104} for query: \"CALL db.index.fulltext.queryNodes('entity', $query, {limit:2})\\n            YIELD node,score\\n            CALL {\\n              WITH node\\n              MATCH (node)-[r:!MENTIONS]->(neighbor)\\n              RETURN node.id + ' - ' + type(r) + ' -> ' + neighbor.id AS output\\n              UNION ALL\\n              WITH node\\n              MATCH (node)<-[r:!MENTIONS]-(neighbor)\\n              RETURN neighbor.id + ' - ' + type(r) + ' -> ' +  node.id AS output\\n            }\\n            RETURN output LIMIT 50\\n            \"\n",
            "WARNING:neo4j.notifications:Received notification from DBMS server: {severity: WARNING} {code: Neo.ClientNotification.Statement.FeatureDeprecationWarning} {category: DEPRECATION} {title: This feature is deprecated and will be removed in future versions.} {description: CALL subquery without a variable scope clause is now deprecated. Use CALL () { ... }} {position: line: 1, column: 1, offset: 0} for query: \"CALL { CALL db.index.vector.queryNodes($index, $k, $embedding) YIELD node, score WITH collect({node:node, score:score}) AS nodes, max(score) AS max UNWIND nodes AS n RETURN n.node AS node, (n.score / max) AS score UNION CALL db.index.fulltext.queryNodes($keyword_index, $query, {limit: $k}) YIELD node, score WITH collect({node:node, score:score}) AS nodes, max(score) AS max UNWIND nodes AS n RETURN n.node AS node, (n.score / max) AS score } WITH node, max(score) AS score ORDER BY score DESC LIMIT $k RETURN reduce(str='', k IN ['text'] | str + '\\\\n' + k + ': ' + coalesce(node[k], '')) AS text, node {.*, `embeding`: Null, id: Null, `text`: Null} AS metadata, score\"\n"
          ]
        },
        {
          "output_type": "execute_result",
          "data": {
            "text/plain": [
              "\"Elizabeth II's mother, Queen Elizabeth The Queen Mother, had two children: Elizabeth II and Princess Margaret.\""
            ],
            "application/vnd.google.colaboratory.intrinsic+json": {
              "type": "string"
            }
          },
          "metadata": {},
          "execution_count": 92
        }
      ]
    },
    {
      "cell_type": "code",
      "source": [
        "from langchain_chroma import Chroma\n",
        "vectorstore=Chroma.from_documents(chunks,embedding=OpenAIEmbeddings())\n",
        "retriever=vectorstore.as_retriever()\n",
        "from langchain import hub\n",
        "prompt=hub.pull(\"rlm/rag-prompt\")"
      ],
      "metadata": {
        "id": "c-brslDHSfgP"
      },
      "execution_count": 100,
      "outputs": []
    },
    {
      "cell_type": "code",
      "source": [
        "chain.invoke({\n",
        "    \"question\":\"Who was the influencer of William Shakespeare?\"\n",
        "})"
      ],
      "metadata": {
        "colab": {
          "base_uri": "https://localhost:8080/",
          "height": 110
        },
        "id": "17G5gLJtL8un",
        "outputId": "2cf13700-4110-4aa0-eb8a-039c1b445a08"
      },
      "execution_count": 111,
      "outputs": [
        {
          "output_type": "stream",
          "name": "stdout",
          "text": [
            "Search query: Who was the influencer of William Shakespeare?\n"
          ]
        },
        {
          "output_type": "stream",
          "name": "stderr",
          "text": [
            "WARNING:neo4j.notifications:Received notification from DBMS server: {severity: WARNING} {code: Neo.ClientNotification.Statement.FeatureDeprecationWarning} {category: DEPRECATION} {title: This feature is deprecated and will be removed in future versions.} {description: CALL subquery without a variable scope clause is now deprecated. Use CALL (node, node) { ... }} {position: line: 3, column: 13, offset: 104} for query: \"CALL db.index.fulltext.queryNodes('entity', $query, {limit:2})\\n            YIELD node,score\\n            CALL {\\n              WITH node\\n              MATCH (node)-[r:!MENTIONS]->(neighbor)\\n              RETURN node.id + ' - ' + type(r) + ' -> ' + neighbor.id AS output\\n              UNION ALL\\n              WITH node\\n              MATCH (node)<-[r:!MENTIONS]-(neighbor)\\n              RETURN neighbor.id + ' - ' + type(r) + ' -> ' +  node.id AS output\\n            }\\n            RETURN output LIMIT 50\\n            \"\n",
            "WARNING:neo4j.notifications:Received notification from DBMS server: {severity: WARNING} {code: Neo.ClientNotification.Statement.FeatureDeprecationWarning} {category: DEPRECATION} {title: This feature is deprecated and will be removed in future versions.} {description: CALL subquery without a variable scope clause is now deprecated. Use CALL () { ... }} {position: line: 1, column: 1, offset: 0} for query: \"CALL { CALL db.index.vector.queryNodes($index, $k, $embedding) YIELD node, score WITH collect({node:node, score:score}) AS nodes, max(score) AS max UNWIND nodes AS n RETURN n.node AS node, (n.score / max) AS score UNION CALL db.index.fulltext.queryNodes($keyword_index, $query, {limit: $k}) YIELD node, score WITH collect({node:node, score:score}) AS nodes, max(score) AS max UNWIND nodes AS n RETURN n.node AS node, (n.score / max) AS score } WITH node, max(score) AS score ORDER BY score DESC LIMIT $k RETURN reduce(str='', k IN ['text'] | str + '\\\\n' + k + ': ' + coalesce(node[k], '')) AS text, node {.*, `embeding`: Null, id: Null, `text`: Null} AS metadata, score\"\n"
          ]
        },
        {
          "output_type": "execute_result",
          "data": {
            "text/plain": [
              "'James VI and I was the influencer of William Shakespeare.'"
            ],
            "application/vnd.google.colaboratory.intrinsic+json": {
              "type": "string"
            }
          },
          "metadata": {},
          "execution_count": 111
        }
      ]
    },
    {
      "cell_type": "code",
      "source": [
        "def format_docs(docs):\n",
        "    return \"\\n\\n\".join(doc.page_content for doc in docs)\n",
        "rag_chain=(\n",
        "    {\"context\": retriever | format_docs,\"question\":RunnablePassthrough()}\n",
        "    | prompt\n",
        "    | llm\n",
        "    |StrOutputParser()\n",
        ")\n",
        "rag_chain.invoke(\"Who was the influencer of William Shakespeare?\")"
      ],
      "metadata": {
        "colab": {
          "base_uri": "https://localhost:8080/",
          "height": 36
        },
        "id": "902QAw4XTEbx",
        "outputId": "492a1fb9-f80e-4926-8f24-3c08513d82c1"
      },
      "execution_count": 110,
      "outputs": [
        {
          "output_type": "execute_result",
          "data": {
            "text/plain": [
              "\"The retrieved context does not provide specific information about an influencer of William Shakespeare. Therefore, I don't know the answer.\""
            ],
            "application/vnd.google.colaboratory.intrinsic+json": {
              "type": "string"
            }
          },
          "metadata": {},
          "execution_count": 110
        }
      ]
    },
    {
      "cell_type": "code",
      "source": [
        "question='Who claimed the authority of Kingdom of France'"
      ],
      "metadata": {
        "id": "YVtMQemhTbWX"
      },
      "execution_count": 113,
      "outputs": []
    },
    {
      "cell_type": "markdown",
      "source": [
        "## Comparison of only vector based RAG and Hybrid Graph RAG"
      ],
      "metadata": {
        "id": "3G8myZenWYG-"
      }
    },
    {
      "cell_type": "markdown",
      "source": [
        "### Vector Based"
      ],
      "metadata": {
        "id": "prldqvMcWkA0"
      }
    },
    {
      "cell_type": "code",
      "source": [
        "rag_chain.invoke(\"question\")"
      ],
      "metadata": {
        "colab": {
          "base_uri": "https://localhost:8080/",
          "height": 36
        },
        "id": "wpaFVjwJWnQU",
        "outputId": "1044bbc9-bf06-456d-e16c-f08d45db3da6"
      },
      "execution_count": 114,
      "outputs": [
        {
          "output_type": "execute_result",
          "data": {
            "text/plain": [
              "\"I don't know.\""
            ],
            "application/vnd.google.colaboratory.intrinsic+json": {
              "type": "string"
            }
          },
          "metadata": {},
          "execution_count": 114
        }
      ]
    },
    {
      "cell_type": "markdown",
      "source": [
        "### Hybrid Graph RAG"
      ],
      "metadata": {
        "id": "HZBFB7kdW2bH"
      }
    },
    {
      "cell_type": "code",
      "source": [
        "chain.invoke({\n",
        "    \"question\":f\"{question}\"\n",
        "})"
      ],
      "metadata": {
        "colab": {
          "base_uri": "https://localhost:8080/",
          "height": 110
        },
        "id": "fJ6WxTcXWrTT",
        "outputId": "f6fda991-de2f-4eed-9b2e-e8450bdeb0ae"
      },
      "execution_count": 115,
      "outputs": [
        {
          "output_type": "stream",
          "name": "stdout",
          "text": [
            "Search query: Who claimed the authority of Kingdom of France\n"
          ]
        },
        {
          "output_type": "stream",
          "name": "stderr",
          "text": [
            "WARNING:neo4j.notifications:Received notification from DBMS server: {severity: WARNING} {code: Neo.ClientNotification.Statement.FeatureDeprecationWarning} {category: DEPRECATION} {title: This feature is deprecated and will be removed in future versions.} {description: CALL subquery without a variable scope clause is now deprecated. Use CALL (node, node) { ... }} {position: line: 3, column: 13, offset: 104} for query: \"CALL db.index.fulltext.queryNodes('entity', $query, {limit:2})\\n            YIELD node,score\\n            CALL {\\n              WITH node\\n              MATCH (node)-[r:!MENTIONS]->(neighbor)\\n              RETURN node.id + ' - ' + type(r) + ' -> ' + neighbor.id AS output\\n              UNION ALL\\n              WITH node\\n              MATCH (node)<-[r:!MENTIONS]-(neighbor)\\n              RETURN neighbor.id + ' - ' + type(r) + ' -> ' +  node.id AS output\\n            }\\n            RETURN output LIMIT 50\\n            \"\n",
            "WARNING:neo4j.notifications:Received notification from DBMS server: {severity: WARNING} {code: Neo.ClientNotification.Statement.FeatureDeprecationWarning} {category: DEPRECATION} {title: This feature is deprecated and will be removed in future versions.} {description: CALL subquery without a variable scope clause is now deprecated. Use CALL () { ... }} {position: line: 1, column: 1, offset: 0} for query: \"CALL { CALL db.index.vector.queryNodes($index, $k, $embedding) YIELD node, score WITH collect({node:node, score:score}) AS nodes, max(score) AS max UNWIND nodes AS n RETURN n.node AS node, (n.score / max) AS score UNION CALL db.index.fulltext.queryNodes($keyword_index, $query, {limit: $k}) YIELD node, score WITH collect({node:node, score:score}) AS nodes, max(score) AS max UNWIND nodes AS n RETURN n.node AS node, (n.score / max) AS score } WITH node, max(score) AS score ORDER BY score DESC LIMIT $k RETURN reduce(str='', k IN ['text'] | str + '\\\\n' + k + ': ' + coalesce(node[k], '')) AS text, node {.*, `embeding`: Null, id: Null, `text`: Null} AS metadata, score\"\n"
          ]
        },
        {
          "output_type": "execute_result",
          "data": {
            "text/plain": [
              "'Henry VIII claimed authority over the Kingdom of France.'"
            ],
            "application/vnd.google.colaboratory.intrinsic+json": {
              "type": "string"
            }
          },
          "metadata": {},
          "execution_count": 115
        }
      ]
    }
  ]
}